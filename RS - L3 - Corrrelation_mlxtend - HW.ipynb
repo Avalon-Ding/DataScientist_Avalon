{
 "cells": [
  {
   "cell_type": "code",
   "execution_count": null,
   "metadata": {},
   "outputs": [],
   "source": [
    "import pandas as pd\n",
    "import time\n",
    "\n",
    "# 数据加载\n",
    "data_marketbasket = pd.read_csv('C:\\\\Users\\\\ading\\\\Desktop\\\\Main Folder\\\\Avalon Ding\\\\Avalon Ding\\\\Kaikeba\\\\L3\\\\Market_Basket_Optimisation.csv', header = None)\n",
    "\n",
    "# 找到所有unique的items\n",
    "item_category = []\n",
    "for i in data_marketbasket.index:\n",
    "    for c in data_marketbasket.columns:\n",
    "        if data_marketbasket.loc[i,c] not in item_category:\n",
    "            item_category.append(data_marketbasket.loc[i,c])\n",
    "\n",
    "# 以这些unique items为列名，生成新的dataframe，index照搬原数据\n",
    "df_mktbasket = pd.DataFrame(index = data_marketbasket.index, columns = item_category)\n",
    "\n",
    "# 通过遍历原数据，用0，1填写新的dataframe\n",
    "for i in data_marketbasket.index:\n",
    "    for c in data_marketbasket.columns:\n",
    "        if data_marketbasket.loc[i,c] in item_category:\n",
    "            df_mktbasket.loc[i, '{}'.format(data_marketbasket.loc[i,c])] = 1\n",
    "df_mktbasket_clean = df_mktbasket.drop(columns='nan').fillna(0)\n",
    "\n",
    "# 采用mlxtend.frequent_patterns工具包\n",
    "def rule2_mkt():\n",
    "    from mlxtend.frequent_patterns import apriori\n",
    "    from mlxtend.frequent_patterns import association_rules\n",
    "    pd.options.display.max_columns=100\n",
    "    start = time.time()\n",
    "    frequent_itemsets = apriori(df_mktbasket_clean, min_support=0.02, use_colnames=True)\n",
    "    rules = association_rules(frequent_itemsets, metric=\"lift\", min_threshold=0.5)\n",
    "    print(\"频繁项集：\", frequent_itemsets)\n",
    "    print(\"关联规则：\", rules[ (rules['lift'] >= 1) & (rules['confidence'] >= 0.3) ])\n",
    "    #print(rules['confidence'])\n",
    "    end = time.time()\n",
    "    print(\"用时：\", end-start)\n",
    "    \n",
    "rule2_mkt()"
   ]
  }
 ],
 "metadata": {
  "kernelspec": {
   "display_name": "Python 3",
   "language": "python",
   "name": "python3"
  },
  "language_info": {
   "codemirror_mode": {
    "name": "ipython",
    "version": 3
   },
   "file_extension": ".py",
   "mimetype": "text/x-python",
   "name": "python",
   "nbconvert_exporter": "python",
   "pygments_lexer": "ipython3",
   "version": "3.7.3"
  }
 },
 "nbformat": 4,
 "nbformat_minor": 2
}
