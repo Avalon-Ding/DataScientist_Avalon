{
 "cells": [
  {
   "cell_type": "markdown",
   "metadata": {
    "run_control": {
     "frozen": false,
     "read_only": false
    }
   },
   "source": [
    "## 练习"
   ]
  },
  {
   "cell_type": "markdown",
   "metadata": {
    "run_control": {
     "frozen": false,
     "read_only": false
    }
   },
   "source": [
    "###  Quiz 1\n",
    "> \\# Save your name, age, gender, and the reasons you want to learn <br/>\n",
    "> \\# python into different variables and print them out. <br/>\n",
    "> \\# The result should like this:<br/>\n",
    "> \\# Name: Yijun<br/>\n",
    "> \\# Age: 25<br/>\n",
    "> \\# Reason:<br/>\n",
    "> \\# 1. ...<br/>\n",
    "> \\# 2. ...<br/>\n",
    "> \\# ...<br/>\n",
    "\n",
    "> \\# Your code below:"
   ]
  },
  {
   "cell_type": "code",
   "execution_count": null,
   "metadata": {
    "collapsed": true,
    "run_control": {
     "frozen": false,
     "read_only": false
    }
   },
   "outputs": [],
   "source": []
  },
  {
   "cell_type": "code",
   "execution_count": 16,
   "metadata": {
    "code_folding": [],
    "collapsed": false,
    "run_control": {
     "frozen": false,
     "read_only": false
    }
   },
   "outputs": [
    {
     "ename": "TypeError",
     "evalue": "not all arguments converted during string formatting",
     "output_type": "error",
     "traceback": [
      "\u001b[0;31m---------------------------------------------------------------------------\u001b[0m",
      "\u001b[0;31mTypeError\u001b[0m                                 Traceback (most recent call last)",
      "\u001b[0;32m<ipython-input-16-e86699d2be51>\u001b[0m in \u001b[0;36m<module>\u001b[0;34m()\u001b[0m\n\u001b[1;32m      3\u001b[0m \u001b[0mage\u001b[0m \u001b[0;34m=\u001b[0m \u001b[0;36m23\u001b[0m\u001b[0;34m\u001b[0m\u001b[0m\n\u001b[1;32m      4\u001b[0m \u001b[0mgender\u001b[0m \u001b[0;34m=\u001b[0m \u001b[0;34m\"Male\"\u001b[0m\u001b[0;34m\u001b[0m\u001b[0m\n\u001b[0;32m----> 5\u001b[0;31m \u001b[0;34m\"hello \"\u001b[0m \u001b[0;34m%\u001b[0m \u001b[0mage\u001b[0m\u001b[0;34m\u001b[0m\u001b[0m\n\u001b[0m",
      "\u001b[0;31mTypeError\u001b[0m: not all arguments converted during string formatting"
     ]
    }
   ],
   "source": [
    "# Answer:\n",
    "name = \"Your Name\"\n",
    "age = 23\n",
    "gender = \"Male\"\n",
    "\"hello {},{}\".format(name=age,age=name)"
   ]
  },
  {
   "cell_type": "markdown",
   "metadata": {
    "run_control": {
     "frozen": false,
     "read_only": false
    }
   },
   "source": [
    "### Quiz 2\n",
    "> \\# Calculate the result for the following formula<br/>\n",
    "> \\# and print them one by one: \\*\\*You should not calculate them yourself\\*\\*<br/>\n",
    "> \\#<br/>\n",
    "> \\# 21980 + 987345<br/>\n",
    "> \\# 4950782 - 2340985<br/>\n",
    "> \\# 3458 × 4390<br/>\n",
    "> \\# 9285 ÷ 5<br/>\n",
    "> \\# 234^21 (^ means power)<br/>\n",
    "> \\# the remainder of 98434 ÷ 456<br/>"
   ]
  },
  {
   "cell_type": "code",
   "execution_count": 23,
   "metadata": {
    "collapsed": false,
    "run_control": {
     "frozen": false,
     "read_only": false
    }
   },
   "outputs": [
    {
     "name": "stdout",
     "output_type": "stream",
     "text": [
      "3\n"
     ]
    }
   ],
   "source": [
    "print(10 % 7)"
   ]
  },
  {
   "cell_type": "code",
   "execution_count": null,
   "metadata": {
    "code_folding": [],
    "collapsed": true,
    "run_control": {
     "frozen": false,
     "read_only": false
    }
   },
   "outputs": [],
   "source": [
    "# Answer:\n",
    "print 21980 + 987345\n",
    "print 4950782 - 2340985\n",
    "print 3458 * 4390\n",
    "print 9285 / 5\n",
    "print 234 ** 21\n"
   ]
  },
  {
   "cell_type": "markdown",
   "metadata": {
    "run_control": {
     "frozen": false,
     "read_only": false
    }
   },
   "source": [
    "## Quiz 3\n",
    "What are the values for num1 and num2 for the following samples:"
   ]
  },
  {
   "cell_type": "markdown",
   "metadata": {
    "run_control": {
     "frozen": false,
     "read_only": false
    }
   },
   "source": [
    "#### Case 1:\n",
    ">```\n",
    "num1 = 1\n",
    "num2 = 2\n",
    "num2 = num1\n",
    "num1 = 10\n",
    "> ```"
   ]
  },
  {
   "cell_type": "code",
   "execution_count": 24,
   "metadata": {
    "collapsed": false
   },
   "outputs": [
    {
     "name": "stdout",
     "output_type": "stream",
     "text": [
      "1\n"
     ]
    }
   ],
   "source": [
    "num1 = 1\n",
    "num2 = 2\n",
    "num2 = num1\n",
    "num1 = 10\n",
    "print(num2)"
   ]
  },
  {
   "cell_type": "markdown",
   "metadata": {
    "run_control": {
     "frozen": false,
     "read_only": false
    }
   },
   "source": [
    "#### Case 2:\n",
    ">```\n",
    "num1 = 1\n",
    "num2 = 2\n",
    "num1 = num1 + num2\n",
    "```"
   ]
  },
  {
   "cell_type": "markdown",
   "metadata": {
    "run_control": {
     "frozen": false,
     "read_only": false
    }
   },
   "source": [
    "#### Case 3:\n",
    ">```\n",
    "num1 = 1\n",
    "num2 = 2\n",
    "num2 = num1\n",
    "num1 = num2\n",
    "```"
   ]
  },
  {
   "cell_type": "markdown",
   "metadata": {
    "run_control": {
     "frozen": false,
     "read_only": false
    }
   },
   "source": [
    "#### Case 4:\n",
    ">```\n",
    "num1 = 1\n",
    "num2 = 2\n",
    "temp = num1\n",
    "num1 = num2\n",
    "num2 = temp\n",
    "```"
   ]
  },
  {
   "cell_type": "markdown",
   "metadata": {
    "run_control": {
     "frozen": false,
     "read_only": false
    }
   },
   "source": [
    "#### Case 5:\n",
    ">```\n",
    "num1 = 1\n",
    "num2 = 2\n",
    "num1 = num2 * 4\n",
    "num2 = num1 * 3\n",
    "```"
   ]
  },
  {
   "cell_type": "code",
   "execution_count": null,
   "metadata": {
    "collapsed": true,
    "run_control": {
     "frozen": false,
     "read_only": false
    }
   },
   "outputs": [],
   "source": []
  },
  {
   "cell_type": "markdown",
   "metadata": {
    "run_control": {
     "frozen": false,
     "read_only": false
    }
   },
   "source": [
    "## Quiz4 (option*)"
   ]
  },
  {
   "cell_type": "code",
   "execution_count": null,
   "metadata": {
    "code_folding": [
     0
    ],
    "collapsed": true,
    "run_control": {
     "frozen": false,
     "read_only": false
    }
   },
   "outputs": [],
   "source": [
    "# What's the result for the following variables?\n",
    "var_basic_1 = (1.0/3.0) == 0.3333333\n",
    "var_basic_2 = True and True\n",
    "var_basic_3 = True and False\n",
    "var_basic_4 = True or False\n",
    "var_basic_5 = False or False\n",
    "var_basic_6 = True or True\n",
    "var_basic_7 = True == False\n",
    "var_basic_8 = False == False\n",
    "\n",
    "# What's the result for the following variables?\n",
    "var_and_1 = -5 <= 2 and 2 < -1\n",
    "var_and_2 = -5 >= 2 and 2 < -1\n",
    "var_and_3 = -5 <= 2 and 2 > -1\n",
    "\n",
    "# What's the result for the following variables?\n",
    "var_or_1 = -5 <= 2 or 2 < -1\n",
    "var_or_2 = -5 >= 2 or 2 < -1\n",
    "var_or_3 = -5 <= 2 or 2 > -1\n",
    "\n",
    "# What's the result for the following variables?\n",
    "var_not_1 = not (-5 < 2)\n",
    "var_not_2 = not (2 < -1)\n",
    "var_not_3 = not (-5 >= 2)\n",
    "var_not_4 = not (2 >= -1)\n",
    "\n",
    "# What's the result for the following variables?\n",
    "var_hard_1 = not (True and False)\n",
    "var_hard_2 = not (10 == 1 or 1000 == 1000)\n",
    "var_hard_3 = not (\"testing\" == \"testing\" and \"Zed\" == \"Cool Guy\")\n",
    "var_hard_4 = \"chunky\" == \"bacon\" and (not (3 == 4 or 3 == 3))\n",
    "var_hard_5 = 3 == 3 and (not (\"testing\" == \"testing\" or \"Python\" == \"Fun\"))"
   ]
  }
 ],
 "metadata": {
  "kernelspec": {
   "display_name": "Python 3",
   "language": "python",
   "name": "python3"
  },
  "language_info": {
   "codemirror_mode": {
    "name": "ipython",
    "version": 3
   },
   "file_extension": ".py",
   "mimetype": "text/x-python",
   "name": "python",
   "nbconvert_exporter": "python",
   "pygments_lexer": "ipython3",
   "version": "3.6.0"
  }
 },
 "nbformat": 4,
 "nbformat_minor": 2
}
