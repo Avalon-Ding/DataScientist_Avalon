{
 "cells": [
  {
   "cell_type": "code",
   "execution_count": 2,
   "metadata": {},
   "outputs": [
    {
     "name": "stdout",
     "output_type": "stream",
     "text": [
      "根据词频，开始生成词云!\n"
     ]
    },
    {
     "data": {
      "text/plain": [
       "<Figure size 640x480 with 1 Axes>"
      ]
     },
     "metadata": {},
     "output_type": "display_data"
    }
   ],
   "source": [
    "# -*- coding:utf-8 -*-\n",
    "# 词云展示\n",
    "from wordcloud import WordCloud\n",
    "import pandas as pd\n",
    "import matplotlib.pyplot as plt\n",
    "from PIL import Image\n",
    "import numpy as np\n",
    "from lxml import etree\n",
    "from nltk.tokenize import word_tokenize\n",
    "\n",
    "# 去掉停用词\n",
    "def remove_stop_words(f):\n",
    "    stop_words = ['Movie']\n",
    "    for stop_word in stop_words:\n",
    "        f = f.replace(stop_word, '')\n",
    "    return f\n",
    "\n",
    "# 生成词云\n",
    "def create_word_cloud(f):\n",
    "    print('根据词频，开始生成词云!')\n",
    "    f = remove_stop_words(f)\n",
    "    cut_text = word_tokenize(f)\n",
    "    #print(cut_text)\n",
    "    cut_text = \" \".join(cut_text)\n",
    "    wc = WordCloud(\n",
    "        max_words=100,\n",
    "        width=2000,\n",
    "        height=1200,\n",
    "    )\n",
    "    wordcloud = wc.generate(cut_text)\n",
    "    # 写词云图片\n",
    "    wordcloud.to_file(\"wordcloud.jpg\")\n",
    "    # 显示词云文件\n",
    "    plt.imshow(wordcloud)\n",
    "    plt.axis(\"off\")\n",
    "    plt.show()\n",
    "\n",
    "# 数据加载\n",
    "data = pd.read_csv('C:\\\\Users\\\\ading\\\\Desktop\\\\Main Folder\\\\Avalon Ding\\\\Avalon Ding\\\\Kaikeba\\\\L3\\\\movies.csv')\n",
    "# 读取title 和 genres字段\n",
    "title = \" \".join(data['title'])\n",
    "genres = \" \".join(data['genres'])\n",
    "all_word = title + genres\n",
    "# 生成词云\n",
    "create_word_cloud(all_word)"
   ]
  },
  {
   "cell_type": "code",
   "execution_count": 5,
   "metadata": {},
   "outputs": [],
   "source": [
    "# 数据加载\n",
    "data = pd.read_csv('C:\\\\Users\\\\ading\\\\Desktop\\\\Main Folder\\\\Avalon Ding\\\\Avalon Ding\\\\Kaikeba\\\\L3\\\\movies.csv')\n",
    "# 读取title 和 genres字段\n",
    "title = \" \".join(data['title'])\n",
    "genres = \" \".join(data['genres'])\n",
    "all_word = title + genres"
   ]
  },
  {
   "cell_type": "code",
   "execution_count": 6,
   "metadata": {},
   "outputs": [
    {
     "data": {
      "text/plain": [
       "str"
      ]
     },
     "execution_count": 6,
     "metadata": {},
     "output_type": "execute_result"
    }
   ],
   "source": [
    "type(title)"
   ]
  },
  {
   "cell_type": "code",
   "execution_count": 9,
   "metadata": {},
   "outputs": [
    {
     "data": {
      "text/plain": [
       "'Toy Story (1995) Jumanji (1995) Grumpier Old Men (1995) Waiting to Exhale (1995) Father of the Bride'"
      ]
     },
     "execution_count": 9,
     "metadata": {},
     "output_type": "execute_result"
    }
   ],
   "source": [
    "title[0:100]"
   ]
  },
  {
   "cell_type": "code",
   "execution_count": 22,
   "metadata": {},
   "outputs": [
    {
     "data": {
      "text/plain": [
       "'r'"
      ]
     },
     "execution_count": 22,
     "metadata": {},
     "output_type": "execute_result"
    }
   ],
   "source": [
    "genres[-4]"
   ]
  },
  {
   "cell_type": "code",
   "execution_count": 23,
   "metadata": {},
   "outputs": [
    {
     "data": {
      "text/html": [
       "<div>\n",
       "<style scoped>\n",
       "    .dataframe tbody tr th:only-of-type {\n",
       "        vertical-align: middle;\n",
       "    }\n",
       "\n",
       "    .dataframe tbody tr th {\n",
       "        vertical-align: top;\n",
       "    }\n",
       "\n",
       "    .dataframe thead th {\n",
       "        text-align: right;\n",
       "    }\n",
       "</style>\n",
       "<table border=\"1\" class=\"dataframe\">\n",
       "  <thead>\n",
       "    <tr style=\"text-align: right;\">\n",
       "      <th></th>\n",
       "      <th>movieId</th>\n",
       "      <th>title</th>\n",
       "      <th>genres</th>\n",
       "    </tr>\n",
       "  </thead>\n",
       "  <tbody>\n",
       "    <tr>\n",
       "      <th>27273</th>\n",
       "      <td>131254</td>\n",
       "      <td>Kein Bund für's Leben (2007)</td>\n",
       "      <td>Comedy</td>\n",
       "    </tr>\n",
       "    <tr>\n",
       "      <th>27274</th>\n",
       "      <td>131256</td>\n",
       "      <td>Feuer, Eis &amp; Dosenbier (2002)</td>\n",
       "      <td>Comedy</td>\n",
       "    </tr>\n",
       "    <tr>\n",
       "      <th>27275</th>\n",
       "      <td>131258</td>\n",
       "      <td>The Pirates (2014)</td>\n",
       "      <td>Adventure</td>\n",
       "    </tr>\n",
       "    <tr>\n",
       "      <th>27276</th>\n",
       "      <td>131260</td>\n",
       "      <td>Rentun Ruusu (2001)</td>\n",
       "      <td>(no genres listed)</td>\n",
       "    </tr>\n",
       "    <tr>\n",
       "      <th>27277</th>\n",
       "      <td>131262</td>\n",
       "      <td>Innocence (2014)</td>\n",
       "      <td>Adventure|Fantasy|Horror</td>\n",
       "    </tr>\n",
       "  </tbody>\n",
       "</table>\n",
       "</div>"
      ],
      "text/plain": [
       "       movieId                          title                    genres\n",
       "27273   131254   Kein Bund für's Leben (2007)                    Comedy\n",
       "27274   131256  Feuer, Eis & Dosenbier (2002)                    Comedy\n",
       "27275   131258             The Pirates (2014)                 Adventure\n",
       "27276   131260            Rentun Ruusu (2001)        (no genres listed)\n",
       "27277   131262               Innocence (2014)  Adventure|Fantasy|Horror"
      ]
     },
     "execution_count": 23,
     "metadata": {},
     "output_type": "execute_result"
    }
   ],
   "source": [
    "data.tail()"
   ]
  },
  {
   "cell_type": "code",
   "execution_count": 46,
   "metadata": {},
   "outputs": [],
   "source": [
    "cut_text = word_tokenize(all_word)\n",
    "#cut_text = \" \".join(cut_text)"
   ]
  },
  {
   "cell_type": "code",
   "execution_count": 29,
   "metadata": {},
   "outputs": [
    {
     "data": {
      "text/plain": [
       "1194183"
      ]
     },
     "execution_count": 29,
     "metadata": {},
     "output_type": "execute_result"
    }
   ],
   "source": [
    "len(title)+len(genres)"
   ]
  },
  {
   "cell_type": "code",
   "execution_count": 33,
   "metadata": {},
   "outputs": [
    {
     "data": {
      "text/plain": [
       "231479"
      ]
     },
     "execution_count": 33,
     "metadata": {},
     "output_type": "execute_result"
    }
   ],
   "source": [
    "len(cut_text)"
   ]
  },
  {
   "cell_type": "code",
   "execution_count": 45,
   "metadata": {},
   "outputs": [
    {
     "data": {
      "text/plain": [
       "'omedy|Romance Comedy Comedy|Drama Comedy|Romance Animation|Comedy Adventure|Animation|Children|Comedy|Fantasy Comedy Comedy|Horror Comedy Comedy Adventure ( no genres listed ) Adventure|Fantasy|Horror'"
      ]
     },
     "execution_count": 45,
     "metadata": {},
     "output_type": "execute_result"
    }
   ],
   "source": [
    "cut_text[-200:]"
   ]
  },
  {
   "cell_type": "code",
   "execution_count": 47,
   "metadata": {},
   "outputs": [
    {
     "data": {
      "text/plain": [
       "'Toy Story (1995) Jumanji (1995) Grumpier Old Men (1995) Waiting to Exhale (1995) Father of the Bride'"
      ]
     },
     "execution_count": 47,
     "metadata": {},
     "output_type": "execute_result"
    }
   ],
   "source": [
    "all_word[0:100]"
   ]
  },
  {
   "cell_type": "code",
   "execution_count": 48,
   "metadata": {
    "collapsed": true
   },
   "outputs": [
    {
     "data": {
      "text/plain": [
       "['Toy',\n",
       " 'Story',\n",
       " '(',\n",
       " '1995',\n",
       " ')',\n",
       " 'Jumanji',\n",
       " '(',\n",
       " '1995',\n",
       " ')',\n",
       " 'Grumpier',\n",
       " 'Old',\n",
       " 'Men',\n",
       " '(',\n",
       " '1995',\n",
       " ')',\n",
       " 'Waiting',\n",
       " 'to',\n",
       " 'Exhale',\n",
       " '(',\n",
       " '1995',\n",
       " ')',\n",
       " 'Father',\n",
       " 'of',\n",
       " 'the',\n",
       " 'Bride',\n",
       " 'Part',\n",
       " 'II',\n",
       " '(',\n",
       " '1995',\n",
       " ')',\n",
       " 'Heat',\n",
       " '(',\n",
       " '1995',\n",
       " ')',\n",
       " 'Sabrina',\n",
       " '(',\n",
       " '1995',\n",
       " ')',\n",
       " 'Tom',\n",
       " 'and',\n",
       " 'Huck',\n",
       " '(',\n",
       " '1995',\n",
       " ')',\n",
       " 'Sudden',\n",
       " 'Death',\n",
       " '(',\n",
       " '1995',\n",
       " ')',\n",
       " 'GoldenEye',\n",
       " '(',\n",
       " '1995',\n",
       " ')',\n",
       " 'American',\n",
       " 'President',\n",
       " ',',\n",
       " 'The',\n",
       " '(',\n",
       " '1995',\n",
       " ')',\n",
       " 'Dracula',\n",
       " ':',\n",
       " 'Dead',\n",
       " 'and',\n",
       " 'Loving',\n",
       " 'It',\n",
       " '(',\n",
       " '1995',\n",
       " ')',\n",
       " 'Balto',\n",
       " '(',\n",
       " '1995',\n",
       " ')',\n",
       " 'Nixon',\n",
       " '(',\n",
       " '1995',\n",
       " ')',\n",
       " 'Cutthroat',\n",
       " 'Island',\n",
       " '(',\n",
       " '1995',\n",
       " ')',\n",
       " 'Casino',\n",
       " '(',\n",
       " '1995',\n",
       " ')',\n",
       " 'Sense',\n",
       " 'and',\n",
       " 'Sensibility',\n",
       " '(',\n",
       " '1995',\n",
       " ')',\n",
       " 'Four',\n",
       " 'Rooms',\n",
       " '(',\n",
       " '1995',\n",
       " ')',\n",
       " 'Ace',\n",
       " 'Ventura',\n",
       " ':']"
      ]
     },
     "execution_count": 48,
     "metadata": {},
     "output_type": "execute_result"
    }
   ],
   "source": [
    "cut_text[0:100]"
   ]
  },
  {
   "cell_type": "code",
   "execution_count": 49,
   "metadata": {},
   "outputs": [],
   "source": [
    "def remove_stop_words(f):\n",
    "    stop_words = ['Movie']\n",
    "    for stop_word in stop_words:\n",
    "        f = f.replace(stop_word, '')\n",
    "    return f\n",
    "\n",
    "# 数据加载\n",
    "data = pd.read_csv('C:\\\\Users\\\\ading\\\\Desktop\\\\Main Folder\\\\Avalon Ding\\\\Avalon Ding\\\\Kaikeba\\\\L3\\\\movies.csv')\n",
    "# 读取title 和 genres字段\n",
    "title = \" \".join(data['title'])\n",
    "genres = \" \".join(data['genres'])\n",
    "all_word = title + genres\n",
    "\n",
    "f = remove_stop_words(all_word)\n",
    "cut_text = word_tokenize(f)\n",
    "#print(cut_text)\n",
    "cut_text_joined = \" \".join(cut_text)"
   ]
  },
  {
   "cell_type": "code",
   "execution_count": 50,
   "metadata": {},
   "outputs": [
    {
     "data": {
      "text/plain": [
       "'Toy Story (1995) Jumanji (1995) Grumpier Old Men (1995) Waiting to Exhale (1995) Father of the Bride'"
      ]
     },
     "execution_count": 50,
     "metadata": {},
     "output_type": "execute_result"
    }
   ],
   "source": [
    "all_word[0:100]"
   ]
  },
  {
   "cell_type": "code",
   "execution_count": 52,
   "metadata": {},
   "outputs": [
    {
     "data": {
      "text/plain": [
       "1194183"
      ]
     },
     "execution_count": 52,
     "metadata": {},
     "output_type": "execute_result"
    }
   ],
   "source": [
    "len(all_word)"
   ]
  },
  {
   "cell_type": "code",
   "execution_count": 51,
   "metadata": {},
   "outputs": [
    {
     "data": {
      "text/plain": [
       "'Toy Story (1995) Jumanji (1995) Grumpier Old Men (1995) Waiting to Exhale (1995) Father of the Bride'"
      ]
     },
     "execution_count": 51,
     "metadata": {},
     "output_type": "execute_result"
    }
   ],
   "source": [
    "f[0:100]"
   ]
  },
  {
   "cell_type": "code",
   "execution_count": 56,
   "metadata": {},
   "outputs": [
    {
     "data": {
      "text/plain": [
       "'Toy Story ( 1995 ) Jumanji ( 1995 ) Grumpier Old Men ( 1995 ) Waiting to Exhale ( 1995 ) Father of t'"
      ]
     },
     "execution_count": 56,
     "metadata": {},
     "output_type": "execute_result"
    }
   ],
   "source": [
    "cut_text_joined[0:100]"
   ]
  },
  {
   "cell_type": "code",
   "execution_count": null,
   "metadata": {},
   "outputs": [],
   "source": []
  }
 ],
 "metadata": {
  "kernelspec": {
   "display_name": "Python 3",
   "language": "python",
   "name": "python3"
  },
  "language_info": {
   "codemirror_mode": {
    "name": "ipython",
    "version": 3
   },
   "file_extension": ".py",
   "mimetype": "text/x-python",
   "name": "python",
   "nbconvert_exporter": "python",
   "pygments_lexer": "ipython3",
   "version": "3.7.3"
  }
 },
 "nbformat": 4,
 "nbformat_minor": 2
}
