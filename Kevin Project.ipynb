{
 "cells": [
  {
   "cell_type": "code",
   "execution_count": 1,
   "metadata": {},
   "outputs": [],
   "source": [
    "import pandas as pd\n",
    "import sys\n",
    "import matplotlib\n",
    "import numpy as np\n",
    "import scipy as sp\n",
    "import sklearn\n",
    "import datetime\n",
    "from datetime import timedelta\n",
    "import matplotlib.pyplot as plt"
   ]
  },
  {
   "cell_type": "code",
   "execution_count": 2,
   "metadata": {},
   "outputs": [],
   "source": [
    "kevin_testing_old = pd.read_csv(\"C:\\\\Users\\\\ading\\\\Desktop\\\\Main Folder\\\\Avalon Ding\\\\Main folder\\\\2018-19\\\\For Kevin\\\\all_data_0524_old_posts.csv\",header=0, index_col=0)\n",
    "kevin_testing_1 = pd.read_excel(\"C:\\\\Users\\\\ading\\\\Desktop\\\\Main Folder\\\\Avalon Ding\\\\Main folder\\\\2018-19\\\\For Kevin\\\\all_data_0530.xlsx\",header=0, index_col=0)\n",
    "kevin_testing_2 = pd.read_excel(\"C:\\\\Users\\\\ading\\\\Desktop\\\\Main Folder\\\\Avalon Ding\\\\Main folder\\\\2018-19\\\\For Kevin\\\\all_data_0611.xlsx\",header=0, index_col=0)"
   ]
  },
  {
   "cell_type": "code",
   "execution_count": 3,
   "metadata": {},
   "outputs": [],
   "source": [
    "def engagement(x):\n",
    "    if x == 1 :\n",
    "        return 'repost'\n",
    "    else:\n",
    "        return 'comment'\n",
    "    \n",
    "kevin_testing_old['engagement'] = np.array([engagement(x) for x in kevin_testing_old['repost']])\n",
    "kevin_testing_1['engagement'] = np.array([engagement(x) for x in kevin_testing_1['repost']])\n",
    "kevin_testing_2['engagement'] = np.array([engagement(x) for x in kevin_testing_2['repost']])"
   ]
  },
  {
   "cell_type": "code",
   "execution_count": 4,
   "metadata": {},
   "outputs": [
    {
     "name": "stdout",
     "output_type": "stream",
     "text": [
      "comment    1776\n",
      "repost     1596\n",
      "Name: engagement, dtype: int64\n",
      "comment    1378\n",
      "repost      868\n",
      "Name: engagement, dtype: int64\n",
      "comment    844\n",
      "repost     540\n",
      "Name: engagement, dtype: int64\n"
     ]
    }
   ],
   "source": [
    "print (kevin_testing_old.engagement.value_counts())\n",
    "print (kevin_testing_1.engagement.value_counts())\n",
    "print (kevin_testing_2.engagement.value_counts())"
   ]
  },
  {
   "cell_type": "code",
   "execution_count": 5,
   "metadata": {},
   "outputs": [],
   "source": [
    "kevin_testing_old = kevin_testing_old[kevin_testing_old.gender != 'not contain this var']\n",
    "kevin_testing_1 = kevin_testing_1[kevin_testing_1.gender != 'not contain this var']\n",
    "kevin_testing_2 = kevin_testing_2[kevin_testing_2.gender != 'not contain this var']"
   ]
  },
  {
   "cell_type": "code",
   "execution_count": 34,
   "metadata": {},
   "outputs": [],
   "source": [
    "kevin_testing_old_gender_by_engagement = pd.pivot_table(kevin_testing_old,index='engagement',columns='gender',values='id',aggfunc='count',margins=True)\n",
    "\n",
    "for x in kevin_testing_old_gender_by_engagement.columns:\n",
    "    kevin_testing_old_gender_by_engagement[x+'_%'] = kevin_testing_old_gender_by_engagement[x]/kevin_testing_old_gender_by_engagement.All*100  \n",
    "    \n",
    "kevin_testing_1_gender_by_engagement = pd.pivot_table(kevin_testing_1,index='engagement',columns='gender',values='id',aggfunc='count',margins=True)\n",
    "\n",
    "for x in kevin_testing_1_gender_by_engagement.columns:\n",
    "    kevin_testing_1_gender_by_engagement[x+'_%'] = kevin_testing_1_gender_by_engagement[x]/kevin_testing_1_gender_by_engagement.All*100\n",
    "\n",
    "kevin_testing_2_gender_by_engagement = pd.pivot_table(kevin_testing_2,index='engagement',columns='gender',values='id',aggfunc='count',margins=True)\n",
    "\n",
    "for x in kevin_testing_2_gender_by_engagement.columns:\n",
    "    kevin_testing_2_gender_by_engagement[x+'_%'] = kevin_testing_2_gender_by_engagement[x]/kevin_testing_2_gender_by_engagement.All*100  "
   ]
  },
  {
   "cell_type": "code",
   "execution_count": 35,
   "metadata": {},
   "outputs": [
    {
     "name": "stdout",
     "output_type": "stream",
     "text": [
      "gender        f     m   All        f_%        m_%  All_%\n",
      "engagement                                              \n",
      "comment     438  1329  1767  24.787776  75.212224  100.0\n",
      "repost      374  1218  1592  23.492462  76.507538  100.0\n",
      "All         812  2547  3359  24.173861  75.826139  100.0\n",
      "gender        f     m   All        f_%        m_%  All_%\n",
      "engagement                                              \n",
      "comment     209  1155  1364  15.322581  84.677419  100.0\n",
      "repost      146   721   867  16.839677  83.160323  100.0\n",
      "All         355  1876  2231  15.912147  84.087853  100.0\n",
      "gender        f     m   All        f_%        m_%  All_%\n",
      "engagement                                              \n",
      "comment     107   737   844  12.677725  87.322275  100.0\n",
      "repost       91   449   540  16.851852  83.148148  100.0\n",
      "All         198  1186  1384  14.306358  85.693642  100.0\n"
     ]
    }
   ],
   "source": [
    "print (kevin_testing_old_gender_by_engagement)\n",
    "print (kevin_testing_1_gender_by_engagement)\n",
    "print (kevin_testing_2_gender_by_engagement)"
   ]
  },
  {
   "cell_type": "code",
   "execution_count": 36,
   "metadata": {},
   "outputs": [],
   "source": [
    "kevin_testing_old = kevin_testing_old.loc[:,['weibo_content','gender','engagement','weibo_tags']]\n",
    "kevin_testing_1 = kevin_testing_1.loc[:,['weibo_content','gender','engagement','weibo_tags']]\n",
    "kevin_testing_2 = kevin_testing_2.loc[:,['weibo_content','gender','engagement','weibo_tags']]"
   ]
  },
  {
   "cell_type": "code",
   "execution_count": 37,
   "metadata": {},
   "outputs": [
    {
     "data": {
      "text/plain": [
       "(6974, 4)"
      ]
     },
     "execution_count": 37,
     "metadata": {},
     "output_type": "execute_result"
    }
   ],
   "source": [
    "kevin_testing = pd.concat((kevin_testing_old, kevin_testing_1, kevin_testing_2), axis = 0)\n",
    "kevin_testing.shape"
   ]
  },
  {
   "cell_type": "code",
   "execution_count": 38,
   "metadata": {},
   "outputs": [],
   "source": [
    "#add column for content tags\n",
    "def content_tag(ct):\n",
    "    if ct == '24秒' :\n",
    "        return '24 Seconds'\n",
    "    if ct == '#24秒#' :\n",
    "        return '24 Seconds'\n",
    "    if ct == 'NBA回放' :\n",
    "        return 'NBA Playback'\n",
    "    if ct == 'NBA字典' :\n",
    "        return 'Talking NBA (locally produced versions)'\n",
    "    if ct == 'NBA快知识' :\n",
    "        return 'Fast Facts'\n",
    "    if ct == 'NBA故事' :\n",
    "        return 'NBA Gushi'\n",
    "    if ct == 'NBA星级食谱' :\n",
    "        return 'NBA Foodie'\n",
    "    if ct == '炒冷FUN' :\n",
    "        return 'TBT'\n",
    "    if ct == '#NBA星级食谱#' :\n",
    "        return 'NBA Foodie'\n",
    "    if ct == '#炒冷FUN#' :\n",
    "        return 'TBT'\n",
    "    if ct == '#TBT' :\n",
    "        return 'TBT'\n",
    "    if ct == '#球迷的旅行指南#' :\n",
    "        return 'Travel with KOL'\n",
    "    if ct == '#NoLookBox#' :\n",
    "        return 'NoLookBox'\n",
    "    if ct == '#NBA回放#' :\n",
    "        return 'NBA Playback'\n",
    "    if ct == '球员档案：伦纳德' :\n",
    "        return 'Player Documentary'\n",
    "    if ct == '哈登后撤步教学' :\n",
    "        return 'Coaching'\n",
    "    if ct == '班巴带你逛五金店' :\n",
    "        return 'Travel with Player'\n",
    "    if ct == '巴恩斯印度行' :\n",
    "        return 'Travel with Player'\n",
    "    if ct == '了解杰伦-布朗的精神世界' :\n",
    "        return 'Player Documentary'\n",
    "    else:\n",
    "        return ct\n",
    "    \n",
    "kevin_testing['content_tag'] = np.array([content_tag(x) for x in kevin_testing['weibo_tags']])"
   ]
  },
  {
   "cell_type": "code",
   "execution_count": 39,
   "metadata": {},
   "outputs": [
    {
     "data": {
      "text/plain": [
       "Fast Facts                                 1756\n",
       "NBA Foodie                                  823\n",
       "TBT                                         760\n",
       "Coaching                                    627\n",
       "NBA Gushi                                   536\n",
       "Player Documentary                          396\n",
       "Hum A Chinese Song                          345\n",
       "Talking NBA (locally produced versions)     335\n",
       "24 Seconds                                  284\n",
       "NBA Playback                                248\n",
       "Ask Me Anything                             177\n",
       "NoLookBox                                   149\n",
       "Player Dancing w/ Trendy Music              148\n",
       "Travel with KOL                             123\n",
       "Travel with Player                          107\n",
       "NBA Court Talk                               88\n",
       "NBA Signature Moves                          72\n",
       "Name: content_tag, dtype: int64"
      ]
     },
     "execution_count": 39,
     "metadata": {},
     "output_type": "execute_result"
    }
   ],
   "source": [
    "kevin_testing.content_tag.value_counts()"
   ]
  },
  {
   "cell_type": "code",
   "execution_count": 40,
   "metadata": {},
   "outputs": [
    {
     "data": {
      "text/html": [
       "<div>\n",
       "<style scoped>\n",
       "    .dataframe tbody tr th:only-of-type {\n",
       "        vertical-align: middle;\n",
       "    }\n",
       "\n",
       "    .dataframe tbody tr th {\n",
       "        vertical-align: top;\n",
       "    }\n",
       "\n",
       "    .dataframe thead th {\n",
       "        text-align: right;\n",
       "    }\n",
       "</style>\n",
       "<table border=\"1\" class=\"dataframe\">\n",
       "  <thead>\n",
       "    <tr style=\"text-align: right;\">\n",
       "      <th>gender</th>\n",
       "      <th>f</th>\n",
       "      <th>m</th>\n",
       "      <th>All</th>\n",
       "      <th>f_%</th>\n",
       "      <th>m_%</th>\n",
       "      <th>All_%</th>\n",
       "    </tr>\n",
       "    <tr>\n",
       "      <th>content_tag</th>\n",
       "      <th></th>\n",
       "      <th></th>\n",
       "      <th></th>\n",
       "      <th></th>\n",
       "      <th></th>\n",
       "      <th></th>\n",
       "    </tr>\n",
       "  </thead>\n",
       "  <tbody>\n",
       "    <tr>\n",
       "      <th>24 Seconds</th>\n",
       "      <td>26</td>\n",
       "      <td>258</td>\n",
       "      <td>284</td>\n",
       "      <td>9.154930</td>\n",
       "      <td>90.845070</td>\n",
       "      <td>100.0</td>\n",
       "    </tr>\n",
       "    <tr>\n",
       "      <th>Ask Me Anything</th>\n",
       "      <td>49</td>\n",
       "      <td>128</td>\n",
       "      <td>177</td>\n",
       "      <td>27.683616</td>\n",
       "      <td>72.316384</td>\n",
       "      <td>100.0</td>\n",
       "    </tr>\n",
       "    <tr>\n",
       "      <th>Coaching</th>\n",
       "      <td>57</td>\n",
       "      <td>570</td>\n",
       "      <td>627</td>\n",
       "      <td>9.090909</td>\n",
       "      <td>90.909091</td>\n",
       "      <td>100.0</td>\n",
       "    </tr>\n",
       "    <tr>\n",
       "      <th>Fast Facts</th>\n",
       "      <td>439</td>\n",
       "      <td>1317</td>\n",
       "      <td>1756</td>\n",
       "      <td>25.000000</td>\n",
       "      <td>75.000000</td>\n",
       "      <td>100.0</td>\n",
       "    </tr>\n",
       "    <tr>\n",
       "      <th>Hum A Chinese Song</th>\n",
       "      <td>162</td>\n",
       "      <td>183</td>\n",
       "      <td>345</td>\n",
       "      <td>46.956522</td>\n",
       "      <td>53.043478</td>\n",
       "      <td>100.0</td>\n",
       "    </tr>\n",
       "    <tr>\n",
       "      <th>NBA Court Talk</th>\n",
       "      <td>10</td>\n",
       "      <td>78</td>\n",
       "      <td>88</td>\n",
       "      <td>11.363636</td>\n",
       "      <td>88.636364</td>\n",
       "      <td>100.0</td>\n",
       "    </tr>\n",
       "    <tr>\n",
       "      <th>NBA Foodie</th>\n",
       "      <td>166</td>\n",
       "      <td>657</td>\n",
       "      <td>823</td>\n",
       "      <td>20.170109</td>\n",
       "      <td>79.829891</td>\n",
       "      <td>100.0</td>\n",
       "    </tr>\n",
       "    <tr>\n",
       "      <th>NBA Gushi</th>\n",
       "      <td>93</td>\n",
       "      <td>443</td>\n",
       "      <td>536</td>\n",
       "      <td>17.350746</td>\n",
       "      <td>82.649254</td>\n",
       "      <td>100.0</td>\n",
       "    </tr>\n",
       "    <tr>\n",
       "      <th>NBA Playback</th>\n",
       "      <td>20</td>\n",
       "      <td>228</td>\n",
       "      <td>248</td>\n",
       "      <td>8.064516</td>\n",
       "      <td>91.935484</td>\n",
       "      <td>100.0</td>\n",
       "    </tr>\n",
       "    <tr>\n",
       "      <th>NBA Signature Moves</th>\n",
       "      <td>14</td>\n",
       "      <td>58</td>\n",
       "      <td>72</td>\n",
       "      <td>19.444444</td>\n",
       "      <td>80.555556</td>\n",
       "      <td>100.0</td>\n",
       "    </tr>\n",
       "    <tr>\n",
       "      <th>NoLookBox</th>\n",
       "      <td>31</td>\n",
       "      <td>118</td>\n",
       "      <td>149</td>\n",
       "      <td>20.805369</td>\n",
       "      <td>79.194631</td>\n",
       "      <td>100.0</td>\n",
       "    </tr>\n",
       "    <tr>\n",
       "      <th>Player Dancing w/ Trendy Music</th>\n",
       "      <td>55</td>\n",
       "      <td>93</td>\n",
       "      <td>148</td>\n",
       "      <td>37.162162</td>\n",
       "      <td>62.837838</td>\n",
       "      <td>100.0</td>\n",
       "    </tr>\n",
       "    <tr>\n",
       "      <th>Player Documentary</th>\n",
       "      <td>59</td>\n",
       "      <td>337</td>\n",
       "      <td>396</td>\n",
       "      <td>14.898990</td>\n",
       "      <td>85.101010</td>\n",
       "      <td>100.0</td>\n",
       "    </tr>\n",
       "    <tr>\n",
       "      <th>TBT</th>\n",
       "      <td>100</td>\n",
       "      <td>660</td>\n",
       "      <td>760</td>\n",
       "      <td>13.157895</td>\n",
       "      <td>86.842105</td>\n",
       "      <td>100.0</td>\n",
       "    </tr>\n",
       "    <tr>\n",
       "      <th>Talking NBA (locally produced versions)</th>\n",
       "      <td>49</td>\n",
       "      <td>286</td>\n",
       "      <td>335</td>\n",
       "      <td>14.626866</td>\n",
       "      <td>85.373134</td>\n",
       "      <td>100.0</td>\n",
       "    </tr>\n",
       "    <tr>\n",
       "      <th>Travel with KOL</th>\n",
       "      <td>18</td>\n",
       "      <td>105</td>\n",
       "      <td>123</td>\n",
       "      <td>14.634146</td>\n",
       "      <td>85.365854</td>\n",
       "      <td>100.0</td>\n",
       "    </tr>\n",
       "    <tr>\n",
       "      <th>Travel with Player</th>\n",
       "      <td>17</td>\n",
       "      <td>90</td>\n",
       "      <td>107</td>\n",
       "      <td>15.887850</td>\n",
       "      <td>84.112150</td>\n",
       "      <td>100.0</td>\n",
       "    </tr>\n",
       "    <tr>\n",
       "      <th>All</th>\n",
       "      <td>1365</td>\n",
       "      <td>5609</td>\n",
       "      <td>6974</td>\n",
       "      <td>19.572699</td>\n",
       "      <td>80.427301</td>\n",
       "      <td>100.0</td>\n",
       "    </tr>\n",
       "  </tbody>\n",
       "</table>\n",
       "</div>"
      ],
      "text/plain": [
       "gender                                      f     m   All        f_%  \\\n",
       "content_tag                                                            \n",
       "24 Seconds                                 26   258   284   9.154930   \n",
       "Ask Me Anything                            49   128   177  27.683616   \n",
       "Coaching                                   57   570   627   9.090909   \n",
       "Fast Facts                                439  1317  1756  25.000000   \n",
       "Hum A Chinese Song                        162   183   345  46.956522   \n",
       "NBA Court Talk                             10    78    88  11.363636   \n",
       "NBA Foodie                                166   657   823  20.170109   \n",
       "NBA Gushi                                  93   443   536  17.350746   \n",
       "NBA Playback                               20   228   248   8.064516   \n",
       "NBA Signature Moves                        14    58    72  19.444444   \n",
       "NoLookBox                                  31   118   149  20.805369   \n",
       "Player Dancing w/ Trendy Music             55    93   148  37.162162   \n",
       "Player Documentary                         59   337   396  14.898990   \n",
       "TBT                                       100   660   760  13.157895   \n",
       "Talking NBA (locally produced versions)    49   286   335  14.626866   \n",
       "Travel with KOL                            18   105   123  14.634146   \n",
       "Travel with Player                         17    90   107  15.887850   \n",
       "All                                      1365  5609  6974  19.572699   \n",
       "\n",
       "gender                                         m_%  All_%  \n",
       "content_tag                                                \n",
       "24 Seconds                               90.845070  100.0  \n",
       "Ask Me Anything                          72.316384  100.0  \n",
       "Coaching                                 90.909091  100.0  \n",
       "Fast Facts                               75.000000  100.0  \n",
       "Hum A Chinese Song                       53.043478  100.0  \n",
       "NBA Court Talk                           88.636364  100.0  \n",
       "NBA Foodie                               79.829891  100.0  \n",
       "NBA Gushi                                82.649254  100.0  \n",
       "NBA Playback                             91.935484  100.0  \n",
       "NBA Signature Moves                      80.555556  100.0  \n",
       "NoLookBox                                79.194631  100.0  \n",
       "Player Dancing w/ Trendy Music           62.837838  100.0  \n",
       "Player Documentary                       85.101010  100.0  \n",
       "TBT                                      86.842105  100.0  \n",
       "Talking NBA (locally produced versions)  85.373134  100.0  \n",
       "Travel with KOL                          85.365854  100.0  \n",
       "Travel with Player                       84.112150  100.0  \n",
       "All                                      80.427301  100.0  "
      ]
     },
     "execution_count": 40,
     "metadata": {},
     "output_type": "execute_result"
    }
   ],
   "source": [
    "kevin_testing_gender_by_content = pd.pivot_table(kevin_testing,index='content_tag',columns='gender',values='weibo_tags',aggfunc='count',margins=True)\n",
    "\n",
    "for x in kevin_testing_gender_by_content.columns:\n",
    "    kevin_testing_gender_by_content[x+'_%'] = kevin_testing_gender_by_content[x]/kevin_testing_gender_by_content.All*100  \n",
    "    \n",
    "kevin_testing_gender_by_content"
   ]
  },
  {
   "cell_type": "code",
   "execution_count": 28,
   "metadata": {},
   "outputs": [
    {
     "data": {
      "text/plain": [
       "乍一看还以为是走错片场的舞王。ONBA 猛龙队 口号系列 落肩宽松款 运动休闲圆... LNBA的微博视频         6241\n",
       "这节奏容易上头，情不自禁就抖起来。O618预售NBA 火箭队 哈登 壮志凌云系列 休闲运...  LNBA的微博视频    4761\n",
       "Name: weibo_content, dtype: int64"
      ]
     },
     "execution_count": 28,
     "metadata": {},
     "output_type": "execute_result"
    }
   ],
   "source": [
    "kevin_testing.loc[kevin_testing.loc[kevin_testing['content_tag'] == 'Behind the Scene',:].index,:].weibo_content.value_counts()"
   ]
  },
  {
   "cell_type": "code",
   "execution_count": 41,
   "metadata": {},
   "outputs": [],
   "source": [
    "kevin_testing_gender_by_content.to_excel('kevin_testing_gender_by_content.xlsx')"
   ]
  },
  {
   "cell_type": "code",
   "execution_count": null,
   "metadata": {},
   "outputs": [],
   "source": []
  },
  {
   "cell_type": "code",
   "execution_count": null,
   "metadata": {},
   "outputs": [],
   "source": []
  },
  {
   "cell_type": "code",
   "execution_count": 6,
   "metadata": {
    "scrolled": true
   },
   "outputs": [
    {
     "data": {
      "text/plain": [
       "#吉诺比利球衣退役# 在NBA效力期间潘帕斯雄鹰为我们带来了无数的经典瞬间。对于他你了解多少呢？吉诺比利#NBA快知识# ，带你快速领略“妖刀”魅力。福利自然也不能少，有奖问答：马努NBA生涯首场比赛对阵的是哪一支球队？3月30日中午12:00前转发+评论并@ 两位好友，写下你的答案，我们将会抽取2位回答正确的球迷，送出球衣一件！ NBA的微博视频    1369\n",
       "#NBA故事# 拥有逆天绝杀表现的利拉德在说唱界也是星光熠熠，幸亏利指导有分心去做音乐，不然可能要被吹上天。 NBA的微博视频                                                                                                                     324\n",
       "元宵佳节，又帅又能打的库兹玛为大家献歌一曲[音乐][音乐][音乐] 能听出来他哼的是什么吗？快来评论告诉我们吧[来] 第一个猜中的有奖哦～ NBA的微博视频                                                                                                      316\n",
       "#炒冷FUN# 麦迪和科比单挑谁厉害？那些年大家争论得面红耳赤的问题，让Tmac自己来说说~ NBA的微博视频                                                                                                                             305\n",
       "#NBA星级食谱# 看着看着就饿了之@迈阿密热火 城市爆款古巴三明治，烤肉、芝士、黄油三重宠溺，脑补一下捧着三明治看着韦大爷的放肆人生好嗨哟~ NBA的微博视频                                                                                                    130\n",
       "#NBA星级食谱# 鲜甜大块龙虾肉，裹着浓郁葱香蛋黄酱...波士顿不仅有@波士顿凯尔特人 ，还有风靡全球的网红美食——波士顿龙虾三明治。馋嘴] NBA的微博视频                                                                                                    120\n",
       "#炒冷FUN# 带领球队时隔四年重返季后赛，以下犯上逆袭强敌，拉塞尔就是整条街最靓的仔！ NBA的微博视频                                                                                                                               114\n",
       "#NBA星级食谱# 深夜厨房时间~让坎特欲罢不能的伊斯坎德尔烤肉，跟着音乐，口水流起来~ NBA的微博视频                                                                                                                               112\n",
       "#NBA快知识# 战车入库，天王谢幕。20年驾龄老司机，想说再见真是不容易~ NBA的微博视频                                                                                                                                     100\n",
       "#NBA字典# 球员经常在赛场上喊 Baby Food，如果搞不定还可能受到队友和观众的奚落，这 Baby Food 到底是个啥？“饼皇”卡佩拉为你解答。 NBA的微博视频                                                                                               84\n",
       "#NBA球星访谈# 凯尔-库兹玛来到球星访谈啦！之前收集了网友们的问题来听听库兹玛如何一一回答，面对各路P图大神的作品，他又有何反应？[偷笑]更多NBA精彩视频请戳：微博NBA NBA的微博视频                                                                                    66\n",
       "#NBA回放# 92-93赛季总决赛G6，公牛与太阳战至最后一秒，为公牛完成系列赛致胜一击的不是乔丹也不是皮蓬，而是霍利斯-格兰特的压哨封盖。现在就跟格老爷子一起重温那个时刻。 NBA的微博视频                                                                                    55\n",
       "@丹佛掘金 可不只有约老师~就在今天战胜勇士的比赛中，加里-哈里斯拿下全队最高的28分。这是哈里斯的第5个赛季，也许你对他的印象只是绝杀雷霆？#NBA回放#带你认识这位攻守兼备的联盟最优秀的二号位之一，不服来辩。 NBA的微博视频                                                                  54\n",
       "#NBA字典# 9次防守一阵，史上唯一获得“年度最佳防守球员”的控球后卫，加里-佩顿跟你捋一捋他的绰号“手套”是怎么来的。 NBA的微博视频                                                                                                               48\n",
       "#NBA球星访谈# 高中三年如何从1米6逆袭到1米9？梦想的超能力？CJ-麦科勒姆通过视频方式来回答网友们的提问啦！ NBA的微博视频                                                                                                                  42\n",
       "#NBA花絮# 教学时间到！德鲁大叔的胯下运球+转身连击~这一招你Get了吗？ NBA的微博视频                                                                                                                                     38\n",
       "#NBA花絮# 教学时间~2010年榜眼埃文-特纳讲解In and Out体前变向，实力战将王晶上阵示范，快来get！ NBA的微博视频                                                                                                                 34\n",
       "#哼哈NBA# 此情此景，NBA总冠军“喷气机”特里想哼歌一首，你敢来猜猜他到底哼的是个啥吗? NBA的微博视频                                                                                                                             29\n",
       "#NBA球星访谈# 达米安-利拉德通过视频方式来回答网友们的提问啦！来听听文体两开花的大米老师聊阵容、聊电梯遇险记、聊专辑、聊穿搭...快来吧！更多NBA精彩视频请戳：微博NBA NBA的微博视频                                                                                   19\n",
       "Name: weibo_content, dtype: int64"
      ]
     },
     "execution_count": 6,
     "metadata": {},
     "output_type": "execute_result"
    }
   ],
   "source": [
    "kevin_testing_old.weibo_content.value_counts()"
   ]
  },
  {
   "cell_type": "code",
   "execution_count": null,
   "metadata": {},
   "outputs": [],
   "source": []
  }
 ],
 "metadata": {
  "kernelspec": {
   "display_name": "Python 3",
   "language": "python",
   "name": "python3"
  },
  "language_info": {
   "codemirror_mode": {
    "name": "ipython",
    "version": 3
   },
   "file_extension": ".py",
   "mimetype": "text/x-python",
   "name": "python",
   "nbconvert_exporter": "python",
   "pygments_lexer": "ipython3",
   "version": "3.7.3"
  }
 },
 "nbformat": 4,
 "nbformat_minor": 2
}
