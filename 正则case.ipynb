{
 "cells": [
  {
   "cell_type": "code",
   "execution_count": 8,
   "metadata": {
    "collapsed": true
   },
   "outputs": [],
   "source": [
    "import re"
   ]
  },
  {
   "cell_type": "markdown",
   "metadata": {},
   "source": [
    "https://baike.baidu.com/item/ASCII/309296?fr=aladdin"
   ]
  },
  {
   "cell_type": "code",
   "execution_count": 28,
   "metadata": {
    "collapsed": true,
    "run_control": {
     "frozen": false,
     "read_only": false
    }
   },
   "outputs": [],
   "source": [
    "question_str=\"\\a\\f\\n\\r\\t\\v\""
   ]
  },
  {
   "cell_type": "code",
   "execution_count": 25,
   "metadata": {
    "collapsed": false
   },
   "outputs": [
    {
     "data": {
      "text/plain": [
       "'\\x07\\x0c\\n\\r\\t\\x0b>'"
      ]
     },
     "execution_count": 25,
     "metadata": {},
     "output_type": "execute_result"
    }
   ],
   "source": [
    "question_str"
   ]
  },
  {
   "cell_type": "code",
   "execution_count": 26,
   "metadata": {
    "collapsed": false,
    "scrolled": true
   },
   "outputs": [
    {
     "name": "stdout",
     "output_type": "stream",
     "text": [
      "\u0007\f",
      "\n",
      "\r",
      "\t\u000b",
      ">\n"
     ]
    }
   ],
   "source": [
    "print(question_str)"
   ]
  },
  {
   "cell_type": "code",
   "execution_count": 27,
   "metadata": {
    "collapsed": false
   },
   "outputs": [
    {
     "data": {
      "text/plain": [
       "'\\x07'"
      ]
     },
     "execution_count": 27,
     "metadata": {},
     "output_type": "execute_result"
    }
   ],
   "source": [
    "pattern = re.compile(r\"\\x07\")\n",
    "search_result = pattern.search(question_str) \n",
    "search_result.group(0)"
   ]
  },
  {
   "cell_type": "markdown",
   "metadata": {},
   "source": [
    "匹配任意连续10个数字序列，例如1234567890，并把这个序列转换成格式正确的电话号码形式。例如(123)456-7890"
   ]
  },
  {
   "cell_type": "code",
   "execution_count": 29,
   "metadata": {
    "collapsed": true
   },
   "outputs": [],
   "source": [
    "q_str=\"2345678901 a bc 1237890765\""
   ]
  },
  {
   "cell_type": "code",
   "execution_count": 36,
   "metadata": {
    "collapsed": false
   },
   "outputs": [
    {
     "data": {
      "text/plain": [
       "['2345678901', '1237890765']"
      ]
     },
     "execution_count": 36,
     "metadata": {},
     "output_type": "execute_result"
    }
   ],
   "source": [
    "pattern = re.compile(r\"\\d{10}\")\n",
    "search_result = pattern.findall(q_str) \n",
    "search_result"
   ]
  },
  {
   "cell_type": "code",
   "execution_count": 37,
   "metadata": {
    "collapsed": false
   },
   "outputs": [
    {
     "data": {
      "text/plain": [
       "[('234', '567', '8901'), ('123', '789', '0765')]"
      ]
     },
     "execution_count": 37,
     "metadata": {},
     "output_type": "execute_result"
    }
   ],
   "source": [
    "pattern = re.compile(r\"(\\d{3})(\\d{3})(\\d{4})\")\n",
    "search_result = pattern.findall(q_str) \n",
    "search_result"
   ]
  },
  {
   "cell_type": "code",
   "execution_count": 39,
   "metadata": {
    "collapsed": false
   },
   "outputs": [
    {
     "name": "stdout",
     "output_type": "stream",
     "text": [
      "(234)567-8901 a bc (123)789-0765\n"
     ]
    }
   ],
   "source": [
    "pattern = r\"(\\d{3})(\\d{3})(\\d{4})\"\n",
    "repl = r\"(\\1)\\2-\\3\"\n",
    "new_str=re.sub(pattern,repl,q_str)\n",
    "print(new_str)"
   ]
  },
  {
   "cell_type": "markdown",
   "metadata": {},
   "source": [
    "输入一个电子邮件地址，使用正则表达式对它进行合法化效应"
   ]
  },
  {
   "cell_type": "code",
   "execution_count": 151,
   "metadata": {
    "collapsed": true
   },
   "outputs": [],
   "source": [
    "email_str1=\"joshua@dataapplab.com\"\n",
    "email_str2=\"joshua@dataapplab\"\n",
    "email_str3=\"joshua\"\n",
    "email_str4=\"@dataapplab.com\"\n",
    "email_str5=\"dataapplab.com\"\n",
    "email_str6=\"joshua_zhao@dataapplab.com\"\n",
    "email_str7=\"joshua zhao@dataapplab.com\"\n",
    "email_str8=\"joshua*zhao@dataapplab.com\"\n",
    "email_str9=\"joshua+zhao@dataapplab.com\"\n",
    "email_str10=\"\"\"joshuazhao\n",
    "@dataapplab.com\"\"\"\n",
    "email_str11=\"joshua..zhao@dataapplab.com\"\n"
   ]
  },
  {
   "cell_type": "code",
   "execution_count": 95,
   "metadata": {
    "collapsed": false
   },
   "outputs": [
    {
     "data": {
      "text/plain": [
       "'joshua@dataapplab.com'"
      ]
     },
     "execution_count": 95,
     "metadata": {},
     "output_type": "execute_result"
    }
   ],
   "source": [
    "pattern = r\"^\\S+@\\S+$\"\n",
    "search_result = re.match(pattern,email_str1) \n",
    "search_result.group(0)"
   ]
  },
  {
   "cell_type": "code",
   "execution_count": 106,
   "metadata": {
    "collapsed": false
   },
   "outputs": [
    {
     "data": {
      "text/plain": [
       "'joshua@dataapplab.com'"
      ]
     },
     "execution_count": 106,
     "metadata": {},
     "output_type": "execute_result"
    }
   ],
   "source": [
    "email_str1"
   ]
  },
  {
   "cell_type": "markdown",
   "metadata": {},
   "source": [
    "只允许英文字母、数字、下划线、英文句号、以及中划线组成"
   ]
  },
  {
   "cell_type": "code",
   "execution_count": 148,
   "metadata": {
    "collapsed": false
   },
   "outputs": [
    {
     "data": {
      "text/plain": [
       "'joshua..zhao@dataapplab.com'"
      ]
     },
     "execution_count": 148,
     "metadata": {},
     "output_type": "execute_result"
    }
   ],
   "source": [
    "pattern = r\"^[A-Z0-9+_\\.-]+@[A-Z0-9\\.\\-]+$\"\n",
    "search_result = re.match(pattern,email_str11,flags=re.IGNORECASE) \n",
    "search_result.group(0)"
   ]
  },
  {
   "cell_type": "markdown",
   "metadata": {},
   "source": [
    "一般域名的规律为“[N级域名][三级域名.]二级域名.顶级域名”，比如“qq.com”、“www.qq.com”、“mp.weixin.qq.com”、“12-34.com.cn”，分析可得域名类似“** .** .** .**”组成。"
   ]
  },
  {
   "cell_type": "code",
   "execution_count": 153,
   "metadata": {
    "collapsed": false
   },
   "outputs": [
    {
     "data": {
      "text/plain": [
       "'joshua..zhao@dataapplab.com'"
      ]
     },
     "execution_count": 153,
     "metadata": {},
     "output_type": "execute_result"
    }
   ],
   "source": [
    "email_str11"
   ]
  },
  {
   "cell_type": "code",
   "execution_count": 184,
   "metadata": {
    "collapsed": false
   },
   "outputs": [
    {
     "data": {
      "text/plain": [
       "'joshua@dataapplab.com'"
      ]
     },
     "execution_count": 184,
     "metadata": {},
     "output_type": "execute_result"
    }
   ],
   "source": [
    "pattern = r\"^[A-Z0-9_-]+@[A-Z0-9_-]+\\.([A-Z0-9_-]+)+$\"\n",
    "search_result = re.match(pattern,email_str1,flags=re.IGNORECASE) \n",
    "search_result.group(0)"
   ]
  },
  {
   "cell_type": "code",
   "execution_count": 191,
   "metadata": {
    "collapsed": true
   },
   "outputs": [],
   "source": [
    "longcom=\"joshua@dataapplab.comhhhhhh\"\n",
    "normalcom=\"joshua@dataapplab.com\"\n",
    "dotcom=\"joshua.zhao@dataapplab.com\"\n",
    "dotendcom=\"joshua.zhao.@dataapplab.com\""
   ]
  },
  {
   "cell_type": "code",
   "execution_count": 182,
   "metadata": {
    "collapsed": false
   },
   "outputs": [
    {
     "data": {
      "text/plain": [
       "'joshua@dataapplab.com'"
      ]
     },
     "execution_count": 182,
     "metadata": {},
     "output_type": "execute_result"
    }
   ],
   "source": [
    "normalcom"
   ]
  },
  {
   "cell_type": "code",
   "execution_count": 183,
   "metadata": {
    "collapsed": false
   },
   "outputs": [
    {
     "data": {
      "text/plain": [
       "'joshua@dataapplab.com'"
      ]
     },
     "execution_count": 183,
     "metadata": {},
     "output_type": "execute_result"
    }
   ],
   "source": [
    "pattern = r\"^[A-Z0-9_-]+@[A-Z0-9_-]+\\.[A-Z0-9_-]{2,6}$\"\n",
    "search_result = re.match(pattern,normalcom,flags=re.IGNORECASE) \n",
    "search_result.group(0)"
   ]
  },
  {
   "cell_type": "markdown",
   "metadata": {},
   "source": [
    "更多的条件\n",
    "\n",
    "例如，用户名中可以包含一个或多个点号，但不允许两个连续的点号，第一个字符和最后一个字符不允许是点号：\n",
    "\n",
    "[RFC2822](http://www.ietf.org/rfc/rfc2822.txt)\n"
   ]
  },
  {
   "cell_type": "code",
   "execution_count": 194,
   "metadata": {
    "collapsed": false
   },
   "outputs": [
    {
     "data": {
      "text/plain": [
       "'joshua.zhao@dataapplab.com'"
      ]
     },
     "execution_count": 194,
     "metadata": {},
     "output_type": "execute_result"
    }
   ],
   "source": [
    "pattern = r\"^[A-Z0-9_-]+(\\.[A-Z0-9_-]+)*@[A-Z0-9_-]+\\.[A-Z0-9_-]{2,6}$\"\n",
    "search_result = re.match(pattern,dotcom,flags=re.IGNORECASE) \n",
    "search_result.group(0)"
   ]
  },
  {
   "cell_type": "markdown",
   "metadata": {},
   "source": [
    "### 匹配除了python之外的所有单词"
   ]
  },
  {
   "cell_type": "code",
   "execution_count": 203,
   "metadata": {
    "collapsed": true
   },
   "outputs": [],
   "source": [
    "re_desc = \"\"\"\n",
    "learning python,\n",
    "Pythonic means code that doesn't just get the syntax right but that follows\n",
    "the conventions of the Python community and uses the language in the way it is \n",
    "intended to be used.\n",
    "\"\"\""
   ]
  },
  {
   "cell_type": "code",
   "execution_count": 206,
   "metadata": {
    "collapsed": false
   },
   "outputs": [
    {
     "data": {
      "text/plain": [
       "['learning',\n",
       " 'Pythonic',\n",
       " 'means',\n",
       " 'code',\n",
       " 'that',\n",
       " 'doesn',\n",
       " 't',\n",
       " 'just',\n",
       " 'get',\n",
       " 'the',\n",
       " 'syntax',\n",
       " 'right',\n",
       " 'but',\n",
       " 'that',\n",
       " 'follows',\n",
       " 'the',\n",
       " 'conventions',\n",
       " 'of',\n",
       " 'the',\n",
       " 'community',\n",
       " 'and',\n",
       " 'uses',\n",
       " 'the',\n",
       " 'language',\n",
       " 'in',\n",
       " 'the',\n",
       " 'way',\n",
       " 'it',\n",
       " 'is',\n",
       " 'intended',\n",
       " 'to',\n",
       " 'be',\n",
       " 'used']"
      ]
     },
     "execution_count": 206,
     "metadata": {},
     "output_type": "execute_result"
    }
   ],
   "source": [
    "pattern = r\"\\b(?!python\\b)\\w+\"\n",
    "re.findall(pattern,re_desc,flags=re.IGNORECASE) "
   ]
  },
  {
   "cell_type": "markdown",
   "metadata": {},
   "source": [
    "### 查找临近5个位数之隔的单词"
   ]
  },
  {
   "cell_type": "code",
   "execution_count": 207,
   "metadata": {
    "collapsed": false
   },
   "outputs": [
    {
     "name": "stdout",
     "output_type": "stream",
     "text": [
      "00-11: kitty kitty\n",
      "12-17: go go\n"
     ]
    }
   ],
   "source": [
    "text = \"kitty kitty go go, so cute\"\n",
    "pattern = re.compile(r\"\\b(\\w+)\\b\\s+\\1\\b\")  # \\1第一匹配\n",
    "for m in pattern.finditer(text):\n",
    "    print('%02d-%02d: %s' % (m.start(), m.end(), m.group(0)))"
   ]
  },
  {
   "cell_type": "code",
   "execution_count": 220,
   "metadata": {
    "collapsed": false
   },
   "outputs": [
    {
     "name": "stdout",
     "output_type": "stream",
     "text": [
      "00-14: kitty go kitty\n"
     ]
    }
   ],
   "source": [
    "text = \"kitty go kitty go go, so cute\"\n",
    "pattern = re.compile(r\"\\b(\\w+)\\b.{3,5}\\1\\b\")  # \\1第一匹配\n",
    "for m in pattern.finditer(text):\n",
    "    print('%02d-%02d: %s' % (m.start(), m.end(), m.group(0)))"
   ]
  }
 ],
 "metadata": {
  "kernelspec": {
   "display_name": "Python 3",
   "language": "python",
   "name": "python3"
  },
  "language_info": {
   "codemirror_mode": {
    "name": "ipython",
    "version": 3
   },
   "file_extension": ".py",
   "mimetype": "text/x-python",
   "name": "python",
   "nbconvert_exporter": "python",
   "pygments_lexer": "ipython3",
   "version": "3.6.0"
  }
 },
 "nbformat": 4,
 "nbformat_minor": 2
}
