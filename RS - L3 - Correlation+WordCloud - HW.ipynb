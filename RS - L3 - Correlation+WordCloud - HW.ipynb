{
 "cells": [
  {
   "cell_type": "code",
   "execution_count": 1,
   "metadata": {},
   "outputs": [
    {
     "ename": "NameError",
     "evalue": "name 'mkt_transactions' is not defined",
     "output_type": "error",
     "traceback": [
      "\u001b[1;31m---------------------------------------------------------------------------\u001b[0m",
      "\u001b[1;31mNameError\u001b[0m                                 Traceback (most recent call last)",
      "\u001b[1;32m<ipython-input-1-81725fe0723d>\u001b[0m in \u001b[0;36m<module>\u001b[1;34m\u001b[0m\n\u001b[0;32m     54\u001b[0m \u001b[1;31m# load数据\u001b[0m\u001b[1;33m\u001b[0m\u001b[1;33m\u001b[0m\u001b[1;33m\u001b[0m\u001b[0m\n\u001b[0;32m     55\u001b[0m \u001b[0mmkt_transactions_kw\u001b[0m \u001b[1;33m=\u001b[0m \u001b[1;34m\"\"\u001b[0m\u001b[1;33m\u001b[0m\u001b[1;33m\u001b[0m\u001b[0m\n\u001b[1;32m---> 56\u001b[1;33m \u001b[1;32mfor\u001b[0m \u001b[0mi\u001b[0m \u001b[1;32min\u001b[0m \u001b[0mmkt_transactions\u001b[0m\u001b[1;33m:\u001b[0m\u001b[1;33m\u001b[0m\u001b[1;33m\u001b[0m\u001b[0m\n\u001b[0m\u001b[0;32m     57\u001b[0m     \u001b[0mmkt_transactions_kw\u001b[0m \u001b[1;33m=\u001b[0m \u001b[0mmkt_transactions_kw\u001b[0m \u001b[1;33m+\u001b[0m \u001b[1;34m\" \"\u001b[0m\u001b[1;33m.\u001b[0m\u001b[0mjoin\u001b[0m\u001b[1;33m(\u001b[0m\u001b[0mi\u001b[0m\u001b[1;33m)\u001b[0m\u001b[1;33m\u001b[0m\u001b[1;33m\u001b[0m\u001b[0m\n\u001b[0;32m     58\u001b[0m \u001b[1;33m\u001b[0m\u001b[0m\n",
      "\u001b[1;31mNameError\u001b[0m: name 'mkt_transactions' is not defined"
     ]
    }
   ],
   "source": [
    "import pandas as pd\n",
    "import time\n",
    "from wordcloud import WordCloud\n",
    "import matplotlib.pyplot as plt\n",
    "from PIL import Image\n",
    "import numpy as np\n",
    "from lxml import etree\n",
    "from nltk.tokenize import word_tokenize\n",
    "\n",
    "data_marketbasket = pd.read_csv('C:\\\\Users\\\\ading\\\\Desktop\\\\Main Folder\\\\Avalon Ding\\\\Avalon Ding\\\\Kaikeba\\\\L3\\\\Market_Basket_Optimisation.csv', header = None)\n",
    "\n",
    "def rule1_mkt():\n",
    "    from efficient_apriori import apriori\n",
    "    start = time.time()\n",
    "    # 得到一维数组orders_series，并且将Transaction作为index, value为Item取值\n",
    "    mkt_transactions = []\n",
    "    mkt_set = set()\n",
    "    mkt_index = 0\n",
    "    for x in data_marketbasket.index:\n",
    "        if x == mkt_index:\n",
    "            mkt_set = set(data_marketbasket.loc[x,:])\n",
    "            mkt_set = {x for x in mkt_set if x==x}\n",
    "            mkt_transactions.append(mkt_set)\n",
    "            mkt_index = mkt_index + 1       \n",
    "    \n",
    "    # 挖掘频繁项集和频繁规则\n",
    "    itemsets, rules = apriori(mkt_transactions, min_support=0.02,  min_confidence=0.1)\n",
    "    print('频繁项集：', itemsets)\n",
    "    print('关联规则：', rules)\n",
    "    end = time.time()\n",
    "    print(\"用时：\", end-start)\n",
    "    \n",
    "\n",
    "# 数据变换\n",
    "def create_word_cloud(f):\n",
    "    print('根据词频，开始生成词云!')\n",
    "#    f = remove_stop_words(f)\n",
    "    cut_text = word_tokenize(f)\n",
    "    #print(cut_text)\n",
    "    cut_text = \" \".join(cut_text)\n",
    "    wc = WordCloud(\n",
    "        max_words=20,\n",
    "        width=2000,\n",
    "        height=1200,\n",
    "    )\n",
    "    wordcloud = wc.generate(cut_text)\n",
    "    # 写词云图片\n",
    "    wordcloud.to_file(\"wordcloud_basket_2.jpg\")\n",
    "    # 显示词云文件\n",
    "    plt.imshow(wordcloud)\n",
    "    plt.axis(\"off\")\n",
    "    plt.show()\n",
    "\n",
    "# load数据\n",
    "mkt_transactions_kw = \"\"\n",
    "for i in mkt_transactions:\n",
    "    mkt_transactions_kw = mkt_transactions_kw + \" \".join(i)\n",
    "    \n",
    "# 生成词云   \n",
    "create_word_cloud(mkt_transactions_kw)"
   ]
  },
  {
   "cell_type": "code",
   "execution_count": 2,
   "metadata": {},
   "outputs": [
    {
     "name": "stdout",
     "output_type": "stream",
     "text": [
      "频繁项集： {1: {('almonds',): 153, ('avocado',): 250, ('brownies',): 253, ('burgers',): 654, ('butter',): 226, ('cake',): 608, ('cereals',): 193, ('champagne',): 351, ('chicken',): 450, ('chocolate',): 1229, ('cookies',): 603, ('cooking oil',): 383, ('cottage cheese',): 239, ('eggs',): 1348, ('energy bar',): 203, ('energy drink',): 200, ('escalope',): 595, ('french fries',): 1282, ('french wine',): 169, ('fresh bread',): 323, ('fresh tuna',): 167, ('frozen smoothie',): 475, ('frozen vegetables',): 715, ('grated cheese',): 393, ('green tea',): 991, ('ground beef',): 737, ('ham',): 199, ('herb & pepper',): 371, ('honey',): 356, ('hot dogs',): 243, ('light mayo',): 204, ('low fat yogurt',): 574, ('meatballs',): 157, ('milk',): 972, ('mineral water',): 1788, ('muffins',): 181, ('oil',): 173, ('olive oil',): 494, ('pancakes',): 713, ('pepper',): 199, ('red wine',): 211, ('salmon',): 319, ('shrimp',): 536, ('soup',): 379, ('spaghetti',): 1306, ('strawberries',): 160, ('tomato juice',): 228, ('tomatoes',): 513, ('turkey',): 469, ('vegetables mix',): 193, ('whole wheat pasta',): 221, ('whole wheat rice',): 439, ('yogurt cake',): 205}, 2: {('burgers', 'eggs'): 216, ('burgers', 'french fries'): 165, ('burgers', 'mineral water'): 183, ('burgers', 'spaghetti'): 161, ('cake', 'mineral water'): 206, ('chicken', 'mineral water'): 171, ('chocolate', 'eggs'): 249, ('chocolate', 'french fries'): 258, ('chocolate', 'frozen vegetables'): 172, ('chocolate', 'green tea'): 176, ('chocolate', 'ground beef'): 173, ('chocolate', 'milk'): 241, ('chocolate', 'mineral water'): 395, ('chocolate', 'spaghetti'): 294, ('cooking oil', 'mineral water'): 151, ('eggs', 'french fries'): 273, ('eggs', 'frozen vegetables'): 163, ('eggs', 'green tea'): 191, ('eggs', 'milk'): 231, ('eggs', 'mineral water'): 382, ('eggs', 'pancakes'): 163, ('eggs', 'spaghetti'): 274, ('french fries', 'green tea'): 214, ('french fries', 'milk'): 178, ('french fries', 'mineral water'): 253, ('french fries', 'pancakes'): 151, ('french fries', 'spaghetti'): 207, ('frozen smoothie', 'mineral water'): 152, ('frozen vegetables', 'milk'): 177, ('frozen vegetables', 'mineral water'): 268, ('frozen vegetables', 'spaghetti'): 209, ('green tea', 'mineral water'): 233, ('green tea', 'spaghetti'): 199, ('ground beef', 'milk'): 165, ('ground beef', 'mineral water'): 307, ('ground beef', 'spaghetti'): 294, ('low fat yogurt', 'mineral water'): 180, ('milk', 'mineral water'): 360, ('milk', 'spaghetti'): 266, ('mineral water', 'olive oil'): 207, ('mineral water', 'pancakes'): 253, ('mineral water', 'shrimp'): 177, ('mineral water', 'soup'): 173, ('mineral water', 'spaghetti'): 448, ('mineral water', 'tomatoes'): 183, ('mineral water', 'whole wheat rice'): 151, ('olive oil', 'spaghetti'): 172, ('pancakes', 'spaghetti'): 189, ('shrimp', 'spaghetti'): 159, ('spaghetti', 'tomatoes'): 157}}\n",
      "关联规则： [{eggs} -> {burgers}, {burgers} -> {eggs}, {french fries} -> {burgers}, {burgers} -> {french fries}, {mineral water} -> {burgers}, {burgers} -> {mineral water}, {spaghetti} -> {burgers}, {burgers} -> {spaghetti}, {mineral water} -> {cake}, {cake} -> {mineral water}, {chicken} -> {mineral water}, {eggs} -> {chocolate}, {chocolate} -> {eggs}, {french fries} -> {chocolate}, {chocolate} -> {french fries}, {frozen vegetables} -> {chocolate}, {chocolate} -> {frozen vegetables}, {green tea} -> {chocolate}, {chocolate} -> {green tea}, {ground beef} -> {chocolate}, {chocolate} -> {ground beef}, {milk} -> {chocolate}, {chocolate} -> {milk}, {mineral water} -> {chocolate}, {chocolate} -> {mineral water}, {spaghetti} -> {chocolate}, {chocolate} -> {spaghetti}, {cooking oil} -> {mineral water}, {french fries} -> {eggs}, {eggs} -> {french fries}, {frozen vegetables} -> {eggs}, {eggs} -> {frozen vegetables}, {green tea} -> {eggs}, {eggs} -> {green tea}, {milk} -> {eggs}, {eggs} -> {milk}, {mineral water} -> {eggs}, {eggs} -> {mineral water}, {pancakes} -> {eggs}, {eggs} -> {pancakes}, {spaghetti} -> {eggs}, {eggs} -> {spaghetti}, {green tea} -> {french fries}, {french fries} -> {green tea}, {milk} -> {french fries}, {french fries} -> {milk}, {mineral water} -> {french fries}, {french fries} -> {mineral water}, {pancakes} -> {french fries}, {french fries} -> {pancakes}, {spaghetti} -> {french fries}, {french fries} -> {spaghetti}, {frozen smoothie} -> {mineral water}, {milk} -> {frozen vegetables}, {frozen vegetables} -> {milk}, {mineral water} -> {frozen vegetables}, {frozen vegetables} -> {mineral water}, {spaghetti} -> {frozen vegetables}, {frozen vegetables} -> {spaghetti}, {mineral water} -> {green tea}, {green tea} -> {mineral water}, {spaghetti} -> {green tea}, {green tea} -> {spaghetti}, {milk} -> {ground beef}, {ground beef} -> {milk}, {mineral water} -> {ground beef}, {ground beef} -> {mineral water}, {spaghetti} -> {ground beef}, {ground beef} -> {spaghetti}, {mineral water} -> {low fat yogurt}, {low fat yogurt} -> {mineral water}, {mineral water} -> {milk}, {milk} -> {mineral water}, {spaghetti} -> {milk}, {milk} -> {spaghetti}, {olive oil} -> {mineral water}, {mineral water} -> {olive oil}, {pancakes} -> {mineral water}, {mineral water} -> {pancakes}, {shrimp} -> {mineral water}, {soup} -> {mineral water}, {spaghetti} -> {mineral water}, {mineral water} -> {spaghetti}, {tomatoes} -> {mineral water}, {mineral water} -> {tomatoes}, {whole wheat rice} -> {mineral water}, {spaghetti} -> {olive oil}, {olive oil} -> {spaghetti}, {spaghetti} -> {pancakes}, {pancakes} -> {spaghetti}, {spaghetti} -> {shrimp}, {shrimp} -> {spaghetti}, {tomatoes} -> {spaghetti}, {spaghetti} -> {tomatoes}]\n",
      "用时： 2.70569109916687\n"
     ]
    }
   ],
   "source": [
    "import pandas as pd\n",
    "import time\n",
    "from wordcloud import WordCloud\n",
    "import matplotlib.pyplot as plt\n",
    "from PIL import Image\n",
    "import numpy as np\n",
    "from lxml import etree\n",
    "from nltk.tokenize import word_tokenize\n",
    "\n",
    "data_marketbasket = pd.read_csv('C:\\\\Users\\\\ading\\\\Desktop\\\\Main Folder\\\\Avalon Ding\\\\Avalon Ding\\\\Kaikeba\\\\L3\\\\Market_Basket_Optimisation.csv', header = None)\n",
    "\n",
    "def rule1_mkt():\n",
    "    from efficient_apriori import apriori\n",
    "    start = time.time()\n",
    "    # 得到一维数组orders_series，并且将Transaction作为index, value为Item取值\n",
    "    mkt_transactions = []\n",
    "    mkt_set = set()\n",
    "    mkt_index = 0\n",
    "    for x in data_marketbasket.index:\n",
    "        if x == mkt_index:\n",
    "            mkt_set = set(data_marketbasket.loc[x,:])\n",
    "            mkt_set = {x for x in mkt_set if x==x}\n",
    "            mkt_transactions.append(mkt_set)\n",
    "            mkt_index = mkt_index + 1       \n",
    "    \n",
    "    # 挖掘频繁项集和频繁规则\n",
    "    itemsets, rules = apriori(mkt_transactions, min_support=0.02,  min_confidence=0.1)\n",
    "    print('频繁项集：', itemsets)\n",
    "    print('关联规则：', rules)\n",
    "    end = time.time()\n",
    "    print(\"用时：\", end-start)\n",
    "    \n",
    "rule1_mkt()"
   ]
  },
  {
   "cell_type": "code",
   "execution_count": null,
   "metadata": {},
   "outputs": [],
   "source": []
  }
 ],
 "metadata": {
  "kernelspec": {
   "display_name": "Python 3",
   "language": "python",
   "name": "python3"
  },
  "language_info": {
   "codemirror_mode": {
    "name": "ipython",
    "version": 3
   },
   "file_extension": ".py",
   "mimetype": "text/x-python",
   "name": "python",
   "nbconvert_exporter": "python",
   "pygments_lexer": "ipython3",
   "version": "3.7.3"
  }
 },
 "nbformat": 4,
 "nbformat_minor": 2
}
