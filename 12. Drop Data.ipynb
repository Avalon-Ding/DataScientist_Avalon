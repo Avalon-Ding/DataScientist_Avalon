{
 "cells": [
  {
   "cell_type": "code",
   "execution_count": 1,
   "metadata": {
    "collapsed": true
   },
   "outputs": [],
   "source": [
    "import numpy as np\n",
    "import pandas as pd"
   ]
  },
  {
   "cell_type": "code",
   "execution_count": 2,
   "metadata": {
    "collapsed": false
   },
   "outputs": [
    {
     "data": {
      "text/plain": [
       "1    0\n",
       "2    1\n",
       "3    2\n",
       "4    3\n",
       "5    4\n",
       "dtype: int32"
      ]
     },
     "execution_count": 2,
     "metadata": {},
     "output_type": "execute_result"
    }
   ],
   "source": [
    "s1 = pd.Series(np.arange(5),index=[1,2,3,4,5])\n",
    "s1"
   ]
  },
  {
   "cell_type": "code",
   "execution_count": 3,
   "metadata": {
    "collapsed": false
   },
   "outputs": [
    {
     "data": {
      "text/plain": [
       "1    0\n",
       "2    1\n",
       "3    2\n",
       "5    4\n",
       "dtype: int32"
      ]
     },
     "execution_count": 3,
     "metadata": {},
     "output_type": "execute_result"
    }
   ],
   "source": [
    "s1.drop(4)"
   ]
  },
  {
   "cell_type": "code",
   "execution_count": 4,
   "metadata": {
    "collapsed": false
   },
   "outputs": [
    {
     "data": {
      "text/html": [
       "<div>\n",
       "<table border=\"1\" class=\"dataframe\">\n",
       "  <thead>\n",
       "    <tr style=\"text-align: right;\">\n",
       "      <th></th>\n",
       "      <th>c1</th>\n",
       "      <th>c2</th>\n",
       "      <th>c3</th>\n",
       "      <th>c4</th>\n",
       "      <th>c5</th>\n",
       "    </tr>\n",
       "  </thead>\n",
       "  <tbody>\n",
       "    <tr>\n",
       "      <th>r1</th>\n",
       "      <td>0.046908</td>\n",
       "      <td>-1.237756</td>\n",
       "      <td>1.304494</td>\n",
       "      <td>0.080922</td>\n",
       "      <td>0.116972</td>\n",
       "    </tr>\n",
       "    <tr>\n",
       "      <th>r2</th>\n",
       "      <td>-1.111579</td>\n",
       "      <td>-1.015598</td>\n",
       "      <td>0.960749</td>\n",
       "      <td>-0.123731</td>\n",
       "      <td>1.858348</td>\n",
       "    </tr>\n",
       "    <tr>\n",
       "      <th>r3</th>\n",
       "      <td>0.965358</td>\n",
       "      <td>-0.476149</td>\n",
       "      <td>-0.503893</td>\n",
       "      <td>-1.629291</td>\n",
       "      <td>-0.207621</td>\n",
       "    </tr>\n",
       "    <tr>\n",
       "      <th>r4</th>\n",
       "      <td>0.396288</td>\n",
       "      <td>-0.539705</td>\n",
       "      <td>1.675211</td>\n",
       "      <td>-1.945971</td>\n",
       "      <td>0.855843</td>\n",
       "    </tr>\n",
       "  </tbody>\n",
       "</table>\n",
       "</div>"
      ],
      "text/plain": [
       "          c1        c2        c3        c4        c5\n",
       "r1  0.046908 -1.237756  1.304494  0.080922  0.116972\n",
       "r2 -1.111579 -1.015598  0.960749 -0.123731  1.858348\n",
       "r3  0.965358 -0.476149 -0.503893 -1.629291 -0.207621\n",
       "r4  0.396288 -0.539705  1.675211 -1.945971  0.855843"
      ]
     },
     "execution_count": 4,
     "metadata": {},
     "output_type": "execute_result"
    }
   ],
   "source": [
    "df1 = pd.DataFrame(np.random.randn(4,5),index=['r1','r2','r3','r4'],columns=['c1','c2','c3','c4','c5'])\n",
    "df1"
   ]
  },
  {
   "cell_type": "code",
   "execution_count": 5,
   "metadata": {
    "collapsed": false
   },
   "outputs": [
    {
     "data": {
      "text/html": [
       "<div>\n",
       "<table border=\"1\" class=\"dataframe\">\n",
       "  <thead>\n",
       "    <tr style=\"text-align: right;\">\n",
       "      <th></th>\n",
       "      <th>c1</th>\n",
       "      <th>c2</th>\n",
       "      <th>c3</th>\n",
       "      <th>c4</th>\n",
       "      <th>c5</th>\n",
       "    </tr>\n",
       "  </thead>\n",
       "  <tbody>\n",
       "    <tr>\n",
       "      <th>r2</th>\n",
       "      <td>-1.111579</td>\n",
       "      <td>-1.015598</td>\n",
       "      <td>0.960749</td>\n",
       "      <td>-0.123731</td>\n",
       "      <td>1.858348</td>\n",
       "    </tr>\n",
       "    <tr>\n",
       "      <th>r3</th>\n",
       "      <td>0.965358</td>\n",
       "      <td>-0.476149</td>\n",
       "      <td>-0.503893</td>\n",
       "      <td>-1.629291</td>\n",
       "      <td>-0.207621</td>\n",
       "    </tr>\n",
       "    <tr>\n",
       "      <th>r4</th>\n",
       "      <td>0.396288</td>\n",
       "      <td>-0.539705</td>\n",
       "      <td>1.675211</td>\n",
       "      <td>-1.945971</td>\n",
       "      <td>0.855843</td>\n",
       "    </tr>\n",
       "  </tbody>\n",
       "</table>\n",
       "</div>"
      ],
      "text/plain": [
       "          c1        c2        c3        c4        c5\n",
       "r2 -1.111579 -1.015598  0.960749 -0.123731  1.858348\n",
       "r3  0.965358 -0.476149 -0.503893 -1.629291 -0.207621\n",
       "r4  0.396288 -0.539705  1.675211 -1.945971  0.855843"
      ]
     },
     "execution_count": 5,
     "metadata": {},
     "output_type": "execute_result"
    }
   ],
   "source": [
    "df1.drop('r1')"
   ]
  },
  {
   "cell_type": "code",
   "execution_count": 6,
   "metadata": {
    "collapsed": false
   },
   "outputs": [
    {
     "data": {
      "text/html": [
       "<div>\n",
       "<table border=\"1\" class=\"dataframe\">\n",
       "  <thead>\n",
       "    <tr style=\"text-align: right;\">\n",
       "      <th></th>\n",
       "      <th>c1</th>\n",
       "      <th>c2</th>\n",
       "      <th>c3</th>\n",
       "      <th>c4</th>\n",
       "    </tr>\n",
       "  </thead>\n",
       "  <tbody>\n",
       "    <tr>\n",
       "      <th>r1</th>\n",
       "      <td>0.046908</td>\n",
       "      <td>-1.237756</td>\n",
       "      <td>1.304494</td>\n",
       "      <td>0.080922</td>\n",
       "    </tr>\n",
       "    <tr>\n",
       "      <th>r2</th>\n",
       "      <td>-1.111579</td>\n",
       "      <td>-1.015598</td>\n",
       "      <td>0.960749</td>\n",
       "      <td>-0.123731</td>\n",
       "    </tr>\n",
       "    <tr>\n",
       "      <th>r3</th>\n",
       "      <td>0.965358</td>\n",
       "      <td>-0.476149</td>\n",
       "      <td>-0.503893</td>\n",
       "      <td>-1.629291</td>\n",
       "    </tr>\n",
       "    <tr>\n",
       "      <th>r4</th>\n",
       "      <td>0.396288</td>\n",
       "      <td>-0.539705</td>\n",
       "      <td>1.675211</td>\n",
       "      <td>-1.945971</td>\n",
       "    </tr>\n",
       "  </tbody>\n",
       "</table>\n",
       "</div>"
      ],
      "text/plain": [
       "          c1        c2        c3        c4\n",
       "r1  0.046908 -1.237756  1.304494  0.080922\n",
       "r2 -1.111579 -1.015598  0.960749 -0.123731\n",
       "r3  0.965358 -0.476149 -0.503893 -1.629291\n",
       "r4  0.396288 -0.539705  1.675211 -1.945971"
      ]
     },
     "execution_count": 6,
     "metadata": {},
     "output_type": "execute_result"
    }
   ],
   "source": [
    "df1.drop('c5',axis=1)"
   ]
  },
  {
   "cell_type": "code",
   "execution_count": 7,
   "metadata": {
    "collapsed": false
   },
   "outputs": [
    {
     "data": {
      "text/html": [
       "<div>\n",
       "<table border=\"1\" class=\"dataframe\">\n",
       "  <thead>\n",
       "    <tr style=\"text-align: right;\">\n",
       "      <th></th>\n",
       "      <th>c1</th>\n",
       "      <th>c2</th>\n",
       "      <th>c3</th>\n",
       "      <th>c4</th>\n",
       "      <th>c5</th>\n",
       "    </tr>\n",
       "  </thead>\n",
       "  <tbody>\n",
       "    <tr>\n",
       "      <th>r1</th>\n",
       "      <td>0.046908</td>\n",
       "      <td>-1.237756</td>\n",
       "      <td>1.304494</td>\n",
       "      <td>0.080922</td>\n",
       "      <td>0.116972</td>\n",
       "    </tr>\n",
       "    <tr>\n",
       "      <th>r2</th>\n",
       "      <td>-1.111579</td>\n",
       "      <td>-1.015598</td>\n",
       "      <td>0.960749</td>\n",
       "      <td>-0.123731</td>\n",
       "      <td>1.858348</td>\n",
       "    </tr>\n",
       "    <tr>\n",
       "      <th>r3</th>\n",
       "      <td>0.965358</td>\n",
       "      <td>-0.476149</td>\n",
       "      <td>-0.503893</td>\n",
       "      <td>-1.629291</td>\n",
       "      <td>-0.207621</td>\n",
       "    </tr>\n",
       "    <tr>\n",
       "      <th>r4</th>\n",
       "      <td>0.396288</td>\n",
       "      <td>-0.539705</td>\n",
       "      <td>1.675211</td>\n",
       "      <td>-1.945971</td>\n",
       "      <td>0.855843</td>\n",
       "    </tr>\n",
       "  </tbody>\n",
       "</table>\n",
       "</div>"
      ],
      "text/plain": [
       "          c1        c2        c3        c4        c5\n",
       "r1  0.046908 -1.237756  1.304494  0.080922  0.116972\n",
       "r2 -1.111579 -1.015598  0.960749 -0.123731  1.858348\n",
       "r3  0.965358 -0.476149 -0.503893 -1.629291 -0.207621\n",
       "r4  0.396288 -0.539705  1.675211 -1.945971  0.855843"
      ]
     },
     "execution_count": 7,
     "metadata": {},
     "output_type": "execute_result"
    }
   ],
   "source": [
    "df1"
   ]
  },
  {
   "cell_type": "code",
   "execution_count": 8,
   "metadata": {
    "collapsed": true
   },
   "outputs": [],
   "source": [
    "df1.drop('c5',axis=1,inplace=True)"
   ]
  },
  {
   "cell_type": "code",
   "execution_count": 9,
   "metadata": {
    "collapsed": false
   },
   "outputs": [
    {
     "data": {
      "text/html": [
       "<div>\n",
       "<table border=\"1\" class=\"dataframe\">\n",
       "  <thead>\n",
       "    <tr style=\"text-align: right;\">\n",
       "      <th></th>\n",
       "      <th>c1</th>\n",
       "      <th>c2</th>\n",
       "      <th>c3</th>\n",
       "      <th>c4</th>\n",
       "    </tr>\n",
       "  </thead>\n",
       "  <tbody>\n",
       "    <tr>\n",
       "      <th>r1</th>\n",
       "      <td>0.046908</td>\n",
       "      <td>-1.237756</td>\n",
       "      <td>1.304494</td>\n",
       "      <td>0.080922</td>\n",
       "    </tr>\n",
       "    <tr>\n",
       "      <th>r2</th>\n",
       "      <td>-1.111579</td>\n",
       "      <td>-1.015598</td>\n",
       "      <td>0.960749</td>\n",
       "      <td>-0.123731</td>\n",
       "    </tr>\n",
       "    <tr>\n",
       "      <th>r3</th>\n",
       "      <td>0.965358</td>\n",
       "      <td>-0.476149</td>\n",
       "      <td>-0.503893</td>\n",
       "      <td>-1.629291</td>\n",
       "    </tr>\n",
       "    <tr>\n",
       "      <th>r4</th>\n",
       "      <td>0.396288</td>\n",
       "      <td>-0.539705</td>\n",
       "      <td>1.675211</td>\n",
       "      <td>-1.945971</td>\n",
       "    </tr>\n",
       "  </tbody>\n",
       "</table>\n",
       "</div>"
      ],
      "text/plain": [
       "          c1        c2        c3        c4\n",
       "r1  0.046908 -1.237756  1.304494  0.080922\n",
       "r2 -1.111579 -1.015598  0.960749 -0.123731\n",
       "r3  0.965358 -0.476149 -0.503893 -1.629291\n",
       "r4  0.396288 -0.539705  1.675211 -1.945971"
      ]
     },
     "execution_count": 9,
     "metadata": {},
     "output_type": "execute_result"
    }
   ],
   "source": [
    "df1"
   ]
  }
 ],
 "metadata": {
  "kernelspec": {
   "display_name": "Python 3",
   "language": "python",
   "name": "python3"
  },
  "language_info": {
   "codemirror_mode": {
    "name": "ipython",
    "version": 3
   },
   "file_extension": ".py",
   "mimetype": "text/x-python",
   "name": "python",
   "nbconvert_exporter": "python",
   "pygments_lexer": "ipython3",
   "version": "3.5.1"
  }
 },
 "nbformat": 4,
 "nbformat_minor": 2
}
