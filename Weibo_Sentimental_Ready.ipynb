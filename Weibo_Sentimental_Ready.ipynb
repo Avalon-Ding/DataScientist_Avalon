{
 "cells": [
  {
   "cell_type": "code",
   "execution_count": 2,
   "metadata": {},
   "outputs": [],
   "source": [
    "import numpy as np\n",
    "import pandas as pd\n",
    "from textrank4zh import TextRank4Keyword, TextRank4Sentence\n",
    "import jieba\n",
    "import jieba.analyse\n",
    "import jieba.posseg as pseg"
   ]
  },
  {
   "cell_type": "code",
   "execution_count": 3,
   "metadata": {},
   "outputs": [
    {
     "name": "stdout",
     "output_type": "stream",
     "text": [
      "(1501, 7)\n",
      "(1302, 7)\n"
     ]
    }
   ],
   "source": [
    "file_1 = pd.read_csv(\"C:\\\\Users\\\\ading\\\\Desktop\\\\Main Folder\\\\Avalon Ding\\\\Main folder\\\\2019-20\\\\Sentimental Analysis\\\\nba_weibo_2019_1028_pm.csv\")\n",
    "file_2 = pd.read_csv(\"C:\\\\Users\\\\ading\\\\Desktop\\\\Main Folder\\\\Avalon Ding\\\\Main folder\\\\2019-20\\\\Sentimental Analysis\\\\nba_weibo_2019_1029_am.csv\")\n",
    "\n",
    "#file = file_1\n",
    "file = pd.concat((file_1, file_2), axis = 0)\n",
    "\n",
    "file.drop_duplicates(subset='Content', keep='first', inplace = True)\n",
    "print(file.shape)\n",
    "\n",
    "index_list = []\n",
    "for x in file.Content:\n",
    "    if (\"叶落\" in x) | (\"买球\" in x) | (\"允悲\" in x) | (\"滚球\" in x):\n",
    "        index_list.append(file.loc[file['Content'] == x,:].index[0])\n",
    "\n",
    "file.drop(index_list, axis = 0, inplace= True)\n",
    "print(file.shape)\n",
    "\n",
    "weibo_keywords = ''\n",
    "for content in file.Content:\n",
    "    weibo_keywords = weibo_keywords + ' ' + '{}'.format(content)\n",
    "    \n",
    "file_content = str.encode(weibo_keywords)"
   ]
  },
  {
   "cell_type": "code",
   "execution_count": 4,
   "metadata": {},
   "outputs": [
    {
     "name": "stderr",
     "output_type": "stream",
     "text": [
      "Building prefix dict from the default dictionary ...\n",
      "Loading model from cache C:\\Users\\ading\\AppData\\Local\\Temp\\jieba.cache\n",
      "Loading model cost 0.802 seconds.\n",
      "Prefix dict has been built succesfully.\n"
     ]
    },
    {
     "name": "stdout",
     "output_type": "stream",
     "text": [
      "湖人 0.46699145425648514\n",
      "篮板 0.4600313670486726\n",
      "勇士 0.23536373485036205\n",
      "黄蜂 0.225027865030303\n",
      "大会 0.2060268063381121\n",
      "霍华德 0.19622794696540627\n",
      "篮网 0.17674734602325914\n",
      "詹姆斯 0.1681946108047001\n",
      "雷霆 0.15947628908507375\n",
      "集锦 0.15694941776092788\n",
      "浓眉 0.12119101408938947\n",
      "球员 0.09984922625315992\n",
      "两连胜 0.08449504606561188\n",
      "主场 0.08300310302252614\n",
      "全场 0.08266089053122821\n",
      "大胜 0.07985461240517028\n",
      "球队 0.07871168215578976\n",
      "盖帽 0.07245193002200769\n",
      "零距离 0.06863664397508715\n",
      "戴维斯 0.06749688459021633\n",
      "首胜 0.0598432984859569\n",
      "森林狼 0.05928866670400465\n",
      "暴扣 0.05663740749563779\n",
      "鹈鹕 0.05570510235659247\n",
      "洛杉矶 0.05526272829920443\n",
      "封盖 0.05471791614400644\n",
      "篮球 0.0532612433245249\n",
      "火箭 0.05293926111202646\n",
      "独行侠 0.052641012488763746\n",
      "拉塞尔 0.05183736729686242\n"
     ]
    }
   ],
   "source": [
    "##词频\n",
    "seg_list = jieba.cut(file_content, cut_all=False)\n",
    "#print(' '.join(seg_list))\n",
    "#print('-'*100)\n",
    "# 获取分词和词性\n",
    "words = pseg.cut(file_content)\n",
    "#for word, flag in words:\n",
    "    #print('%s, %s' % (word, flag))\n",
    "#print('-'*100)\n",
    "\n",
    "# 通过TF-IDF获取关键词\n",
    "keywords = jieba.analyse.extract_tags(file_content, topK=30, withWeight=True, allowPOS=('n','nr','ns'))\n",
    "for item in keywords:\n",
    "    print(item[0],item[1])"
   ]
  },
  {
   "cell_type": "markdown",
   "metadata": {},
   "source": [
    "# AM Sentiment"
   ]
  },
  {
   "cell_type": "code",
   "execution_count": 25,
   "metadata": {},
   "outputs": [
    {
     "name": "stdout",
     "output_type": "stream",
     "text": [
      "(1380, 7)\n",
      "(1140, 7)\n"
     ]
    }
   ],
   "source": [
    "#!/usr/bin/env python\n",
    "# coding: utf-8\n",
    "\n",
    "import pandas as pd\n",
    "import numpy as np\n",
    "\n",
    "from aip import AipNlp\n",
    "\n",
    "APP_ID = '3028bbf5983244f589876eb27aecfc9e'\n",
    "API_KEY = '9ad1dcd86ff4446ea71b78346e399835'\n",
    "SECRET_KEY = '1e9b975a61864bc19437489f7f782b3e'\n",
    "\n",
    "client = AipNlp(APP_ID, API_KEY, SECRET_KEY)\n",
    "\n",
    "# 去掉重复行\n",
    "file_1.drop_duplicates(subset='Content', keep='first', inplace=True)\n",
    "print(file_1.shape)\n",
    "\n",
    "# 去掉两个关键字（来自于营销号）\n",
    "index_list = []\n",
    "for x in file_1.Content:\n",
    "    if (\"叶落\" in x) | (\"买球\" in x) | (\"允悲\" in x) | (\"滚球\" in x):\n",
    "        index_list.append(file_1.loc[file_1['Content'] == x, :].index[0])\n",
    "\n",
    "file_1.drop(index_list, axis=0, inplace=True)\n",
    "print(file_1.shape)\n",
    "def get_score(x):\n",
    "    x=client.sentimentClassify(str(x).encode(encoding='gbk', errors='ignore').decode('gbk'))\n",
    "    if 'items' in x.keys():\n",
    "        #print(x['items'][0]['sentiment'])\n",
    "        return x['items'][0]['sentiment']\n",
    "    else:\n",
    "        # print(\"error\")\n",
    "        # time.sleep(1.5)\n",
    "        return get_score(x)\n",
    "    \n",
    "def get_pos_prob(x):\n",
    "    x=client.sentimentClassify(str(x).encode(encoding='gbk', errors='ignore').decode('gbk'))\n",
    "    if 'items' in x.keys():\n",
    "        #print(x['items'][0]['positive_prob'])\n",
    "        return x['items'][0]['positive_prob']\n",
    "    else:\n",
    "        # print(\"error\")\n",
    "        # time.sleep(1.5)\n",
    "        return get_pos_prob(x)\n",
    "    \n",
    "def get_neg_prob(x):\n",
    "    x=client.sentimentClassify(str(x).encode(encoding='gbk', errors='ignore').decode('gbk'))\n",
    "    if 'items' in x.keys():\n",
    "        #print(x['items'][0]['negative_prob'])\n",
    "        return x['items'][0]['negative_prob']\n",
    "    else:\n",
    "        # print(\"error\")\n",
    "        # time.sleep(1.5)\n",
    "        return get_neg_prob(x)\n",
    "    \n",
    "file_1['sentiment_score'] = file_1['Content'].apply(\n",
    "    lambda x: get_score(x))\n",
    "\n",
    "file_1['positive_prob'] = file_1['Content'].apply(\n",
    "    lambda x: get_pos_prob(x))\n",
    "\n",
    "file_1['negative_prob'] = file_1['Content'].apply(\n",
    "    lambda x: get_neg_prob(x))\n",
    "\n",
    "file_1.to_excel('Sentiment_10_27_pm.xlsx')"
   ]
  },
  {
   "cell_type": "markdown",
   "metadata": {},
   "source": [
    "# PM Sentiment"
   ]
  },
  {
   "cell_type": "code",
   "execution_count": 26,
   "metadata": {},
   "outputs": [
    {
     "name": "stdout",
     "output_type": "stream",
     "text": [
      "(610, 7)\n",
      "(552, 7)\n"
     ]
    }
   ],
   "source": [
    "# 去掉重复行\n",
    "file_2.drop_duplicates(subset='Content', keep='first', inplace=True)\n",
    "print(file_2.shape)\n",
    "\n",
    "# 去掉两个关键字（来自于营销号）\n",
    "index_list = []\n",
    "for x in file_2.Content:\n",
    "    if (\"叶落\" in x) | (\"买球\" in x) | (\"允悲\" in x) | (\"滚球\" in x):\n",
    "        index_list.append(file_2.loc[file_2['Content'] == x, :].index[0])\n",
    "\n",
    "file_2.drop(index_list, axis=0, inplace=True)\n",
    "print(file_2.shape)\n",
    "def get_score(x):\n",
    "    x=client.sentimentClassify(str(x).encode(encoding='gbk', errors='ignore').decode('gbk'))\n",
    "    if 'items' in x.keys():\n",
    "        #print(x['items'][0]['sentiment'])\n",
    "        return x['items'][0]['sentiment']\n",
    "    else:\n",
    "        # print(\"error\")\n",
    "        # time.sleep(1.5)\n",
    "        return get_score(x)\n",
    "    \n",
    "def get_pos_prob(x):\n",
    "    x=client.sentimentClassify(str(x).encode(encoding='gbk', errors='ignore').decode('gbk'))\n",
    "    if 'items' in x.keys():\n",
    "        #print(x['items'][0]['positive_prob'])\n",
    "        return x['items'][0]['positive_prob']\n",
    "    else:\n",
    "        # print(\"error\")\n",
    "        # time.sleep(1.5)\n",
    "        return get_pos_prob(x)\n",
    "    \n",
    "def get_neg_prob(x):\n",
    "    x=client.sentimentClassify(str(x).encode(encoding='gbk', errors='ignore').decode('gbk'))\n",
    "    if 'items' in x.keys():\n",
    "        #print(x['items'][0]['negative_prob'])\n",
    "        return x['items'][0]['negative_prob']\n",
    "    else:\n",
    "        # print(\"error\")\n",
    "        # time.sleep(1.5)\n",
    "        return get_neg_prob(x)\n",
    "    \n",
    "file_2['sentiment_score'] = file_2['Content'].apply(\n",
    "    lambda x: get_score(x))\n",
    "\n",
    "file_2['positive_prob'] = file_2['Content'].apply(\n",
    "    lambda x: get_pos_prob(x))\n",
    "\n",
    "file_2['negative_prob'] = file_2['Content'].apply(\n",
    "    lambda x: get_neg_prob(x))\n",
    "\n",
    "file_2.to_excel('Sentiment_10_28_am.xlsx')"
   ]
  },
  {
   "cell_type": "code",
   "execution_count": null,
   "metadata": {},
   "outputs": [],
   "source": []
  },
  {
   "cell_type": "code",
   "execution_count": null,
   "metadata": {},
   "outputs": [],
   "source": []
  }
 ],
 "metadata": {
  "kernelspec": {
   "display_name": "Python 3",
   "language": "python",
   "name": "python3"
  },
  "language_info": {
   "codemirror_mode": {
    "name": "ipython",
    "version": 3
   },
   "file_extension": ".py",
   "mimetype": "text/x-python",
   "name": "python",
   "nbconvert_exporter": "python",
   "pygments_lexer": "ipython3",
   "version": "3.7.3"
  }
 },
 "nbformat": 4,
 "nbformat_minor": 2
}
