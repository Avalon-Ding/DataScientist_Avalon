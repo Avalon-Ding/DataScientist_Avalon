{
 "cells": [
  {
   "cell_type": "code",
   "execution_count": 1,
   "metadata": {
    "collapsed": true
   },
   "outputs": [],
   "source": [
    "import numpy as np\n",
    "import pandas as pd\n",
    "import matplotlib.pyplot as plt\n",
    "import sklearn as sk\n",
    "import pickle\n",
    "import datetime\n",
    "import os\n",
    "import seaborn as sns\n",
    "from sklearn.preprocessing import *\n",
    "\n",
    "%matplotlib inline\n",
    "\n",
    "\n",
    "from sklearn.metrics import *\n",
    "from sklearn.model_selection import *\n",
    "from sklearn.preprocessing import StandardScaler\n",
    "from sklearn.preprocessing import LabelBinarizer"
   ]
  },
  {
   "cell_type": "code",
   "execution_count": 2,
   "metadata": {
    "collapsed": true
   },
   "outputs": [],
   "source": [
    "xtrain = pd.read_csv(\"Airbnb_xtrain_v1.csv\",index_col=0)"
   ]
  },
  {
   "cell_type": "code",
   "execution_count": 3,
   "metadata": {
    "collapsed": true
   },
   "outputs": [],
   "source": [
    "ytrain = pd.read_csv(\"Airbnb_ytrain_v1.csv\", header=None)"
   ]
  },
  {
   "cell_type": "code",
   "execution_count": 4,
   "metadata": {},
   "outputs": [
    {
     "data": {
      "text/html": [
       "<div>\n",
       "<style>\n",
       "    .dataframe thead tr:only-child th {\n",
       "        text-align: right;\n",
       "    }\n",
       "\n",
       "    .dataframe thead th {\n",
       "        text-align: left;\n",
       "    }\n",
       "\n",
       "    .dataframe tbody tr th {\n",
       "        vertical-align: top;\n",
       "    }\n",
       "</style>\n",
       "<table border=\"1\" class=\"dataframe\">\n",
       "  <thead>\n",
       "    <tr style=\"text-align: right;\">\n",
       "      <th></th>\n",
       "      <th>tfa_year</th>\n",
       "      <th>tfa_month</th>\n",
       "      <th>tfa_day</th>\n",
       "      <th>tfa_wd_1</th>\n",
       "      <th>tfa_wd_2</th>\n",
       "      <th>tfa_wd_3</th>\n",
       "      <th>tfa_wd_4</th>\n",
       "      <th>tfa_wd_5</th>\n",
       "      <th>tfa_wd_6</th>\n",
       "      <th>tfa_wd_7</th>\n",
       "      <th>...</th>\n",
       "      <th>first_browser_SiteKiosk</th>\n",
       "      <th>first_browser_SlimBrowser</th>\n",
       "      <th>first_browser_Sogou Explorer</th>\n",
       "      <th>first_browser_Stainless</th>\n",
       "      <th>first_browser_TenFourFox</th>\n",
       "      <th>first_browser_TheWorld Browser</th>\n",
       "      <th>first_browser_UC Browser</th>\n",
       "      <th>first_browser_Yandex.Browser</th>\n",
       "      <th>first_browser_wOSBrowser</th>\n",
       "      <th>first_browser_nan</th>\n",
       "    </tr>\n",
       "  </thead>\n",
       "  <tbody>\n",
       "    <tr>\n",
       "      <th>0</th>\n",
       "      <td>2009</td>\n",
       "      <td>3</td>\n",
       "      <td>19</td>\n",
       "      <td>0</td>\n",
       "      <td>0</td>\n",
       "      <td>0</td>\n",
       "      <td>1</td>\n",
       "      <td>0</td>\n",
       "      <td>0</td>\n",
       "      <td>0</td>\n",
       "      <td>...</td>\n",
       "      <td>0</td>\n",
       "      <td>0</td>\n",
       "      <td>0</td>\n",
       "      <td>0</td>\n",
       "      <td>0</td>\n",
       "      <td>0</td>\n",
       "      <td>0</td>\n",
       "      <td>0</td>\n",
       "      <td>0</td>\n",
       "      <td>0</td>\n",
       "    </tr>\n",
       "    <tr>\n",
       "      <th>1</th>\n",
       "      <td>2009</td>\n",
       "      <td>5</td>\n",
       "      <td>23</td>\n",
       "      <td>0</td>\n",
       "      <td>0</td>\n",
       "      <td>0</td>\n",
       "      <td>0</td>\n",
       "      <td>0</td>\n",
       "      <td>1</td>\n",
       "      <td>0</td>\n",
       "      <td>...</td>\n",
       "      <td>0</td>\n",
       "      <td>0</td>\n",
       "      <td>0</td>\n",
       "      <td>0</td>\n",
       "      <td>0</td>\n",
       "      <td>0</td>\n",
       "      <td>0</td>\n",
       "      <td>0</td>\n",
       "      <td>0</td>\n",
       "      <td>0</td>\n",
       "    </tr>\n",
       "    <tr>\n",
       "      <th>2</th>\n",
       "      <td>2009</td>\n",
       "      <td>6</td>\n",
       "      <td>9</td>\n",
       "      <td>0</td>\n",
       "      <td>1</td>\n",
       "      <td>0</td>\n",
       "      <td>0</td>\n",
       "      <td>0</td>\n",
       "      <td>0</td>\n",
       "      <td>0</td>\n",
       "      <td>...</td>\n",
       "      <td>0</td>\n",
       "      <td>0</td>\n",
       "      <td>0</td>\n",
       "      <td>0</td>\n",
       "      <td>0</td>\n",
       "      <td>0</td>\n",
       "      <td>0</td>\n",
       "      <td>0</td>\n",
       "      <td>0</td>\n",
       "      <td>0</td>\n",
       "    </tr>\n",
       "    <tr>\n",
       "      <th>3</th>\n",
       "      <td>2009</td>\n",
       "      <td>10</td>\n",
       "      <td>31</td>\n",
       "      <td>0</td>\n",
       "      <td>0</td>\n",
       "      <td>0</td>\n",
       "      <td>0</td>\n",
       "      <td>0</td>\n",
       "      <td>1</td>\n",
       "      <td>0</td>\n",
       "      <td>...</td>\n",
       "      <td>0</td>\n",
       "      <td>0</td>\n",
       "      <td>0</td>\n",
       "      <td>0</td>\n",
       "      <td>0</td>\n",
       "      <td>0</td>\n",
       "      <td>0</td>\n",
       "      <td>0</td>\n",
       "      <td>0</td>\n",
       "      <td>0</td>\n",
       "    </tr>\n",
       "    <tr>\n",
       "      <th>4</th>\n",
       "      <td>2009</td>\n",
       "      <td>12</td>\n",
       "      <td>8</td>\n",
       "      <td>0</td>\n",
       "      <td>1</td>\n",
       "      <td>0</td>\n",
       "      <td>0</td>\n",
       "      <td>0</td>\n",
       "      <td>0</td>\n",
       "      <td>0</td>\n",
       "      <td>...</td>\n",
       "      <td>0</td>\n",
       "      <td>0</td>\n",
       "      <td>0</td>\n",
       "      <td>0</td>\n",
       "      <td>0</td>\n",
       "      <td>0</td>\n",
       "      <td>0</td>\n",
       "      <td>0</td>\n",
       "      <td>0</td>\n",
       "      <td>0</td>\n",
       "    </tr>\n",
       "  </tbody>\n",
       "</table>\n",
       "<p>5 rows × 203 columns</p>\n",
       "</div>"
      ],
      "text/plain": [
       "   tfa_year  tfa_month  tfa_day  tfa_wd_1  tfa_wd_2  tfa_wd_3  tfa_wd_4  \\\n",
       "0      2009          3       19         0         0         0         1   \n",
       "1      2009          5       23         0         0         0         0   \n",
       "2      2009          6        9         0         1         0         0   \n",
       "3      2009         10       31         0         0         0         0   \n",
       "4      2009         12        8         0         1         0         0   \n",
       "\n",
       "   tfa_wd_5  tfa_wd_6  tfa_wd_7        ...          first_browser_SiteKiosk  \\\n",
       "0         0         0         0        ...                                0   \n",
       "1         0         1         0        ...                                0   \n",
       "2         0         0         0        ...                                0   \n",
       "3         0         1         0        ...                                0   \n",
       "4         0         0         0        ...                                0   \n",
       "\n",
       "   first_browser_SlimBrowser  first_browser_Sogou Explorer  \\\n",
       "0                          0                             0   \n",
       "1                          0                             0   \n",
       "2                          0                             0   \n",
       "3                          0                             0   \n",
       "4                          0                             0   \n",
       "\n",
       "   first_browser_Stainless  first_browser_TenFourFox  \\\n",
       "0                        0                         0   \n",
       "1                        0                         0   \n",
       "2                        0                         0   \n",
       "3                        0                         0   \n",
       "4                        0                         0   \n",
       "\n",
       "   first_browser_TheWorld Browser  first_browser_UC Browser  \\\n",
       "0                               0                         0   \n",
       "1                               0                         0   \n",
       "2                               0                         0   \n",
       "3                               0                         0   \n",
       "4                               0                         0   \n",
       "\n",
       "   first_browser_Yandex.Browser  first_browser_wOSBrowser  first_browser_nan  \n",
       "0                             0                         0                  0  \n",
       "1                             0                         0                  0  \n",
       "2                             0                         0                  0  \n",
       "3                             0                         0                  0  \n",
       "4                             0                         0                  0  \n",
       "\n",
       "[5 rows x 203 columns]"
      ]
     },
     "execution_count": 4,
     "metadata": {},
     "output_type": "execute_result"
    }
   ],
   "source": [
    "xtrain.head()"
   ]
  },
  {
   "cell_type": "code",
   "execution_count": 5,
   "metadata": {},
   "outputs": [
    {
     "data": {
      "text/html": [
       "<div>\n",
       "<style>\n",
       "    .dataframe thead tr:only-child th {\n",
       "        text-align: right;\n",
       "    }\n",
       "\n",
       "    .dataframe thead th {\n",
       "        text-align: left;\n",
       "    }\n",
       "\n",
       "    .dataframe tbody tr th {\n",
       "        vertical-align: top;\n",
       "    }\n",
       "</style>\n",
       "<table border=\"1\" class=\"dataframe\">\n",
       "  <thead>\n",
       "    <tr style=\"text-align: right;\">\n",
       "      <th></th>\n",
       "      <th>0</th>\n",
       "    </tr>\n",
       "  </thead>\n",
       "  <tbody>\n",
       "    <tr>\n",
       "      <th>0</th>\n",
       "      <td>NDF</td>\n",
       "    </tr>\n",
       "    <tr>\n",
       "      <th>1</th>\n",
       "      <td>NDF</td>\n",
       "    </tr>\n",
       "    <tr>\n",
       "      <th>2</th>\n",
       "      <td>US</td>\n",
       "    </tr>\n",
       "    <tr>\n",
       "      <th>3</th>\n",
       "      <td>other</td>\n",
       "    </tr>\n",
       "    <tr>\n",
       "      <th>4</th>\n",
       "      <td>US</td>\n",
       "    </tr>\n",
       "    <tr>\n",
       "      <th>5</th>\n",
       "      <td>US</td>\n",
       "    </tr>\n",
       "    <tr>\n",
       "      <th>6</th>\n",
       "      <td>US</td>\n",
       "    </tr>\n",
       "    <tr>\n",
       "      <th>7</th>\n",
       "      <td>US</td>\n",
       "    </tr>\n",
       "    <tr>\n",
       "      <th>8</th>\n",
       "      <td>US</td>\n",
       "    </tr>\n",
       "    <tr>\n",
       "      <th>9</th>\n",
       "      <td>US</td>\n",
       "    </tr>\n",
       "  </tbody>\n",
       "</table>\n",
       "</div>"
      ],
      "text/plain": [
       "       0\n",
       "0    NDF\n",
       "1    NDF\n",
       "2     US\n",
       "3  other\n",
       "4     US\n",
       "5     US\n",
       "6     US\n",
       "7     US\n",
       "8     US\n",
       "9     US"
      ]
     },
     "execution_count": 5,
     "metadata": {},
     "output_type": "execute_result"
    }
   ],
   "source": [
    "ytrain.head(10)"
   ]
  },
  {
   "cell_type": "code",
   "execution_count": 6,
   "metadata": {},
   "outputs": [
    {
     "data": {
      "text/plain": [
       "array(['AU', 'CA', 'DE', 'ES', 'FR', 'GB', 'IT', 'NDF', 'NL', 'PT', 'US',\n",
       "       'other'], dtype=object)"
      ]
     },
     "execution_count": 6,
     "metadata": {},
     "output_type": "execute_result"
    }
   ],
   "source": [
    "#类别\n",
    "np.unique(ytrain.values)"
   ]
  },
  {
   "cell_type": "code",
   "execution_count": 4,
   "metadata": {},
   "outputs": [
    {
     "name": "stderr",
     "output_type": "stream",
     "text": [
      "D:\\Users\\LPZ\\Anaconda3\\lib\\site-packages\\sklearn\\preprocessing\\label.py:111: DataConversionWarning: A column-vector y was passed when a 1d array was expected. Please change the shape of y to (n_samples, ), for example using ravel().\n",
      "  y = column_or_1d(y, warn=True)\n"
     ]
    }
   ],
   "source": [
    "from sklearn.preprocessing import LabelEncoder\n",
    "le = LabelEncoder()\n",
    "ytrain_le = le.fit_transform(ytrain.values)"
   ]
  },
  {
   "cell_type": "code",
   "execution_count": 5,
   "metadata": {},
   "outputs": [
    {
     "data": {
      "text/plain": [
       "(213451,)"
      ]
     },
     "execution_count": 5,
     "metadata": {},
     "output_type": "execute_result"
    }
   ],
   "source": [
    "ytrain_le.shape"
   ]
  },
  {
   "cell_type": "code",
   "execution_count": 6,
   "metadata": {},
   "outputs": [
    {
     "data": {
      "text/plain": [
       "array([ 7,  7, 10, ...,  7,  7,  7], dtype=int64)"
      ]
     },
     "execution_count": 6,
     "metadata": {},
     "output_type": "execute_result"
    }
   ],
   "source": [
    "ytrain_le"
   ]
  },
  {
   "cell_type": "code",
   "execution_count": 7,
   "metadata": {},
   "outputs": [
    {
     "name": "stdout",
     "output_type": "stream",
     "text": [
      "21345\n"
     ]
    }
   ],
   "source": [
    "# Let us take 10% of the data for faster training. \n",
    "n = int(xtrain.shape[0]*0.1)\n",
    "print (n)\n",
    "xtrain_new = xtrain.iloc[:n, :]\n",
    "ytrain_new = ytrain_le[:n]"
   ]
  },
  {
   "cell_type": "code",
   "execution_count": 8,
   "metadata": {},
   "outputs": [
    {
     "name": "stdout",
     "output_type": "stream",
     "text": [
      "(21345, 203)\n",
      "(21345,)\n"
     ]
    }
   ],
   "source": [
    "print (xtrain_new.shape)\n",
    "print (ytrain_new.shape)"
   ]
  },
  {
   "cell_type": "markdown",
   "metadata": {},
   "source": [
    "# StandardScaling the dataset"
   ]
  },
  {
   "cell_type": "code",
   "execution_count": 9,
   "metadata": {
    "collapsed": true
   },
   "outputs": [],
   "source": [
    "#Standardization of a dataset is a common requirement for many machine learning estimators: they might behave badly if the individual feature do not more or less look like standard normally distributed data (e.g. Gaussian with 0 mean and unit variance).\n",
    "#For instance many elements used in the objective function of a learning algorithm \n",
    "#(such as the RBF kernel of Support Vector Machines or the L1 and L2 regularizers of linear models) \n",
    "#assume that all features are centered around 0 and have variance in the same order. \n",
    "#If a feature has a variance that is orders of magnitude larger that others, \n",
    "#it might dominate the objective function and make the estimator unable to learn from other features correctly as expected.\n",
    "\n",
    "X_scaler = StandardScaler()\n",
    "\n",
    "xtrain_new = X_scaler.fit_transform(xtrain_new)"
   ]
  },
  {
   "cell_type": "code",
   "execution_count": 10,
   "metadata": {},
   "outputs": [
    {
     "data": {
      "text/plain": [
       "array([[-3.39515182, -0.89254222,  0.41158123, ...,  0.        ,\n",
       "         0.        ,  0.        ],\n",
       "       [-3.39515182, -0.33436011,  0.87008708, ...,  0.        ,\n",
       "         0.        ,  0.        ],\n",
       "       [-3.39515182, -0.05526905, -0.7346834 , ...,  0.        ,\n",
       "         0.        ,  0.        ],\n",
       "       ..., \n",
       "       [ 1.26706612, -0.61345116, -0.04692462, ...,  0.        ,\n",
       "         0.        ,  0.        ],\n",
       "       [ 1.26706612, -0.61345116, -0.04692462, ...,  0.        ,\n",
       "         0.        ,  0.        ],\n",
       "       [ 1.26706612, -0.61345116, -0.04692462, ...,  0.        ,\n",
       "         0.        ,  0.        ]])"
      ]
     },
     "execution_count": 10,
     "metadata": {},
     "output_type": "execute_result"
    }
   ],
   "source": [
    "xtrain_new"
   ]
  },
  {
   "cell_type": "code",
   "execution_count": 11,
   "metadata": {
    "collapsed": true
   },
   "outputs": [],
   "source": [
    "np.argsort?"
   ]
  },
  {
   "cell_type": "markdown",
   "metadata": {},
   "source": [
    "# Airbnb Evaluation: NDCG"
   ]
  },
  {
   "cell_type": "code",
   "execution_count": 12,
   "metadata": {
    "collapsed": true
   },
   "outputs": [],
   "source": [
    "x = np.array([1.48,1.41,0.0,0.1])\n",
    "#argsort：从小到大排序，返回各元素对应的下标\n",
    "#[::-1]：颠倒顺序\n",
    "#本条语句实际返回从大到小排序的下标\n",
    "order = np.argsort(x)[::-1]"
   ]
  },
  {
   "cell_type": "code",
   "execution_count": 13,
   "metadata": {},
   "outputs": [
    {
     "data": {
      "text/plain": [
       "array([0, 1, 3, 2], dtype=int64)"
      ]
     },
     "execution_count": 13,
     "metadata": {},
     "output_type": "execute_result"
    }
   ],
   "source": [
    "order"
   ]
  },
  {
   "cell_type": "code",
   "execution_count": 14,
   "metadata": {},
   "outputs": [
    {
     "data": {
      "text/plain": [
       "4"
      ]
     },
     "execution_count": 14,
     "metadata": {},
     "output_type": "execute_result"
    }
   ],
   "source": [
    "len(order)"
   ]
  },
  {
   "cell_type": "code",
   "execution_count": 15,
   "metadata": {},
   "outputs": [
    {
     "data": {
      "text/plain": [
       "LabelBinarizer(neg_label=0, pos_label=1, sparse_output=False)"
      ]
     },
     "execution_count": 15,
     "metadata": {},
     "output_type": "execute_result"
    }
   ],
   "source": [
    "lb = LabelBinarizer()\n",
    "lb.fit(range(11))\n",
    "#T = lb.transform(ground_truth)"
   ]
  },
  {
   "cell_type": "code",
   "execution_count": 16,
   "metadata": {
    "collapsed": true
   },
   "outputs": [],
   "source": [
    "ground_truth=[1,0,2,2,3,12,1,0,6,7]"
   ]
  },
  {
   "cell_type": "code",
   "execution_count": 17,
   "metadata": {
    "collapsed": true
   },
   "outputs": [],
   "source": [
    "T = lb.transform(ground_truth)"
   ]
  },
  {
   "cell_type": "code",
   "execution_count": 18,
   "metadata": {},
   "outputs": [
    {
     "data": {
      "text/plain": [
       "array([[0, 1, 0, 0, 0, 0, 0, 0, 0, 0, 0],\n",
       "       [1, 0, 0, 0, 0, 0, 0, 0, 0, 0, 0],\n",
       "       [0, 0, 1, 0, 0, 0, 0, 0, 0, 0, 0],\n",
       "       [0, 0, 1, 0, 0, 0, 0, 0, 0, 0, 0],\n",
       "       [0, 0, 0, 1, 0, 0, 0, 0, 0, 0, 0],\n",
       "       [0, 0, 0, 0, 0, 0, 0, 0, 0, 0, 0],\n",
       "       [0, 1, 0, 0, 0, 0, 0, 0, 0, 0, 0],\n",
       "       [1, 0, 0, 0, 0, 0, 0, 0, 0, 0, 0],\n",
       "       [0, 0, 0, 0, 0, 0, 1, 0, 0, 0, 0],\n",
       "       [0, 0, 0, 0, 0, 0, 0, 1, 0, 0, 0]])"
      ]
     },
     "execution_count": 18,
     "metadata": {},
     "output_type": "execute_result"
    }
   ],
   "source": [
    "T"
   ]
  },
  {
   "cell_type": "code",
   "execution_count": 19,
   "metadata": {
    "collapsed": true
   },
   "outputs": [],
   "source": [
    "# From Kaggle Kernels\n",
    "\n",
    "from sklearn.metrics import make_scorer\n",
    "\n",
    "def dcg_score(y_true, y_score, k=5):\n",
    "    \n",
    "    \"\"\"\n",
    "    y_true : array, shape = [n_samples]\n",
    "        Ground truth (true relevance labels).\n",
    "    y_score : array, shape = [n_samples, n_classes]\n",
    "        Predicted scores.\n",
    "    k : int\n",
    "    \"\"\"\n",
    "    order = np.argsort(y_score)[::-1]\n",
    "    y_true = np.take(y_true, order[:k])\n",
    "    \n",
    "    \n",
    "    #order = [3,2,1,7]\n",
    "    #y_true = [0,1,0,0]\n",
    "    #y_true =[0,0,1,0]\n",
    "    \n",
    "    \n",
    "\n",
    "    gain = 2 ** y_true - 1\n",
    "\n",
    "    discounts = np.log2(np.arange(len(y_true)) + 2)\n",
    "    return np.sum(gain / discounts)\n",
    "    # 0 doesn't count =>>>> only reduce 1 \n",
    "\n",
    "\n",
    "def ndcg_score(ground_truth, predictions, k=5):\n",
    "    \n",
    "    \"\"\"\n",
    "    Parameters\n",
    "    ----------\n",
    "    ground_truth : array, shape = [n_samples]\n",
    "        Ground truth (true labels represended as integers).\n",
    "    predictions : array, shape = [n_samples, n_classes]\n",
    "        Predicted probabilities.\n",
    "    k : int\n",
    "        Rank.\n",
    "        \n",
    "    Example\n",
    "    -------\n",
    "    >>> ground_truth = [1, 0, 2]\n",
    "    transform:只有最大值为1，即预测值对score即为1，预测不对score为0\n",
    "    [[0,1,0],[1,0,0],[0,0,1]]\n",
    "    >>> predictions = [[0.15, 0.55, 0.2], [0.7, 0.2, 0.1], [0.06, 0.04, 0.9]]\n",
    "    只考虑最大值位置，此预测即为：[[0,1,0],[1,0,0],[0,0,1]]\n",
    "    argsort:排序索引\n",
    "    pre：[[0,2,1],[2,1,0],[1,0,2]]\n",
    "    true：[[0,2,1],[1,2,0],[0,1,2]]\n",
    "    \n",
    "    order:\n",
    "    pre:[[1,2,0],[0,1,2],[2,0,1]]\n",
    "    true：[[1,2,0],[0,1,2],[2,1,0]]\n",
    "    \n",
    "    take：按索引取值\n",
    "    y_true: k=2\n",
    "    pre:[[1,0],[1,0],[1,0]]\n",
    "    true:[[1,0],[1,0],[1,0]]\n",
    "    \n",
    "    >>> score = ndcg_score(ground_truth, predictions, k=2)\n",
    "    1.0\n",
    "    >>> predictions = [[0.9, 0.5, 0.8], [0.7, 0.2, 0.1], [0.06, 0.04, 0.9]]\n",
    "    只考虑最大值位置，此预测即为：[[1,0,0],[1,0,0],[0,0,1]]，预测对了1/3\n",
    "    [0.9, 0.5, 0.8]->argsort\n",
    "    [1,2,0]->[::-1]\n",
    "    [0,2,1]->take\n",
    "    [0,0]->score\n",
    "    0\n",
    "    若为：[0.9, 0.5, 0.4]\n",
    "    [0.9, 0.5, 0.4]->argsort\n",
    "    [2,1,0]->[::-1]\n",
    "    [0,1,2]->take\n",
    "    [0,1]->score\n",
    "    非零\n",
    "    >>> score = ndcg_score(ground_truth, predictions, k=2)\n",
    "    0.6666666666\n",
    "    \"\"\"\n",
    "    lb = LabelBinarizer()\n",
    "    #modified by lpz 20180125\n",
    "    #lb.fit(range(len(predictions) + 1))\n",
    "    lb.fit(range(len(np.unique(ground_truth)))\n",
    "    T = lb.transform(ground_truth)\n",
    "    \n",
    "    #ground_truth = [1, 0, 2]  =>>>> \n",
    "    #ground_truth : [[0, 1, 0],       [1, 0, 0],    [0, 0, 1]]\n",
    "    #predictions: [[0.15, 0.55, 0.2], [0.7, 0.2, 0.1], [0.06, 0.04, 0.9]]\n",
    "    #zip =>>> take one vector from each batch\n",
    "\n",
    "    scores = []\n",
    "\n",
    "    # Iterate over each y_true and compute the DCG score\n",
    "    for y_true, y_score in zip(T, predictions):\n",
    "        actual = dcg_score(y_true, y_score, k)\n",
    "        best = dcg_score(y_true, y_true, k)\n",
    "        score = float(actual) / float(best)\n",
    "        scores.append(score)\n",
    "\n",
    "    return np.mean(scores)"
   ]
  },
  {
   "cell_type": "markdown",
   "metadata": {},
   "source": [
    "# Logistic Regression"
   ]
  },
  {
   "cell_type": "code",
   "execution_count": 23,
   "metadata": {},
   "outputs": [
    {
     "name": "stdout",
     "output_type": "stream",
     "text": [
      "LogisticRegression(C=1.0, class_weight=None, dual=False, fit_intercept=True,\n",
      "          intercept_scaling=1, max_iter=100, multi_class='ovr', n_jobs=1,\n",
      "          penalty='l2', random_state=None, solver='liblinear', tol=0.0001,\n",
      "          verbose=0, warm_start=False)\n"
     ]
    }
   ],
   "source": [
    "from sklearn.linear_model import LogisticRegression\n",
    "\n",
    "lr = LogisticRegression(C = 1.0, penalty='l2', multi_class='ovr')\n",
    "print (lr)"
   ]
  },
  {
   "cell_type": "code",
   "execution_count": 24,
   "metadata": {
    "collapsed": true
   },
   "outputs": [],
   "source": [
    "LogisticRegression?"
   ]
  },
  {
   "cell_type": "code",
   "execution_count": 25,
   "metadata": {
    "collapsed": true
   },
   "outputs": [],
   "source": [
    "from sklearn.model_selection import KFold, cross_val_score, train_test_split"
   ]
  },
  {
   "cell_type": "code",
   "execution_count": 26,
   "metadata": {
    "collapsed": true
   },
   "outputs": [],
   "source": [
    "'''\n",
    "random_state:随机种子数\n",
    "设置后：每次运行结果相同\n",
    "不设置：从系统时间取，每次结果不同\n",
    "KFOLD中有shuffle参数：是否在划分时进行洗牌\n",
    "False：不洗牌，运行结果相同\n",
    "True：洗牌，运行结果不同\n",
    "True+设置random_state：运行结果相同\n",
    "'''\n",
    "RANDOM_STATE = 2017\n",
    "#K折交叉验证\n",
    "kf = KFold(n_splits=5, random_state=RANDOM_STATE)"
   ]
  },
  {
   "cell_type": "code",
   "execution_count": 27,
   "metadata": {
    "collapsed": true
   },
   "outputs": [],
   "source": [
    "#y_train"
   ]
  },
  {
   "cell_type": "code",
   "execution_count": 28,
   "metadata": {},
   "outputs": [
    {
     "name": "stdout",
     "output_type": "stream",
     "text": [
      "(17076, 203) (4269, 203)\n",
      "(17076, 203) (4269, 203)\n",
      "(17076, 203) (4269, 203)\n",
      "(17076, 203) (4269, 203)\n",
      "(17076, 203) (4269, 203)\n"
     ]
    }
   ],
   "source": [
    "train_score = []\n",
    "cv_score = []\n",
    "\n",
    "# select a k  (value how many y):\n",
    "k_ndcg = 3\n",
    "\n",
    "for train_index, test_index in kf.split(xtrain_new, ytrain_new):\n",
    "    \n",
    "    X_train, X_test = xtrain_new[train_index, :], xtrain_new[test_index, :]\n",
    "    y_train, y_test = ytrain_new[train_index], ytrain_new[test_index]\n",
    "    \n",
    "    print (X_train.shape, X_test.shape)\n",
    "    \n",
    "    "
   ]
  },
  {
   "cell_type": "code",
   "execution_count": 29,
   "metadata": {},
   "outputs": [
    {
     "name": "stdout",
     "output_type": "stream",
     "text": [
      "\n",
      "The training score is: 0.7619922521439951\n",
      "\n",
      "The cv score is: 0.7453253858205418\n"
     ]
    }
   ],
   "source": [
    "lr.fit(X_train, y_train)\n",
    "\n",
    "#predict_proba:返回预测每个分类的概率，每组数据结果为一个概率序列\n",
    "#predict:返回预测结果，每组数据预测结果为一个\n",
    "y_pred = lr.predict_proba(X_test)\n",
    "    \n",
    "    # for binary classification: we used to use f1 score, precision, recall, auc score.\n",
    "    # here for Airbnb we use the ndcg evaluation. \n",
    "    \n",
    "train_ndcg_score = ndcg_score(y_train, lr.predict_proba(X_train), k = k_ndcg)\n",
    "cv_ndcg_score = ndcg_score(y_test, y_pred, k=k_ndcg)\n",
    "    \n",
    "train_score.append(train_ndcg_score)\n",
    "cv_score.append(cv_ndcg_score)\n",
    "    \n",
    "print (\"\\nThe training score is: {}\".format(np.mean(train_score)))\n",
    "print (\"\\nThe cv score is: {}\".format(np.mean(cv_score)))"
   ]
  },
  {
   "cell_type": "code",
   "execution_count": 30,
   "metadata": {
    "collapsed": true
   },
   "outputs": [],
   "source": [
    "cv_score_lr = 0.744"
   ]
  },
  {
   "cell_type": "markdown",
   "metadata": {},
   "source": [
    "# learning curve of logistic regression\n",
    "\n",
    "# 1. Changing iteration"
   ]
  },
  {
   "cell_type": "code",
   "execution_count": 31,
   "metadata": {},
   "outputs": [
    {
     "name": "stdout",
     "output_type": "stream",
     "text": [
      "1 iterations:\n",
      "LogisticRegression(C=1.0, class_weight=None, dual=False, fit_intercept=True,\n",
      "          intercept_scaling=1, max_iter=1, multi_class='ovr', n_jobs=1,\n",
      "          penalty='l2', random_state=None, solver='newton-cg', tol=1e-05,\n",
      "          verbose=0, warm_start=False)\n",
      "(14230, 203) (7115, 203)\n"
     ]
    },
    {
     "name": "stderr",
     "output_type": "stream",
     "text": [
      "D:\\Users\\LPZ\\Anaconda3\\lib\\site-packages\\sklearn\\utils\\optimize.py:203: ConvergenceWarning: newton-cg failed to converge. Increase the number of iterations.\n",
      "  \"number of iterations.\", ConvergenceWarning)\n"
     ]
    },
    {
     "name": "stdout",
     "output_type": "stream",
     "text": [
      "(14230, 203) (7115, 203)\n",
      "(14230, 203) (7115, 203)\n",
      "\n",
      "The training score is: 0.7527319516245292\n",
      "The cv score is: 0.3032297661004591\n",
      "\n",
      "5 iterations:\n",
      "LogisticRegression(C=1.0, class_weight=None, dual=False, fit_intercept=True,\n",
      "          intercept_scaling=1, max_iter=5, multi_class='ovr', n_jobs=1,\n",
      "          penalty='l2', random_state=None, solver='newton-cg', tol=1e-05,\n",
      "          verbose=0, warm_start=False)\n",
      "(14230, 203) (7115, 203)\n"
     ]
    },
    {
     "name": "stderr",
     "output_type": "stream",
     "text": [
      "D:\\Users\\LPZ\\Anaconda3\\lib\\site-packages\\sklearn\\utils\\optimize.py:203: ConvergenceWarning: newton-cg failed to converge. Increase the number of iterations.\n",
      "  \"number of iterations.\", ConvergenceWarning)\n"
     ]
    },
    {
     "name": "stdout",
     "output_type": "stream",
     "text": [
      "(14230, 203) (7115, 203)\n",
      "(14230, 203) (7115, 203)\n",
      "\n",
      "The training score is: 0.784211430059762\n",
      "The cv score is: 0.5581244857516953\n",
      "\n",
      "10 iterations:\n",
      "LogisticRegression(C=1.0, class_weight=None, dual=False, fit_intercept=True,\n",
      "          intercept_scaling=1, max_iter=10, multi_class='ovr', n_jobs=1,\n",
      "          penalty='l2', random_state=None, solver='newton-cg', tol=1e-05,\n",
      "          verbose=0, warm_start=False)\n",
      "(14230, 203) (7115, 203)\n"
     ]
    },
    {
     "name": "stderr",
     "output_type": "stream",
     "text": [
      "D:\\Users\\LPZ\\Anaconda3\\lib\\site-packages\\sklearn\\utils\\optimize.py:203: ConvergenceWarning: newton-cg failed to converge. Increase the number of iterations.\n",
      "  \"number of iterations.\", ConvergenceWarning)\n"
     ]
    },
    {
     "name": "stdout",
     "output_type": "stream",
     "text": [
      "(14230, 203) (7115, 203)\n",
      "(14230, 203) (7115, 203)\n",
      "\n",
      "The training score is: 0.7852125450197911\n",
      "The cv score is: 0.7544977572320333\n",
      "\n",
      "15 iterations:\n",
      "LogisticRegression(C=1.0, class_weight=None, dual=False, fit_intercept=True,\n",
      "          intercept_scaling=1, max_iter=15, multi_class='ovr', n_jobs=1,\n",
      "          penalty='l2', random_state=None, solver='newton-cg', tol=1e-05,\n",
      "          verbose=0, warm_start=False)\n",
      "(14230, 203) (7115, 203)\n"
     ]
    },
    {
     "name": "stderr",
     "output_type": "stream",
     "text": [
      "D:\\Users\\LPZ\\Anaconda3\\lib\\site-packages\\sklearn\\utils\\optimize.py:203: ConvergenceWarning: newton-cg failed to converge. Increase the number of iterations.\n",
      "  \"number of iterations.\", ConvergenceWarning)\n"
     ]
    },
    {
     "name": "stdout",
     "output_type": "stream",
     "text": [
      "(14230, 203) (7115, 203)\n",
      "(14230, 203) (7115, 203)\n",
      "\n",
      "The training score is: 0.785190811902928\n",
      "The cv score is: 0.7631706110093397\n",
      "\n",
      "20 iterations:\n",
      "LogisticRegression(C=1.0, class_weight=None, dual=False, fit_intercept=True,\n",
      "          intercept_scaling=1, max_iter=20, multi_class='ovr', n_jobs=1,\n",
      "          penalty='l2', random_state=None, solver='newton-cg', tol=1e-05,\n",
      "          verbose=0, warm_start=False)\n",
      "(14230, 203) (7115, 203)\n"
     ]
    },
    {
     "name": "stderr",
     "output_type": "stream",
     "text": [
      "D:\\Users\\LPZ\\Anaconda3\\lib\\site-packages\\sklearn\\utils\\optimize.py:203: ConvergenceWarning: newton-cg failed to converge. Increase the number of iterations.\n",
      "  \"number of iterations.\", ConvergenceWarning)\n"
     ]
    },
    {
     "name": "stdout",
     "output_type": "stream",
     "text": [
      "(14230, 203) (7115, 203)\n",
      "(14230, 203) (7115, 203)\n",
      "\n",
      "The training score is: 0.7851897853451666\n",
      "The cv score is: 0.7631628374205958\n",
      "\n",
      "50 iterations:\n",
      "LogisticRegression(C=1.0, class_weight=None, dual=False, fit_intercept=True,\n",
      "          intercept_scaling=1, max_iter=50, multi_class='ovr', n_jobs=1,\n",
      "          penalty='l2', random_state=None, solver='newton-cg', tol=1e-05,\n",
      "          verbose=0, warm_start=False)\n",
      "(14230, 203) (7115, 203)\n",
      "(14230, 203) (7115, 203)\n",
      "(14230, 203) (7115, 203)\n",
      "\n",
      "The training score is: 0.7851897853451666\n",
      "The cv score is: 0.7631628374205958\n",
      "\n",
      "100 iterations:\n",
      "LogisticRegression(C=1.0, class_weight=None, dual=False, fit_intercept=True,\n",
      "          intercept_scaling=1, max_iter=100, multi_class='ovr', n_jobs=1,\n",
      "          penalty='l2', random_state=None, solver='newton-cg', tol=1e-05,\n",
      "          verbose=0, warm_start=False)\n",
      "(14230, 203) (7115, 203)\n",
      "(14230, 203) (7115, 203)\n",
      "(14230, 203) (7115, 203)\n",
      "\n",
      "The training score is: 0.7851897853451666\n",
      "The cv score is: 0.7631628374205958\n",
      "\n"
     ]
    }
   ],
   "source": [
    "# set the iterations\n",
    "\n",
    "iteration = [1,5,10,15,20, 50, 100]\n",
    "\n",
    "kf = KFold(n_splits=3, random_state=RANDOM_STATE)\n",
    "\n",
    "train_score = []\n",
    "cv_score = []\n",
    "\n",
    "# select a k:\n",
    "k_ndcg = 5\n",
    "\n",
    "for i, item in enumerate(iteration):\n",
    "    \n",
    "    print ('{} iterations:'.format(item))\n",
    "    \n",
    "    lr = LogisticRegression(C=1.0, max_iter=item, tol=1e-5, solver='newton-cg', multi_class='ovr')\n",
    "    #print coefficients   \n",
    "    print (lr)\n",
    "    \n",
    "    train_score_iter = []\n",
    "    cv_score_iter = []\n",
    "\n",
    "    for train_index, test_index in kf.split(xtrain_new, ytrain_new):\n",
    "\n",
    "        X_train, X_test = xtrain_new[train_index, :], xtrain_new[test_index, :]\n",
    "        y_train, y_test = ytrain_new[train_index], ytrain_new[test_index]\n",
    "\n",
    "        print (X_train.shape, X_test.shape)\n",
    "        \n",
    "        lr.fit(X_train, y_train)\n",
    "\n",
    "        y_pred = lr.predict_proba(X_test)\n",
    "\n",
    "        # for binary classification: we used to use f1 score, precision, recall, auc score.\n",
    "        # here for Airbnb we use the ndcg evaluation. \n",
    "\n",
    "        train_ndcg_score = ndcg_score(y_train, lr.predict_proba(X_train), k = k_ndcg)\n",
    "        cv_ndcg_score = ndcg_score(y_test, y_pred, k=k_ndcg)\n",
    "\n",
    "        \n",
    "        train_score_iter.append(train_ndcg_score)\n",
    "        cv_score_iter.append(cv_ndcg_score)\n",
    "        \n",
    "    train_score.append(np.mean(train_score_iter))\n",
    "    cv_score.append(np.mean(cv_score_iter))\n",
    "    \n",
    "    print (\"\\nThe training score is: {}\".format(np.mean(train_score_iter)))\n",
    "    print (\"The cv score is: {}\\n\".format(np.mean(cv_score_iter)))"
   ]
  },
  {
   "cell_type": "code",
   "execution_count": 32,
   "metadata": {},
   "outputs": [
    {
     "data": {
      "text/plain": [
       "array([ 7,  7, 10, ...,  9, 10,  7], dtype=int64)"
      ]
     },
     "execution_count": 32,
     "metadata": {},
     "output_type": "execute_result"
    }
   ],
   "source": [
    "y_train"
   ]
  },
  {
   "cell_type": "code",
   "execution_count": 33,
   "metadata": {},
   "outputs": [
    {
     "data": {
      "image/png": "[encoded data removed]",
      "text/plain": [
       "<matplotlib.figure.Figure at 0x1ba89a8f128>"
      ]
     },
     "metadata": {},
     "output_type": "display_data"
    }
   ],
   "source": [
    "ymin = np.min(cv_score)-0.05\n",
    "ymax = np.max(train_score)+0.05\n",
    "\n",
    "plt.figure(figsize=(9,4))\n",
    "plt.plot(iteration, train_score, 'ro-', label = 'training')\n",
    "plt.plot(iteration, cv_score, 'b*-', label = 'Cross-validation')\n",
    "plt.xlabel(\"iterations\")\n",
    "plt.ylabel(\"Score\")\n",
    "plt.xlim(-5, np.max(iteration)+10)\n",
    "plt.ylim(ymin, ymax)\n",
    "plt.plot(np.linspace(20,20,50), np.linspace(ymin, ymax, 50), 'g--')\n",
    "plt.legend(loc = 'lower right', fontsize = 12)\n",
    "plt.title(\"Score vs iteration learning curve\")\n",
    "\n",
    "plt.tight_layout()"
   ]
  },
  {
   "cell_type": "markdown",
   "metadata": {},
   "source": [
    "# 2. Varying data size"
   ]
  },
  {
   "cell_type": "code",
   "execution_count": 34,
   "metadata": {},
   "outputs": [
    {
     "name": "stdout",
     "output_type": "stream",
     "text": [
      "1% of the data\n",
      "LogisticRegression(C=1.0, class_weight=None, dual=False, fit_intercept=True,\n",
      "          intercept_scaling=1, max_iter=20, multi_class='ovr', n_jobs=1,\n",
      "          penalty='l2', random_state=None, solver='newton-cg', tol=1e-06,\n",
      "          verbose=0, warm_start=False)\n",
      "(142, 203) (71, 203)\n",
      "(142, 203) (71, 203)\n",
      "(142, 203) (71, 203)\n",
      "\n",
      "The training score is: 0.1392511300160372\n",
      "The cv score is: 0.11042568232196943\n",
      "\n",
      "2% of the data\n",
      "LogisticRegression(C=1.0, class_weight=None, dual=False, fit_intercept=True,\n",
      "          intercept_scaling=1, max_iter=20, multi_class='ovr', n_jobs=1,\n",
      "          penalty='l2', random_state=None, solver='newton-cg', tol=1e-06,\n",
      "          verbose=0, warm_start=False)\n",
      "(284, 203) (142, 203)\n"
     ]
    },
    {
     "name": "stderr",
     "output_type": "stream",
     "text": [
      "D:\\Users\\LPZ\\Anaconda3\\lib\\site-packages\\sklearn\\utils\\optimize.py:203: ConvergenceWarning: newton-cg failed to converge. Increase the number of iterations.\n",
      "  \"number of iterations.\", ConvergenceWarning)\n"
     ]
    },
    {
     "name": "stdout",
     "output_type": "stream",
     "text": [
      "(284, 203) (142, 203)\n",
      "(284, 203) (142, 203)\n",
      "\n",
      "The training score is: 0.2514796735062003\n",
      "The cv score is: 0.2729632790948306\n",
      "\n",
      "5% of the data\n",
      "LogisticRegression(C=1.0, class_weight=None, dual=False, fit_intercept=True,\n",
      "          intercept_scaling=1, max_iter=20, multi_class='ovr', n_jobs=1,\n",
      "          penalty='l2', random_state=None, solver='newton-cg', tol=1e-06,\n",
      "          verbose=0, warm_start=False)\n",
      "(711, 203) (356, 203)\n"
     ]
    },
    {
     "name": "stderr",
     "output_type": "stream",
     "text": [
      "D:\\Users\\LPZ\\Anaconda3\\lib\\site-packages\\sklearn\\utils\\optimize.py:203: ConvergenceWarning: newton-cg failed to converge. Increase the number of iterations.\n",
      "  \"number of iterations.\", ConvergenceWarning)\n"
     ]
    },
    {
     "name": "stdout",
     "output_type": "stream",
     "text": [
      "(711, 203) (356, 203)\n",
      "(712, 203) (355, 203)\n",
      "\n",
      "The training score is: 0.3772332849028106\n",
      "The cv score is: 0.31187519051555307\n",
      "\n",
      "10% of the data\n",
      "LogisticRegression(C=1.0, class_weight=None, dual=False, fit_intercept=True,\n",
      "          intercept_scaling=1, max_iter=20, multi_class='ovr', n_jobs=1,\n",
      "          penalty='l2', random_state=None, solver='newton-cg', tol=1e-06,\n",
      "          verbose=0, warm_start=False)\n",
      "(1422, 203) (712, 203)\n"
     ]
    },
    {
     "name": "stderr",
     "output_type": "stream",
     "text": [
      "D:\\Users\\LPZ\\Anaconda3\\lib\\site-packages\\sklearn\\utils\\optimize.py:203: ConvergenceWarning: newton-cg failed to converge. Increase the number of iterations.\n",
      "  \"number of iterations.\", ConvergenceWarning)\n"
     ]
    },
    {
     "name": "stdout",
     "output_type": "stream",
     "text": [
      "(1423, 203) (711, 203)\n",
      "(1423, 203) (711, 203)\n",
      "\n",
      "The training score is: 0.7255201026766009\n",
      "The cv score is: 0.6506309149530095\n",
      "\n",
      "20% of the data\n",
      "LogisticRegression(C=1.0, class_weight=None, dual=False, fit_intercept=True,\n",
      "          intercept_scaling=1, max_iter=20, multi_class='ovr', n_jobs=1,\n",
      "          penalty='l2', random_state=None, solver='newton-cg', tol=1e-06,\n",
      "          verbose=0, warm_start=False)\n",
      "(2846, 203) (1423, 203)\n"
     ]
    },
    {
     "name": "stderr",
     "output_type": "stream",
     "text": [
      "D:\\Users\\LPZ\\Anaconda3\\lib\\site-packages\\sklearn\\utils\\optimize.py:203: ConvergenceWarning: newton-cg failed to converge. Increase the number of iterations.\n",
      "  \"number of iterations.\", ConvergenceWarning)\n"
     ]
    },
    {
     "name": "stdout",
     "output_type": "stream",
     "text": [
      "(2846, 203) (1423, 203)\n",
      "(2846, 203) (1423, 203)\n",
      "\n",
      "The training score is: 0.7979551257911561\n",
      "The cv score is: 0.7559289011699967\n",
      "\n",
      "50% of the data\n",
      "LogisticRegression(C=1.0, class_weight=None, dual=False, fit_intercept=True,\n",
      "          intercept_scaling=1, max_iter=20, multi_class='ovr', n_jobs=1,\n",
      "          penalty='l2', random_state=None, solver='newton-cg', tol=1e-06,\n",
      "          verbose=0, warm_start=False)\n",
      "(7114, 203) (3558, 203)\n"
     ]
    },
    {
     "name": "stderr",
     "output_type": "stream",
     "text": [
      "D:\\Users\\LPZ\\Anaconda3\\lib\\site-packages\\sklearn\\utils\\optimize.py:203: ConvergenceWarning: newton-cg failed to converge. Increase the number of iterations.\n",
      "  \"number of iterations.\", ConvergenceWarning)\n"
     ]
    },
    {
     "name": "stdout",
     "output_type": "stream",
     "text": [
      "(7115, 203) (3557, 203)\n",
      "(7115, 203) (3557, 203)\n",
      "\n",
      "The training score is: 0.7831146620136273\n",
      "The cv score is: 0.7356716313981941\n",
      "\n",
      "100% of the data\n",
      "LogisticRegression(C=1.0, class_weight=None, dual=False, fit_intercept=True,\n",
      "          intercept_scaling=1, max_iter=20, multi_class='ovr', n_jobs=1,\n",
      "          penalty='l2', random_state=None, solver='newton-cg', tol=1e-06,\n",
      "          verbose=0, warm_start=False)\n",
      "(14230, 203) (7115, 203)\n"
     ]
    },
    {
     "name": "stderr",
     "output_type": "stream",
     "text": [
      "D:\\Users\\LPZ\\Anaconda3\\lib\\site-packages\\sklearn\\utils\\optimize.py:203: ConvergenceWarning: newton-cg failed to converge. Increase the number of iterations.\n",
      "  \"number of iterations.\", ConvergenceWarning)\n"
     ]
    },
    {
     "name": "stdout",
     "output_type": "stream",
     "text": [
      "(14230, 203) (7115, 203)\n",
      "(14230, 203) (7115, 203)\n",
      "\n",
      "The training score is: 0.7851897853451666\n",
      "The cv score is: 0.7631628374205958\n",
      "\n"
     ]
    }
   ],
   "source": [
    "# Chaning the sampling size\n",
    "# set the iter to the best iteration: iter = 20\n",
    "\n",
    "perc = [0.01,0.02,0.05,0.1,0.2,0.5,1]\n",
    "\n",
    "kf = KFold(n_splits=3, random_state=RANDOM_STATE)\n",
    "\n",
    "train_score = []\n",
    "cv_score = []\n",
    "\n",
    "# select a k:\n",
    "k_ndcg = 5\n",
    "\n",
    "for i, item in enumerate(perc):\n",
    "    \n",
    "    print ('{}% of the data'.format(int(item*100)))\n",
    "    \n",
    "    lr = LogisticRegression(C=1.0, max_iter=20, tol=1e-6, solver='newton-cg', multi_class='ovr')\n",
    "        \n",
    "    print (lr)\n",
    "    \n",
    "    train_score_iter = []\n",
    "    cv_score_iter = []\n",
    "    \n",
    "    n = int(xtrain_new.shape[0]*item)\n",
    "    xtrain_perc = xtrain_new[:n, :]\n",
    "    ytrain_perc = ytrain_new[:n]\n",
    "\n",
    "\n",
    "    for train_index, test_index in kf.split(xtrain_perc, ytrain_perc):\n",
    "        \n",
    "        X_train, X_test = xtrain_perc[train_index, :], xtrain_perc[test_index, :]\n",
    "        y_train, y_test = ytrain_perc[train_index], ytrain_perc[test_index]\n",
    "\n",
    "        print (X_train.shape, X_test.shape)\n",
    "        \n",
    "        lr.fit(X_train, y_train)\n",
    "\n",
    "        y_pred = lr.predict_proba(X_test)\n",
    "\n",
    "        # for binary classification: we used to use f1 score, precision, recall, auc score.\n",
    "        # here for Airbnb we use the ndcg evaluation. \n",
    "\n",
    "        train_ndcg_score = ndcg_score(y_train, lr.predict_proba(X_train), k = k_ndcg)\n",
    "        cv_ndcg_score = ndcg_score(y_test, y_pred, k=k_ndcg)\n",
    "\n",
    "        train_score_iter.append(train_ndcg_score)\n",
    "        cv_score_iter.append(cv_ndcg_score)\n",
    "        \n",
    "    train_score.append(np.mean(train_score_iter))\n",
    "    cv_score.append(np.mean(cv_score_iter))\n",
    "    \n",
    "    print (\"\\nThe training score is: {}\".format(np.mean(train_score_iter)))\n",
    "    print (\"The cv score is: {}\\n\".format(np.mean(cv_score_iter)))"
   ]
  },
  {
   "cell_type": "code",
   "execution_count": 35,
   "metadata": {},
   "outputs": [
    {
     "data": {
      "image/png": "[encoded data removed]",
      "text/plain": [
       "<matplotlib.figure.Figure at 0x1ba8a0cc1d0>"
      ]
     },
     "metadata": {},
     "output_type": "display_data"
    }
   ],
   "source": [
    "ymin = np.min(cv_score)-0.1\n",
    "ymax = np.max(train_score)+0.1\n",
    "\n",
    "plt.figure(figsize=(9,4))\n",
    "plt.plot(np.array(perc)*100, train_score, 'ro-', label = 'training')\n",
    "plt.plot(np.array(perc)*100, cv_score, 'bo-', label = 'Cross-validation')\n",
    "plt.xlabel(\"Sample size (unit %)\")\n",
    "plt.ylabel(\"Score\")\n",
    "plt.xlim(-5, np.max(perc)*100+10)\n",
    "plt.ylim(ymin, ymax)\n",
    "\n",
    "plt.legend(loc = 'lower right', fontsize = 12)\n",
    "plt.title(\"Score vs sample size learning curve\")\n",
    "\n",
    "plt.tight_layout()"
   ]
  },
  {
   "cell_type": "code",
   "execution_count": 36,
   "metadata": {
    "collapsed": true
   },
   "outputs": [],
   "source": [
    "# from sklearn.ensemble import AdaBoostClassifier, BaggingClassifier, ExtraTreesClassifier\n",
    "# from sklearn.ensemble import GradientBoostingClassifier, RandomForestClassifier\n",
    "from sklearn.tree import DecisionTreeClassifier\n",
    "from sklearn.ensemble import *\n",
    "from sklearn.svm import SVC, LinearSVC, NuSVC"
   ]
  },
  {
   "cell_type": "markdown",
   "metadata": {},
   "source": [
    "# Tree method"
   ]
  },
  {
   "cell_type": "code",
   "execution_count": 37,
   "metadata": {
    "collapsed": true
   },
   "outputs": [],
   "source": [
    "LEARNING_RATE = 0.1\n",
    "N_ESTIMATORS = 50\n",
    "RANDOM_STATE = 2017\n",
    "MAX_DEPTH = 9\n",
    "#DecisionTree Bagging Boosting\n",
    "#Boosting算法：损失函数不同，算法名称不同\n",
    "clf_tree ={\n",
    "    'DTree': DecisionTreeClassifier(max_depth=MAX_DEPTH,\n",
    "                                    random_state=RANDOM_STATE),\n",
    "    #随机选取部分样本（参数可选），划分时features随机选取部分\n",
    "    'RF': RandomForestClassifier(n_estimators=N_ESTIMATORS,\n",
    "                                 max_depth=MAX_DEPTH,\n",
    "                                 random_state=RANDOM_STATE),\n",
    "    \n",
    "    'AdaBoost': AdaBoostClassifier(n_estimators=N_ESTIMATORS,\n",
    "                                   learning_rate=LEARNING_RATE,\n",
    "                                   random_state=RANDOM_STATE),\n",
    "    #随机选取部分样本，features在全部里选最优\n",
    "    'Bagging': BaggingClassifier(n_estimators=N_ESTIMATORS,\n",
    "                                 random_state=RANDOM_STATE),\n",
    "    #默认使用所有样本，但划分时features随机选取部分\n",
    "    'ExtraTree': ExtraTreesClassifier(max_depth=MAX_DEPTH,\n",
    "                                      n_estimators=N_ESTIMATORS,\n",
    "                                      random_state=RANDOM_STATE),\n",
    "    #梯度提升树\n",
    "    'GraBoost': GradientBoostingClassifier(learning_rate=LEARNING_RATE,\n",
    "                                           max_depth=MAX_DEPTH,\n",
    "                                           n_estimators=N_ESTIMATORS,\n",
    "                                           random_state=RANDOM_STATE)\n",
    "}"
   ]
  },
  {
   "cell_type": "code",
   "execution_count": 38,
   "metadata": {
    "scrolled": true
   },
   "outputs": [
    {
     "name": "stdout",
     "output_type": "stream",
     "text": [
      "DecisionTreeClassifier(class_weight=None, criterion='gini', max_depth=9,\n",
      "            max_features=None, max_leaf_nodes=None,\n",
      "            min_impurity_decrease=0.0, min_impurity_split=None,\n",
      "            min_samples_leaf=1, min_samples_split=2,\n",
      "            min_weight_fraction_leaf=0.0, presort=False, random_state=2017,\n",
      "            splitter='best')\n",
      "RandomForestClassifier(bootstrap=True, class_weight=None, criterion='gini',\n",
      "            max_depth=9, max_features='auto', max_leaf_nodes=None,\n",
      "            min_impurity_decrease=0.0, min_impurity_split=None,\n",
      "            min_samples_leaf=1, min_samples_split=2,\n",
      "            min_weight_fraction_leaf=0.0, n_estimators=50, n_jobs=1,\n",
      "            oob_score=False, random_state=2017, verbose=0,\n",
      "            warm_start=False)\n",
      "AdaBoostClassifier(algorithm='SAMME.R', base_estimator=None,\n",
      "          learning_rate=0.1, n_estimators=50, random_state=2017)\n",
      "BaggingClassifier(base_estimator=None, bootstrap=True,\n",
      "         bootstrap_features=False, max_features=1.0, max_samples=1.0,\n",
      "         n_estimators=50, n_jobs=1, oob_score=False, random_state=2017,\n",
      "         verbose=0, warm_start=False)\n",
      "ExtraTreesClassifier(bootstrap=False, class_weight=None, criterion='gini',\n",
      "           max_depth=9, max_features='auto', max_leaf_nodes=None,\n",
      "           min_impurity_decrease=0.0, min_impurity_split=None,\n",
      "           min_samples_leaf=1, min_samples_split=2,\n",
      "           min_weight_fraction_leaf=0.0, n_estimators=50, n_jobs=1,\n",
      "           oob_score=False, random_state=2017, verbose=0, warm_start=False)\n",
      "GradientBoostingClassifier(criterion='friedman_mse', init=None,\n",
      "              learning_rate=0.1, loss='deviance', max_depth=9,\n",
      "              max_features=None, max_leaf_nodes=None,\n",
      "              min_impurity_decrease=0.0, min_impurity_split=None,\n",
      "              min_samples_leaf=1, min_samples_split=2,\n",
      "              min_weight_fraction_leaf=0.0, n_estimators=50,\n",
      "              presort='auto', random_state=2017, subsample=1.0, verbose=0,\n",
      "              warm_start=False)\n"
     ]
    }
   ],
   "source": [
    "for key in clf_tree.keys():\n",
    "    \n",
    "    print (clf_tree.get(key))"
   ]
  },
  {
   "cell_type": "code",
   "execution_count": 39,
   "metadata": {},
   "outputs": [
    {
     "name": "stdout",
     "output_type": "stream",
     "text": [
      "DecisionTreeClassifier(class_weight=None, criterion='gini', max_depth=9,\n",
      "            max_features=None, max_leaf_nodes=None,\n",
      "            min_impurity_decrease=0.0, min_impurity_split=None,\n",
      "            min_samples_leaf=1, min_samples_split=2,\n",
      "            min_weight_fraction_leaf=0.0, presort=False, random_state=2017,\n",
      "            splitter='best')\n",
      "(14230, 203) (7115, 203)\n",
      "(14230, 203) (7115, 203)\n",
      "(14230, 203) (7115, 203)\n",
      "\n",
      "The training score is: 0.8036065670636977\n",
      "The cv score is: 0.7463964600394104\n",
      "\n",
      "RandomForestClassifier(bootstrap=True, class_weight=None, criterion='gini',\n",
      "            max_depth=9, max_features='auto', max_leaf_nodes=None,\n",
      "            min_impurity_decrease=0.0, min_impurity_split=None,\n",
      "            min_samples_leaf=1, min_samples_split=2,\n",
      "            min_weight_fraction_leaf=0.0, n_estimators=50, n_jobs=1,\n",
      "            oob_score=False, random_state=2017, verbose=0,\n",
      "            warm_start=False)\n",
      "(14230, 203) (7115, 203)\n",
      "(14230, 203) (7115, 203)\n",
      "(14230, 203) (7115, 203)\n",
      "\n",
      "The training score is: 0.8134918029006366\n",
      "The cv score is: 0.7656833938480229\n",
      "\n",
      "AdaBoostClassifier(algorithm='SAMME.R', base_estimator=None,\n",
      "          learning_rate=0.1, n_estimators=50, random_state=2017)\n",
      "(14230, 203) (7115, 203)\n",
      "(14230, 203) (7115, 203)\n",
      "(14230, 203) (7115, 203)\n",
      "\n",
      "The training score is: 0.7705077322209672\n",
      "The cv score is: 0.7577075145784145\n",
      "\n",
      "BaggingClassifier(base_estimator=None, bootstrap=True,\n",
      "         bootstrap_features=False, max_features=1.0, max_samples=1.0,\n",
      "         n_estimators=50, n_jobs=1, oob_score=False, random_state=2017,\n",
      "         verbose=0, warm_start=False)\n",
      "(14230, 203) (7115, 203)\n",
      "(14230, 203) (7115, 203)\n",
      "(14230, 203) (7115, 203)\n",
      "\n",
      "The training score is: 0.9930388438728547\n",
      "The cv score is: 0.7455996739896437\n",
      "\n",
      "ExtraTreesClassifier(bootstrap=False, class_weight=None, criterion='gini',\n",
      "           max_depth=9, max_features='auto', max_leaf_nodes=None,\n",
      "           min_impurity_decrease=0.0, min_impurity_split=None,\n",
      "           min_samples_leaf=1, min_samples_split=2,\n",
      "           min_weight_fraction_leaf=0.0, n_estimators=50, n_jobs=1,\n",
      "           oob_score=False, random_state=2017, verbose=0, warm_start=False)\n",
      "(14230, 203) (7115, 203)\n",
      "(14230, 203) (7115, 203)\n",
      "(14230, 203) (7115, 203)\n",
      "\n",
      "The training score is: 0.8115792033406439\n",
      "The cv score is: 0.771262990862296\n",
      "\n",
      "GradientBoostingClassifier(criterion='friedman_mse', init=None,\n",
      "              learning_rate=0.1, loss='deviance', max_depth=9,\n",
      "              max_features=None, max_leaf_nodes=None,\n",
      "              min_impurity_decrease=0.0, min_impurity_split=None,\n",
      "              min_samples_leaf=1, min_samples_split=2,\n",
      "              min_weight_fraction_leaf=0.0, n_estimators=50,\n",
      "              presort='auto', random_state=2017, subsample=1.0, verbose=0,\n",
      "              warm_start=False)\n",
      "(14230, 203) (7115, 203)\n",
      "(14230, 203) (7115, 203)\n",
      "(14230, 203) (7115, 203)\n",
      "\n",
      "The training score is: 0.9354366474842516\n",
      "The cv score is: 0.7525019151531304\n",
      "\n"
     ]
    }
   ],
   "source": [
    "train_score = []\n",
    "cv_score = []\n",
    "\n",
    "kf = KFold(n_splits=3, random_state=RANDOM_STATE)\n",
    "\n",
    "k_ndcg = 5\n",
    "\n",
    "for key in clf_tree.keys():\n",
    "    \n",
    "    clf = clf_tree.get(key)\n",
    "    print (clf)\n",
    "    \n",
    "    train_score_iter = []\n",
    "    cv_score_iter = []\n",
    "\n",
    "    for train_index, test_index in kf.split(xtrain_new, ytrain_new):\n",
    "\n",
    "        X_train, X_test = xtrain_new[train_index, :], xtrain_new[test_index, :]\n",
    "        y_train, y_test = ytrain_new[train_index], ytrain_new[test_index]\n",
    "\n",
    "        print (X_train.shape, X_test.shape)\n",
    "        \n",
    "        clf.fit(X_train, y_train)\n",
    "\n",
    "        y_pred = clf.predict_proba(X_test)\n",
    "\n",
    "        # for binary classification: we used to use f1 score, precision, recall, auc score.\n",
    "        # here for Airbnb we use the ndcg evaluation. \n",
    "\n",
    "        train_ndcg_score = ndcg_score(y_train, clf.predict_proba(X_train), k = k_ndcg)\n",
    "        cv_ndcg_score = ndcg_score(y_test, y_pred, k=k_ndcg)\n",
    "\n",
    "        train_score_iter.append(train_ndcg_score)\n",
    "        cv_score_iter.append(cv_ndcg_score)\n",
    "        \n",
    "    train_score.append(np.mean(train_score_iter))\n",
    "    cv_score.append(np.mean(cv_score_iter))\n",
    "    \n",
    "    print (\"\\nThe training score is: {}\".format(np.mean(train_score_iter)))\n",
    "    print (\"The cv score is: {}\\n\".format(np.mean(cv_score_iter)))"
   ]
  },
  {
   "cell_type": "code",
   "execution_count": 40,
   "metadata": {
    "collapsed": true
   },
   "outputs": [],
   "source": [
    "train_score_tree = train_score\n",
    "cv_score_tree = cv_score"
   ]
  },
  {
   "cell_type": "code",
   "execution_count": 41,
   "metadata": {
    "scrolled": true
   },
   "outputs": [
    {
     "data": {
      "image/png": "[encoded data removed]",
      "text/plain": [
       "<matplotlib.figure.Figure at 0x1ba8a732f28>"
      ]
     },
     "metadata": {},
     "output_type": "display_data"
    }
   ],
   "source": [
    "#各模型对比\n",
    "#分别比较训练集和交叉验证分数\n",
    "#训练集ndcg分数较交叉验证高很多，说明该算法容易过拟合\n",
    "ymin = np.min(cv_score)-0.05\n",
    "ymax = np.max(train_score)+0.05\n",
    "\n",
    "x_ticks = clf_tree.keys()\n",
    "\n",
    "plt.figure(figsize=(8,5))\n",
    "plt.plot(range(len(x_ticks)), train_score_tree, 'ro-', label = 'training')\n",
    "plt.plot(range(len(x_ticks)),cv_score_tree, 'bo-', label = 'Cross-validation')\n",
    "\n",
    "plt.xticks(range(len(x_ticks)),x_ticks,rotation = 45, fontsize = 10)\n",
    "plt.xlabel(\"Tree method\", fontsize = 12)\n",
    "plt.ylabel(\"Score\", fontsize = 12)\n",
    "plt.xlim(-0.5, 5.5)\n",
    "plt.ylim(ymin, ymax)\n",
    "\n",
    "plt.legend(loc = 'best', fontsize = 12)\n",
    "plt.title(\"Different tree methods\")\n",
    "\n",
    "plt.tight_layout()"
   ]
  },
  {
   "cell_type": "markdown",
   "metadata": {},
   "source": [
    "# RandomForestClassifier"
   ]
  },
  {
   "cell_type": "code",
   "execution_count": 42,
   "metadata": {},
   "outputs": [
    {
     "name": "stdout",
     "output_type": "stream",
     "text": [
      "the num of estimator in RF is:10\n",
      "RandomForestClassifier(bootstrap=True, class_weight=None, criterion='gini',\n",
      "            max_depth=9, max_features='auto', max_leaf_nodes=None,\n",
      "            min_impurity_decrease=0.0, min_impurity_split=None,\n",
      "            min_samples_leaf=1, min_samples_split=2,\n",
      "            min_weight_fraction_leaf=0.0, n_estimators=10, n_jobs=1,\n",
      "            oob_score=False, random_state=2017, verbose=0,\n",
      "            warm_start=False)\n",
      "\n",
      "The training score is: 0.8008304718050544\n",
      "The cv score is: 0.7850001277168923\n",
      "\n",
      "the num of estimator in RF is:30\n",
      "RandomForestClassifier(bootstrap=True, class_weight=None, criterion='gini',\n",
      "            max_depth=9, max_features='auto', max_leaf_nodes=None,\n",
      "            min_impurity_decrease=0.0, min_impurity_split=None,\n",
      "            min_samples_leaf=1, min_samples_split=2,\n",
      "            min_weight_fraction_leaf=0.0, n_estimators=30, n_jobs=1,\n",
      "            oob_score=False, random_state=2017, verbose=0,\n",
      "            warm_start=False)\n",
      "\n",
      "The training score is: 0.8084830069876268\n",
      "The cv score is: 0.7876066483135693\n",
      "\n",
      "the num of estimator in RF is:50\n",
      "RandomForestClassifier(bootstrap=True, class_weight=None, criterion='gini',\n",
      "            max_depth=9, max_features='auto', max_leaf_nodes=None,\n",
      "            min_impurity_decrease=0.0, min_impurity_split=None,\n",
      "            min_samples_leaf=1, min_samples_split=2,\n",
      "            min_weight_fraction_leaf=0.0, n_estimators=50, n_jobs=1,\n",
      "            oob_score=False, random_state=2017, verbose=0,\n",
      "            warm_start=False)\n",
      "\n",
      "The training score is: 0.8100520686998892\n",
      "The cv score is: 0.7869591474918892\n",
      "\n",
      "the num of estimator in RF is:70\n",
      "RandomForestClassifier(bootstrap=True, class_weight=None, criterion='gini',\n",
      "            max_depth=9, max_features='auto', max_leaf_nodes=None,\n",
      "            min_impurity_decrease=0.0, min_impurity_split=None,\n",
      "            min_samples_leaf=1, min_samples_split=2,\n",
      "            min_weight_fraction_leaf=0.0, n_estimators=70, n_jobs=1,\n",
      "            oob_score=False, random_state=2017, verbose=0,\n",
      "            warm_start=False)\n",
      "\n",
      "The training score is: 0.8104487065483691\n",
      "The cv score is: 0.7878465720401412\n",
      "\n",
      "the num of estimator in RF is:90\n",
      "RandomForestClassifier(bootstrap=True, class_weight=None, criterion='gini',\n",
      "            max_depth=9, max_features='auto', max_leaf_nodes=None,\n",
      "            min_impurity_decrease=0.0, min_impurity_split=None,\n",
      "            min_samples_leaf=1, min_samples_split=2,\n",
      "            min_weight_fraction_leaf=0.0, n_estimators=90, n_jobs=1,\n",
      "            oob_score=False, random_state=2017, verbose=0,\n",
      "            warm_start=False)\n",
      "\n",
      "The training score is: 0.8102121789748218\n",
      "The cv score is: 0.7860238103112533\n",
      "\n",
      "the num of estimator in RF is:110\n",
      "RandomForestClassifier(bootstrap=True, class_weight=None, criterion='gini',\n",
      "            max_depth=9, max_features='auto', max_leaf_nodes=None,\n",
      "            min_impurity_decrease=0.0, min_impurity_split=None,\n",
      "            min_samples_leaf=1, min_samples_split=2,\n",
      "            min_weight_fraction_leaf=0.0, n_estimators=110, n_jobs=1,\n",
      "            oob_score=False, random_state=2017, verbose=0,\n",
      "            warm_start=False)\n",
      "\n",
      "The training score is: 0.8108252012330839\n",
      "The cv score is: 0.7870945771052544\n",
      "\n",
      "the num of estimator in RF is:130\n",
      "RandomForestClassifier(bootstrap=True, class_weight=None, criterion='gini',\n",
      "            max_depth=9, max_features='auto', max_leaf_nodes=None,\n",
      "            min_impurity_decrease=0.0, min_impurity_split=None,\n",
      "            min_samples_leaf=1, min_samples_split=2,\n",
      "            min_weight_fraction_leaf=0.0, n_estimators=130, n_jobs=1,\n",
      "            oob_score=False, random_state=2017, verbose=0,\n",
      "            warm_start=False)\n",
      "\n",
      "The training score is: 0.811159468246796\n",
      "The cv score is: 0.7877537279807698\n",
      "\n",
      "the num of estimator in RF is:150\n",
      "RandomForestClassifier(bootstrap=True, class_weight=None, criterion='gini',\n",
      "            max_depth=9, max_features='auto', max_leaf_nodes=None,\n",
      "            min_impurity_decrease=0.0, min_impurity_split=None,\n",
      "            min_samples_leaf=1, min_samples_split=2,\n",
      "            min_weight_fraction_leaf=0.0, n_estimators=150, n_jobs=1,\n",
      "            oob_score=False, random_state=2017, verbose=0,\n",
      "            warm_start=False)\n",
      "\n",
      "The training score is: 0.8117064080546545\n",
      "The cv score is: 0.7873936094990612\n",
      "\n",
      "the num of estimator in RF is:170\n",
      "RandomForestClassifier(bootstrap=True, class_weight=None, criterion='gini',\n",
      "            max_depth=9, max_features='auto', max_leaf_nodes=None,\n",
      "            min_impurity_decrease=0.0, min_impurity_split=None,\n",
      "            min_samples_leaf=1, min_samples_split=2,\n",
      "            min_weight_fraction_leaf=0.0, n_estimators=170, n_jobs=1,\n",
      "            oob_score=False, random_state=2017, verbose=0,\n",
      "            warm_start=False)\n",
      "\n",
      "The training score is: 0.8112674083124568\n",
      "The cv score is: 0.7875612570643135\n",
      "\n",
      "the num of estimator in RF is:190\n",
      "RandomForestClassifier(bootstrap=True, class_weight=None, criterion='gini',\n",
      "            max_depth=9, max_features='auto', max_leaf_nodes=None,\n",
      "            min_impurity_decrease=0.0, min_impurity_split=None,\n",
      "            min_samples_leaf=1, min_samples_split=2,\n",
      "            min_weight_fraction_leaf=0.0, n_estimators=190, n_jobs=1,\n",
      "            oob_score=False, random_state=2017, verbose=0,\n",
      "            warm_start=False)\n",
      "\n",
      "The training score is: 0.8106574799261608\n",
      "The cv score is: 0.7877448529989569\n",
      "\n"
     ]
    }
   ],
   "source": [
    "# estimator numbers:\n",
    "\n",
    "#num_estimators = [10, 50, 100, 200, 500, 1000]\n",
    "num_estimators = 10 + np.arange(10)*20\n",
    "\n",
    "train_score_rf = []\n",
    "cv_score_rf = []\n",
    "\n",
    "X_train, X_test, y_train, y_test = train_test_split(xtrain_new, ytrain_new, test_size=0.2, \n",
    "                                                    random_state=RANDOM_STATE)\n",
    "\n",
    "k_ndcg = 5\n",
    "\n",
    "for item in num_estimators:\n",
    "    \n",
    "    print (\"the num of estimator in RF is:{}\".format(item))\n",
    "    \n",
    "    clf = RandomForestClassifier(n_estimators=item, \n",
    "                                 random_state=RANDOM_STATE, \n",
    "                                 max_depth=MAX_DEPTH)\n",
    "    print (clf)\n",
    "\n",
    "        \n",
    "    clf.fit(X_train, y_train)\n",
    "\n",
    "    y_pred = clf.predict_proba(X_test)\n",
    "\n",
    "    # for binary classification: we used to use f1 score, precision, recall, auc score.\n",
    "    # here for Airbnb we use the ndcg evaluation. \n",
    "\n",
    "    train_ndcg_score = ndcg_score(y_train, clf.predict_proba(X_train), k = k_ndcg)\n",
    "    cv_ndcg_score = ndcg_score(y_test, y_pred, k=k_ndcg)\n",
    "\n",
    "    train_score_rf.append(train_ndcg_score)\n",
    "    cv_score_rf.append(cv_ndcg_score)\n",
    "    \n",
    "    print (\"\\nThe training score is: {}\".format(train_ndcg_score))\n",
    "    print (\"The cv score is: {}\\n\".format(cv_ndcg_score))"
   ]
  },
  {
   "cell_type": "code",
   "execution_count": 43,
   "metadata": {},
   "outputs": [
    {
     "data": {
      "image/png": "[encoded data removed]",
      "text/plain": [
       "<matplotlib.figure.Figure at 0x1ba8a6f0630>"
      ]
     },
     "metadata": {},
     "output_type": "display_data"
    }
   ],
   "source": [
    "#决策树深度，决定是否会过拟合\n",
    "plt.figure(figsize=(8,5))\n",
    "plt.plot(num_estimators, train_score_rf, 'ro-', label = 'training')\n",
    "plt.plot(num_estimators,cv_score_rf, 'bo-', label = 'Cross-validation')\n",
    "\n",
    "plt.xlabel(\"# of estimator in RandomForest\", fontsize = 12)\n",
    "plt.ylabel(\"Score\", fontsize = 12)\n",
    "plt.xlim(0, np.max(num_estimators)+20)\n",
    "\n",
    "\n",
    "plt.legend(loc = 'best', fontsize = 12)\n",
    "plt.title(\"RF learning curve\")\n",
    "\n",
    "plt.tight_layout()"
   ]
  },
  {
   "cell_type": "code",
   "execution_count": 44,
   "metadata": {
    "collapsed": true
   },
   "outputs": [],
   "source": [
    "#  play with other parameters"
   ]
  },
  {
   "cell_type": "code",
   "execution_count": null,
   "metadata": {
    "collapsed": true
   },
   "outputs": [],
   "source": []
  },
  {
   "cell_type": "markdown",
   "metadata": {},
   "source": [
    "# SVM"
   ]
  },
  {
   "cell_type": "code",
   "execution_count": 45,
   "metadata": {
    "collapsed": true
   },
   "outputs": [],
   "source": [
    "TOL = 1e-4\n",
    "MAX_ITER = 1000\n",
    "\n",
    "#kernel:核函数支持向量机\n",
    "#poly：多项式核函数\n",
    "#rbf：高斯核函数/径向基核函数 default\n",
    "#linear：线性核函数\n",
    "#LinearSVC：线性分类\n",
    "clf_svm = {\n",
    "    \n",
    "    'SVM-rbf': SVC(kernel='rbf',\n",
    "                   max_iter=MAX_ITER,\n",
    "                   tol=TOL, random_state=RANDOM_STATE,\n",
    "                   decision_function_shape='ovr'),     # solver : libsvm\n",
    "    \n",
    "    'SVM-poly': SVC(kernel='poly',\n",
    "                   max_iter=MAX_ITER,\n",
    "                   tol=TOL, random_state=RANDOM_STATE,\n",
    "                   decision_function_shape='ovr'),      # solver : libsvm\n",
    "    \n",
    "    'SVM-linear': SVC(kernel='linear',\n",
    "                      max_iter=MAX_ITER,\n",
    "                      tol=TOL, \n",
    "                      random_state=RANDOM_STATE,\n",
    "                      decision_function_shape='ovr'),   # solver : libsvm\n",
    "    \n",
    "    'LinearSVC': LinearSVC(max_iter=MAX_ITER,\n",
    "                            tol=TOL,\n",
    "                            random_state=RANDOM_STATE,\n",
    "                            multi_class = 'ovr')        # solver: liblinear\n",
    "}"
   ]
  },
  {
   "cell_type": "code",
   "execution_count": 46,
   "metadata": {},
   "outputs": [
    {
     "name": "stdout",
     "output_type": "stream",
     "text": [
      "SVC(C=1.0, cache_size=200, class_weight=None, coef0=0.0,\n",
      "  decision_function_shape='ovr', degree=3, gamma='auto', kernel='rbf',\n",
      "  max_iter=1000, probability=False, random_state=2017, shrinking=True,\n",
      "  tol=0.0001, verbose=False)\n",
      "SVC(C=1.0, cache_size=200, class_weight=None, coef0=0.0,\n",
      "  decision_function_shape='ovr', degree=3, gamma='auto', kernel='poly',\n",
      "  max_iter=1000, probability=False, random_state=2017, shrinking=True,\n",
      "  tol=0.0001, verbose=False)\n",
      "SVC(C=1.0, cache_size=200, class_weight=None, coef0=0.0,\n",
      "  decision_function_shape='ovr', degree=3, gamma='auto', kernel='linear',\n",
      "  max_iter=1000, probability=False, random_state=2017, shrinking=True,\n",
      "  tol=0.0001, verbose=False)\n",
      "LinearSVC(C=1.0, class_weight=None, dual=True, fit_intercept=True,\n",
      "     intercept_scaling=1, loss='squared_hinge', max_iter=1000,\n",
      "     multi_class='ovr', penalty='l2', random_state=2017, tol=0.0001,\n",
      "     verbose=0)\n"
     ]
    }
   ],
   "source": [
    "for key in clf_svm.keys():\n",
    "    \n",
    "    print (clf_svm.get(key))"
   ]
  },
  {
   "cell_type": "code",
   "execution_count": 47,
   "metadata": {},
   "outputs": [
    {
     "name": "stdout",
     "output_type": "stream",
     "text": [
      "SVC(C=1.0, cache_size=200, class_weight=None, coef0=0.0,\n",
      "  decision_function_shape='ovr', degree=3, gamma='auto', kernel='rbf',\n",
      "  max_iter=1000, probability=False, random_state=2017, shrinking=True,\n",
      "  tol=0.0001, verbose=False)\n",
      "(14230, 203) (7115, 203)\n"
     ]
    },
    {
     "name": "stderr",
     "output_type": "stream",
     "text": [
      "D:\\Users\\LPZ\\Anaconda3\\lib\\site-packages\\sklearn\\svm\\base.py:218: ConvergenceWarning: Solver terminated early (max_iter=1000).  Consider pre-processing your data with StandardScaler or MinMaxScaler.\n",
      "  % self.max_iter, ConvergenceWarning)\n"
     ]
    },
    {
     "name": "stdout",
     "output_type": "stream",
     "text": [
      "(14230, 203) (7115, 203)\n",
      "(14230, 203) (7115, 203)\n",
      "\n",
      "The training score is: 0.7560392854808665\n",
      "The cv score is: 0.7409305288437175\n",
      "\n",
      "SVC(C=1.0, cache_size=200, class_weight=None, coef0=0.0,\n",
      "  decision_function_shape='ovr', degree=3, gamma='auto', kernel='poly',\n",
      "  max_iter=1000, probability=False, random_state=2017, shrinking=True,\n",
      "  tol=0.0001, verbose=False)\n",
      "(14230, 203) (7115, 203)\n"
     ]
    },
    {
     "name": "stderr",
     "output_type": "stream",
     "text": [
      "D:\\Users\\LPZ\\Anaconda3\\lib\\site-packages\\sklearn\\svm\\base.py:218: ConvergenceWarning: Solver terminated early (max_iter=1000).  Consider pre-processing your data with StandardScaler or MinMaxScaler.\n",
      "  % self.max_iter, ConvergenceWarning)\n"
     ]
    },
    {
     "name": "stdout",
     "output_type": "stream",
     "text": [
      "(14230, 203) (7115, 203)\n",
      "(14230, 203) (7115, 203)\n",
      "\n",
      "The training score is: 0.7289159353615803\n",
      "The cv score is: 0.7164347388076795\n",
      "\n",
      "SVC(C=1.0, cache_size=200, class_weight=None, coef0=0.0,\n",
      "  decision_function_shape='ovr', degree=3, gamma='auto', kernel='linear',\n",
      "  max_iter=1000, probability=False, random_state=2017, shrinking=True,\n",
      "  tol=0.0001, verbose=False)\n",
      "(14230, 203) (7115, 203)\n"
     ]
    },
    {
     "name": "stderr",
     "output_type": "stream",
     "text": [
      "D:\\Users\\LPZ\\Anaconda3\\lib\\site-packages\\sklearn\\svm\\base.py:218: ConvergenceWarning: Solver terminated early (max_iter=1000).  Consider pre-processing your data with StandardScaler or MinMaxScaler.\n",
      "  % self.max_iter, ConvergenceWarning)\n"
     ]
    },
    {
     "name": "stdout",
     "output_type": "stream",
     "text": [
      "(14230, 203) (7115, 203)\n",
      "(14230, 203) (7115, 203)\n",
      "\n",
      "The training score is: 0.6604176857195813\n",
      "The cv score is: 0.6124031409833334\n",
      "\n",
      "LinearSVC(C=1.0, class_weight=None, dual=True, fit_intercept=True,\n",
      "     intercept_scaling=1, loss='squared_hinge', max_iter=1000,\n",
      "     multi_class='ovr', penalty='l2', random_state=2017, tol=0.0001,\n",
      "     verbose=0)\n",
      "(14230, 203) (7115, 203)\n",
      "(14230, 203) (7115, 203)\n",
      "(14230, 203) (7115, 203)\n",
      "\n",
      "The training score is: 0.7832963387488192\n",
      "The cv score is: 0.7519724782173011\n",
      "\n"
     ]
    }
   ],
   "source": [
    "train_score_svm = []\n",
    "cv_score_svm = []\n",
    "\n",
    "kf = KFold(n_splits=3, random_state=RANDOM_STATE)\n",
    "\n",
    "k_ndcg = 5\n",
    "\n",
    "for key in clf_svm.keys():\n",
    "    \n",
    "    clf = clf_svm.get(key)\n",
    "    print (clf)\n",
    "    \n",
    "    train_score_iter = []\n",
    "    cv_score_iter = []\n",
    "\n",
    "    for train_index, test_index in kf.split(xtrain_new, ytrain_new):\n",
    "\n",
    "        X_train, X_test = xtrain_new[train_index, :], xtrain_new[test_index, :]\n",
    "        y_train, y_test = ytrain_new[train_index], ytrain_new[test_index]\n",
    "\n",
    "        print (X_train.shape, X_test.shape)\n",
    "        \n",
    "        clf.fit(X_train, y_train)\n",
    "\n",
    "        y_pred = clf.decision_function(X_test)\n",
    "\n",
    "        # for binary classification: we used to use f1 score, precision, recall, auc score.\n",
    "        # here for Airbnb we use the ndcg evaluation. \n",
    "\n",
    "        train_ndcg_score = ndcg_score(y_train, clf.decision_function(X_train), k = k_ndcg)\n",
    "        cv_ndcg_score = ndcg_score(y_test, y_pred, k=k_ndcg)\n",
    "\n",
    "        train_score_iter.append(train_ndcg_score)\n",
    "        cv_score_iter.append(cv_ndcg_score)\n",
    "        \n",
    "    train_score_svm.append(np.mean(train_score_iter))\n",
    "    cv_score_svm.append(np.mean(cv_score_iter))\n",
    "    \n",
    "    print (\"\\nThe training score is: {}\".format(np.mean(train_score_iter)))\n",
    "    print (\"The cv score is: {}\\n\".format(np.mean(cv_score_iter)))"
   ]
  },
  {
   "cell_type": "code",
   "execution_count": 48,
   "metadata": {},
   "outputs": [
    {
     "data": {
      "image/png": "[encoded data removed]",
      "text/plain": [
       "<matplotlib.figure.Figure at 0x1ba8affce10>"
      ]
     },
     "metadata": {},
     "output_type": "display_data"
    }
   ],
   "source": [
    "ymin = np.min(cv_score_svm)-0.05\n",
    "ymax = np.max(train_score_svm)+0.05\n",
    "\n",
    "x_ticks = clf_svm.keys()\n",
    "\n",
    "plt.figure(figsize=(8,5))\n",
    "plt.plot(range(len(x_ticks)), train_score_svm, 'ro-', label = 'training')\n",
    "plt.plot(range(len(x_ticks)),cv_score_svm, 'bo-', label = 'Cross-validation')\n",
    "\n",
    "plt.xticks(range(len(x_ticks)),x_ticks,rotation = 45, fontsize = 10)\n",
    "plt.xlabel(\"Tree method\", fontsize = 12)\n",
    "plt.ylabel(\"Score\", fontsize = 12)\n",
    "plt.xlim(-0.5, 3.5)\n",
    "plt.ylim(ymin, ymax)\n",
    "\n",
    "plt.legend(loc = 'best', fontsize = 12)\n",
    "plt.title(\"Different SVM methods\")\n",
    "\n",
    "plt.tight_layout()"
   ]
  },
  {
   "cell_type": "markdown",
   "metadata": {},
   "source": [
    "# xgboost"
   ]
  },
  {
   "cell_type": "code",
   "execution_count": 20,
   "metadata": {
    "collapsed": true
   },
   "outputs": [],
   "source": [
    "#从GBDT发展而来\n",
    "import xgboost as xgb"
   ]
  },
  {
   "cell_type": "code",
   "execution_count": 21,
   "metadata": {
    "collapsed": true
   },
   "outputs": [],
   "source": [
    "#实际该函数是用ndcg方法进行预测\n",
    "def customized_eval(preds, dtrain):#preds是结果（概率值），dtrain是个带label的DMatrix\n",
    "    #labels为一列数据，没有进行one-hot-encoding\n",
    "    labels = dtrain.get_label()\n",
    "    top = []\n",
    "    for i in range(preds.shape[0]):\n",
    "        #每组预测概率进行与dcg中相同操作\n",
    "        top.append(np.argsort(preds[i])[::-1][:5])\n",
    "    #repeat：重复一个数组的元素\n",
    "    #==判断各列预测是否与实际相等，相等的为1，其余为0,\n",
    "    #ravel：返回一份视图，类似于引用\n",
    "    mat = np.reshape(np.repeat(labels,np.shape(top)[1]) == np.array(top).ravel(),np.array(top).shape).astype(int)\n",
    "    #计算ndcg的score，预测正确的score为1，所以直接计算出的即为ndcg的score\n",
    "    score = np.mean(np.sum(mat/np.log2(np.arange(2, mat.shape[1] + 2)),axis = 1))\n",
    "    return 'ndcg5', score"
   ]
  },
  {
   "cell_type": "code",
   "execution_count": 23,
   "metadata": {},
   "outputs": [
    {
     "name": "stdout",
     "output_type": "stream",
     "text": [
      "{'colsample_bytree': 0.6, 'max_depth': 6, 'subsample': 0.8, 'eta': 0.3, 'seed': 2017, 'num_class': 12, 'objective': 'multi:softprob'}\n"
     ]
    }
   ],
   "source": [
    "# xgboost parameters\n",
    "#分类器数量\n",
    "NUM_XGB = 200\n",
    "RANDOM_STATE = 2017\n",
    "params = {}\n",
    "#列采样，对每棵树的生成用的特征进行列采样.一般设置为： 0.5-1\n",
    "params['colsample_bytree'] = 0.6\n",
    "#每颗树的最大深度，树高越深，越容易过拟合。 \n",
    "params['max_depth'] = 6\n",
    "#样本随机采样，较低的值使得算法更加保守，防止过拟合，但是太小的值也会造成欠拟合。 \n",
    "params['subsample'] = 0.8\n",
    "#shrinkage参数，用于更新叶子节点权重时，乘以该系数，避免步长过大。\n",
    "#参数值越大，越可能无法收敛。把学习率 eta 设置的小一些，小学习率可以使得后面的学习更加仔细。 \n",
    "params['eta'] = 0.3\n",
    "#随机种子，用于产生可复现的结果 \n",
    "params['seed'] = RANDOM_STATE\n",
    "#分类数\n",
    "params['num_class'] = 12\n",
    "#定义最小化损失函数类型，常用：\n",
    "#binary:logistic：二分类，用logistic\n",
    "#multi:softmax：用于多分类\n",
    "#multi:softprob：与softmax相同，但返回预测概率序列\n",
    "params['objective'] = 'multi:softprob'   # output the probability instead of class. \n",
    "\n",
    "print (params)"
   ]
  },
  {
   "cell_type": "code",
   "execution_count": 24,
   "metadata": {},
   "outputs": [
    {
     "name": "stdout",
     "output_type": "stream",
     "text": [
      "(14230, 203) (7115, 203)\n",
      "[0]\ttrain-merror:0.427829\ttest-merror:0.498946\ttrain-ndcg5:0.794574\ttest-ndcg5:0.747069\n",
      "Multiple eval metrics have been passed: 'test-ndcg5' will be used for early stopping.\n",
      "\n",
      "Will train until test-ndcg5 hasn't improved in 5 rounds.\n",
      "[1]\ttrain-merror:0.42059\ttest-merror:0.498243\ttrain-ndcg5:0.800464\ttest-ndcg5:0.748685\n",
      "[2]\ttrain-merror:0.41539\ttest-merror:0.492481\ttrain-ndcg5:0.804755\ttest-ndcg5:0.752603\n",
      "[3]\ttrain-merror:0.41286\ttest-merror:0.491918\ttrain-ndcg5:0.806844\ttest-ndcg5:0.753189\n",
      "[4]\ttrain-merror:0.411806\ttest-merror:0.488405\ttrain-ndcg5:0.807783\ttest-ndcg5:0.75464\n",
      "[5]\ttrain-merror:0.409206\ttest-merror:0.488826\ttrain-ndcg5:0.808943\ttest-ndcg5:0.754755\n",
      "Stopping. Best iteration:\n",
      "[0]\ttrain-merror:0.427829\ttest-merror:0.498946\ttrain-ndcg5:0.794574\ttest-ndcg5:0.747069\n",
      "\n",
      "\n",
      "The training score is: 0.8089427448752902\n",
      "The cv score is: 0.7547554323839879\n",
      "\n",
      "(14230, 203) (7115, 203)\n",
      "[0]\ttrain-merror:0.464933\ttest-merror:0.460014\ttrain-ndcg5:0.77494\ttest-ndcg5:0.781075\n",
      "Multiple eval metrics have been passed: 'test-ndcg5' will be used for early stopping.\n",
      "\n",
      "Will train until test-ndcg5 hasn't improved in 5 rounds.\n",
      "[1]\ttrain-merror:0.448349\ttest-merror:0.447646\ttrain-ndcg5:0.784864\ttest-ndcg5:0.785197\n",
      "[2]\ttrain-merror:0.441743\ttest-merror:0.447646\ttrain-ndcg5:0.788337\ttest-ndcg5:0.786269\n",
      "[3]\ttrain-merror:0.435348\ttest-merror:0.447646\ttrain-ndcg5:0.792666\ttest-ndcg5:0.786287\n",
      "[4]\ttrain-merror:0.429445\ttest-merror:0.447505\ttrain-ndcg5:0.795975\ttest-ndcg5:0.786977\n",
      "[5]\ttrain-merror:0.429445\ttest-merror:0.450738\ttrain-ndcg5:0.796555\ttest-ndcg5:0.785638\n",
      "Stopping. Best iteration:\n",
      "[0]\ttrain-merror:0.464933\ttest-merror:0.460014\ttrain-ndcg5:0.77494\ttest-ndcg5:0.781075\n",
      "\n",
      "\n",
      "The training score is: 0.7965545053515649\n",
      "The cv score is: 0.7856379457202196\n",
      "\n",
      "(14230, 203) (7115, 203)\n",
      "[0]\ttrain-merror:0.451511\ttest-merror:0.470836\ttrain-ndcg5:0.783848\ttest-ndcg5:0.763872\n",
      "Multiple eval metrics have been passed: 'test-ndcg5' will be used for early stopping.\n",
      "\n",
      "Will train until test-ndcg5 hasn't improved in 5 rounds.\n",
      "[1]\ttrain-merror:0.438862\ttest-merror:0.461701\ttrain-ndcg5:0.790816\ttest-ndcg5:0.771385\n",
      "[2]\ttrain-merror:0.43591\ttest-merror:0.459873\ttrain-ndcg5:0.793663\ttest-ndcg5:0.771924\n",
      "[3]\ttrain-merror:0.43078\ttest-merror:0.466479\ttrain-ndcg5:0.796606\ttest-ndcg5:0.770278\n",
      "[4]\ttrain-merror:0.427758\ttest-merror:0.466198\ttrain-ndcg5:0.799082\ttest-ndcg5:0.77023\n",
      "[5]\ttrain-merror:0.424455\ttest-merror:0.467041\ttrain-ndcg5:0.801419\ttest-ndcg5:0.770405\n",
      "Stopping. Best iteration:\n",
      "[0]\ttrain-merror:0.451511\ttest-merror:0.470836\ttrain-ndcg5:0.783848\ttest-ndcg5:0.763872\n",
      "\n",
      "\n",
      "The training score is: 0.8014192436611842\n",
      "The cv score is: 0.7704049622276954\n",
      "\n",
      "\n",
      "The training score is: 0.8023054979626797\n",
      "The cv score is: 0.7702661134439676\n",
      "\n"
     ]
    }
   ],
   "source": [
    "train_score_iter = []\n",
    "cv_score_iter = []\n",
    "\n",
    "kf = KFold(n_splits = 3, random_state=RANDOM_STATE)\n",
    "\n",
    "k_ndcg = 5\n",
    "\n",
    "\n",
    "for train_index, test_index in kf.split(xtrain_new, ytrain_new):\n",
    "\n",
    "    X_train, X_test = xtrain_new[train_index, :], xtrain_new[test_index, :]\n",
    "    y_train, y_test = ytrain_new[train_index], ytrain_new[test_index]\n",
    "\n",
    "    print (X_train.shape, X_test.shape)\n",
    "    \n",
    "    #使用xgboost\n",
    "    train_xgb = xgb.DMatrix(X_train, label= y_train)\n",
    "    test_xgb = xgb.DMatrix(X_test, label = y_test)\n",
    "    #查看list，会把每组值放到feval的函数中进行评估\n",
    "    watchlist = [ (train_xgb,'train'), (test_xgb, 'test') ]\n",
    "    \n",
    "    #train\n",
    "    bst = xgb.train(params, \n",
    "                     train_xgb,\n",
    "                     NUM_XGB,\n",
    "                     watchlist,\n",
    "                    #定制评测函数\n",
    "                     feval = customized_eval,\n",
    "                    #评测结果输出步数\n",
    "                     verbose_eval = 1,\n",
    "                    #几轮迭代评测不增加，提前结束\n",
    "                     early_stopping_rounds = 5)\n",
    "    \n",
    "    #报错所以注释掉该行\n",
    "    #bst = xgb.train( plst, dtrain, num_round, evallist )\n",
    "\n",
    "    y_pred = np.array(bst.predict(test_xgb))\n",
    "    y_pred_train = np.array(bst.predict(train_xgb))\n",
    "    \n",
    "    # for binary classification: we used to use f1 score, precision, recall, auc score.\n",
    "    # here for Airbnb we use the ndcg evaluation. \n",
    "\n",
    "    train_ndcg_score = ndcg_score(y_train, y_pred_train , k = k_ndcg)\n",
    "    cv_ndcg_score = ndcg_score(y_test, y_pred, k=k_ndcg)\n",
    "\n",
    "    print (\"\\nThe training score is: {}\".format(train_ndcg_score))\n",
    "    print (\"The cv score is: {}\\n\".format(cv_ndcg_score))\n",
    "    \n",
    "    train_score_iter.append(train_ndcg_score)\n",
    "    cv_score_iter.append(cv_ndcg_score)\n",
    "\n",
    "train_score_xgb = np.mean(train_score_iter)\n",
    "cv_score_xgb = np.mean(cv_score_iter)\n",
    "\n",
    "print (\"\\nThe training score is: {}\".format(train_score_xgb))\n",
    "print (\"The cv score is: {}\\n\".format(cv_score_xgb))\n",
    "\n",
    "#merror：多分类误差率，与ndcg方法评估不同"
   ]
  },
  {
   "cell_type": "markdown",
   "metadata": {
    "collapsed": true
   },
   "source": [
    "# Model comparison"
   ]
  },
  {
   "cell_type": "code",
   "execution_count": 74,
   "metadata": {
    "collapsed": true
   },
   "outputs": [],
   "source": [
    "model_cvscore = np.hstack((cv_score_lr, cv_score_tree, cv_score_svm, cv_score_xgb))\n",
    "#加入list将dict_keys转换为列表，否则会在后续画图中报错\n",
    "model_name = np.hstack(('LinearReg', list(clf_tree.keys()),list(clf_svm.keys()), 'Xgboost'))\n"
   ]
  },
  {
   "cell_type": "code",
   "execution_count": 75,
   "metadata": {},
   "outputs": [
    {
     "data": {
      "image/png": "[encoded data removed]",
      "text/plain": [
       "<matplotlib.figure.Figure at 0x1baa03fe2b0>"
      ]
     },
     "metadata": {},
     "output_type": "display_data"
    }
   ],
   "source": [
    "fig = plt.figure(figsize=(8,4))\n",
    "\n",
    "sns.barplot(model_cvscore, model_name, palette='Blues_d')\n",
    "\n",
    "plt.xticks(rotation=0, size = 10)\n",
    "plt.xlabel(\"CV score\", fontsize = 12)\n",
    "plt.ylabel(\"Model\", fontsize = 12)\n",
    "plt.title(\"Cross-validation score for different models\")\n",
    "\n",
    "plt.tight_layout()"
   ]
  },
  {
   "cell_type": "markdown",
   "metadata": {},
   "source": [
    "# Conclusion and tips:\n",
    "\n",
    "1. Further parameters tuning is needed\n",
    "2. Have not included session dataset information.\n",
    "3. More feature engineering can be done to improve\n",
    "4. Only 10% of original dataset is included here. By performing on the whole dataset would expect to have better\n",
    "   performance.\n",
    "5. Model ensemble. "
   ]
  },
  {
   "cell_type": "code",
   "execution_count": null,
   "metadata": {
    "collapsed": true
   },
   "outputs": [],
   "source": []
  },
  {
   "cell_type": "code",
   "execution_count": null,
   "metadata": {
    "collapsed": true
   },
   "outputs": [],
   "source": []
  },
  {
   "cell_type": "code",
   "execution_count": null,
   "metadata": {
    "collapsed": true
   },
   "outputs": [],
   "source": []
  }
 ],
 "metadata": {
  "anaconda-cloud": {},
  "kernelspec": {
   "display_name": "Python 3",
   "language": "python",
   "name": "python3"
  },
  "language_info": {
   "codemirror_mode": {
    "name": "ipython",
    "version": 3
   },
   "file_extension": ".py",
   "mimetype": "text/x-python",
   "name": "python",
   "nbconvert_exporter": "python",
   "pygments_lexer": "ipython3",
   "version": "3.7.3"
  }
 },
 "nbformat": 4,
 "nbformat_minor": 1
}
