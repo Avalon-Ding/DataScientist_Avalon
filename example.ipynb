{
 "cells": [
  {
   "cell_type": "code",
   "execution_count": null,
   "metadata": {},
   "outputs": [],
   "source": [
    "from aip import AipNlp\n",
    "\n",
    "APP_ID = '3028bbf5983244f589876eb27aecfc9e'\n",
    "API_KEY = '9ad1dcd86ff4446ea71b78346e399835'\n",
    "SECRET_KEY = '1e9b975a61864bc19437489f7f782b3e'\n",
    "\n",
    "client = AipNlp(APP_ID, API_KEY, SECRET_KEY)\n",
    "\n",
    "file = pd.read_csv(\"C:\\\\Users\\\\ading\\\\Desktop\\\\Main Folder\\\\Avalon Ding\\\\Main folder\\\\2019-20\\\\Sentimental Analysis\\\\nba_weibo_2019_1024_pm.csv\", encoding = \"utf-8\")\n",
    "print(file.shape)\n",
    "\n",
    "#去掉重复行\n",
    "file.drop_duplicates(subset='Content', keep='first', inplace = True)\n",
    "print(file.shape)\n",
    "\n",
    "#去掉两个关键字（来自于营销号）\n",
    "index_list = []\n",
    "for x in file.Content:\n",
    "    if (\"叶落\" in x) | (\"买球\" in x):\n",
    "        index_list.append(file.loc[file['Content'] == x,:].index[0])\n",
    "        \n",
    "file.drop(index_list, axis = 0, inplace= True)\n",
    "print(file.shape)\n",
    "\n",
    "file['sentiment_score'] = file['Content'].apply(lambda x: client.sentimentClassify(str(x).encode(encoding='gbk',errors='ignore')))"
   ]
  },
  {
   "cell_type": "code",
   "execution_count": null,
   "metadata": {},
   "outputs": [],
   "source": [
    "#!/usr/bin/env python\n",
    "# coding: utf-8\n",
    "\n",
    "import pandas as pd\n",
    "import numpy as np\n",
    "\n",
    "from aip import AipNlp\n",
    "\n",
    "APP_ID = '3028bbf5983244f589876eb27aecfc9e'\n",
    "API_KEY = '9ad1dcd86ff4446ea71b78346e399835'\n",
    "SECRET_KEY = '1e9b975a61864bc19437489f7f782b3e'\n",
    "\n",
    "client = AipNlp(APP_ID, API_KEY, SECRET_KEY)\n",
    "\n",
    "file = pd.read_csv(\"C:\\\\Users\\\\ading\\\\Desktop\\\\Main Folder\\\\Avalon Ding\\\\Main folder\\\\2019-20\\\\Sentimental Analysis\\\\nba_weibo_2019_1024_pm.csv\", encoding=\"utf-8\")\n",
    "print(file.shape)\n",
    "\n",
    "# 去掉重复行\n",
    "file.drop_duplicates(subset='Content', keep='first', inplace=True)\n",
    "print(file.shape)\n",
    "\n",
    "# 去掉两个关键字（来自于营销号）\n",
    "index_list = []\n",
    "for x in file.Content:\n",
    "    if (\"叶落\" in x) | (\"买球\" in x):\n",
    "        index_list.append(file.loc[file['Content'] == x, :].index[0])\n",
    "\n",
    "file.drop(index_list, axis=0, inplace=True)\n",
    "print(file.shape)\n",
    "def get_score(x):\n",
    "    x=client.sentimentClassify(str(x).encode(encoding='gbk', errors='ignore').decode('gbk'))\n",
    "    if 'items' in x.keys():\n",
    "        print(x['items'][0]['sentiment'])\n",
    "        return x['items'][0]['sentiment']\n",
    "    else:\n",
    "        # print(\"error\")\n",
    "        # time.sleep(1.5)\n",
    "        return a(x)\n",
    "file['sentiment_score'] = file['Content'].apply(\n",
    "    lambda x: get_score(x))\n",
    "\n",
    "file.to_csv('a.csv')"
   ]
  }
 ],
 "metadata": {
  "kernelspec": {
   "display_name": "Python 3",
   "language": "python",
   "name": "python3"
  },
  "language_info": {
   "codemirror_mode": {
    "name": "ipython",
    "version": 3
   },
   "file_extension": ".py",
   "mimetype": "text/x-python",
   "name": "python",
   "nbconvert_exporter": "python",
   "pygments_lexer": "ipython3",
   "version": "3.7.3"
  }
 },
 "nbformat": 4,
 "nbformat_minor": 2
}
