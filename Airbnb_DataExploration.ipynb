{
 "cells": [
  {
   "cell_type": "code",
   "execution_count": 1,
   "metadata": {
    "collapsed": true
   },
   "outputs": [],
   "source": [
    "import numpy as np\n",
    "import pandas as pd\n",
    "import matplotlib.pyplot as plt\n",
    "import sklearn as sk\n",
    "%matplotlib inline\n",
    "import datetime\n",
    "import os\n",
    "import seaborn as sns"
   ]
  },
  {
   "cell_type": "code",
   "execution_count": 2,
   "metadata": {
    "collapsed": true
   },
   "outputs": [],
   "source": [
    "#print os.listdir(os.getcwd())"
   ]
  },
  {
   "cell_type": "code",
   "execution_count": 3,
   "metadata": {
    "collapsed": true
   },
   "outputs": [],
   "source": [
    "train = pd.read_csv(\"train_users_2.csv\")\n",
    "test = pd.read_csv(\"test_users.csv\")"
   ]
  },
  {
   "cell_type": "code",
   "execution_count": 4,
   "metadata": {},
   "outputs": [
    {
     "data": {
      "text/html": [
       "<div>\n",
       "<style>\n",
       "    .dataframe thead tr:only-child th {\n",
       "        text-align: right;\n",
       "    }\n",
       "\n",
       "    .dataframe thead th {\n",
       "        text-align: left;\n",
       "    }\n",
       "\n",
       "    .dataframe tbody tr th {\n",
       "        vertical-align: top;\n",
       "    }\n",
       "</style>\n",
       "<table border=\"1\" class=\"dataframe\">\n",
       "  <thead>\n",
       "    <tr style=\"text-align: right;\">\n",
       "      <th></th>\n",
       "      <th>id</th>\n",
       "      <th>date_account_created</th>\n",
       "      <th>timestamp_first_active</th>\n",
       "      <th>date_first_booking</th>\n",
       "      <th>gender</th>\n",
       "      <th>age</th>\n",
       "      <th>signup_method</th>\n",
       "      <th>signup_flow</th>\n",
       "      <th>language</th>\n",
       "      <th>affiliate_channel</th>\n",
       "      <th>affiliate_provider</th>\n",
       "      <th>first_affiliate_tracked</th>\n",
       "      <th>signup_app</th>\n",
       "      <th>first_device_type</th>\n",
       "      <th>first_browser</th>\n",
       "      <th>country_destination</th>\n",
       "    </tr>\n",
       "  </thead>\n",
       "  <tbody>\n",
       "    <tr>\n",
       "      <th>0</th>\n",
       "      <td>gxn3p5htnn</td>\n",
       "      <td>2010-06-28</td>\n",
       "      <td>20090319043255</td>\n",
       "      <td>NaN</td>\n",
       "      <td>-unknown-</td>\n",
       "      <td>NaN</td>\n",
       "      <td>facebook</td>\n",
       "      <td>0</td>\n",
       "      <td>en</td>\n",
       "      <td>direct</td>\n",
       "      <td>direct</td>\n",
       "      <td>untracked</td>\n",
       "      <td>Web</td>\n",
       "      <td>Mac Desktop</td>\n",
       "      <td>Chrome</td>\n",
       "      <td>NDF</td>\n",
       "    </tr>\n",
       "    <tr>\n",
       "      <th>1</th>\n",
       "      <td>820tgsjxq7</td>\n",
       "      <td>2011-05-25</td>\n",
       "      <td>20090523174809</td>\n",
       "      <td>NaN</td>\n",
       "      <td>MALE</td>\n",
       "      <td>38.0</td>\n",
       "      <td>facebook</td>\n",
       "      <td>0</td>\n",
       "      <td>en</td>\n",
       "      <td>seo</td>\n",
       "      <td>google</td>\n",
       "      <td>untracked</td>\n",
       "      <td>Web</td>\n",
       "      <td>Mac Desktop</td>\n",
       "      <td>Chrome</td>\n",
       "      <td>NDF</td>\n",
       "    </tr>\n",
       "    <tr>\n",
       "      <th>2</th>\n",
       "      <td>4ft3gnwmtx</td>\n",
       "      <td>2010-09-28</td>\n",
       "      <td>20090609231247</td>\n",
       "      <td>2010-08-02</td>\n",
       "      <td>FEMALE</td>\n",
       "      <td>56.0</td>\n",
       "      <td>basic</td>\n",
       "      <td>3</td>\n",
       "      <td>en</td>\n",
       "      <td>direct</td>\n",
       "      <td>direct</td>\n",
       "      <td>untracked</td>\n",
       "      <td>Web</td>\n",
       "      <td>Windows Desktop</td>\n",
       "      <td>IE</td>\n",
       "      <td>US</td>\n",
       "    </tr>\n",
       "    <tr>\n",
       "      <th>3</th>\n",
       "      <td>bjjt8pjhuk</td>\n",
       "      <td>2011-12-05</td>\n",
       "      <td>20091031060129</td>\n",
       "      <td>2012-09-08</td>\n",
       "      <td>FEMALE</td>\n",
       "      <td>42.0</td>\n",
       "      <td>facebook</td>\n",
       "      <td>0</td>\n",
       "      <td>en</td>\n",
       "      <td>direct</td>\n",
       "      <td>direct</td>\n",
       "      <td>untracked</td>\n",
       "      <td>Web</td>\n",
       "      <td>Mac Desktop</td>\n",
       "      <td>Firefox</td>\n",
       "      <td>other</td>\n",
       "    </tr>\n",
       "    <tr>\n",
       "      <th>4</th>\n",
       "      <td>87mebub9p4</td>\n",
       "      <td>2010-09-14</td>\n",
       "      <td>20091208061105</td>\n",
       "      <td>2010-02-18</td>\n",
       "      <td>-unknown-</td>\n",
       "      <td>41.0</td>\n",
       "      <td>basic</td>\n",
       "      <td>0</td>\n",
       "      <td>en</td>\n",
       "      <td>direct</td>\n",
       "      <td>direct</td>\n",
       "      <td>untracked</td>\n",
       "      <td>Web</td>\n",
       "      <td>Mac Desktop</td>\n",
       "      <td>Chrome</td>\n",
       "      <td>US</td>\n",
       "    </tr>\n",
       "  </tbody>\n",
       "</table>\n",
       "</div>"
      ],
      "text/plain": [
       "           id date_account_created  timestamp_first_active date_first_booking  \\\n",
       "0  gxn3p5htnn           2010-06-28          20090319043255                NaN   \n",
       "1  820tgsjxq7           2011-05-25          20090523174809                NaN   \n",
       "2  4ft3gnwmtx           2010-09-28          20090609231247         2010-08-02   \n",
       "3  bjjt8pjhuk           2011-12-05          20091031060129         2012-09-08   \n",
       "4  87mebub9p4           2010-09-14          20091208061105         2010-02-18   \n",
       "\n",
       "      gender   age signup_method  signup_flow language affiliate_channel  \\\n",
       "0  -unknown-   NaN      facebook            0       en            direct   \n",
       "1       MALE  38.0      facebook            0       en               seo   \n",
       "2     FEMALE  56.0         basic            3       en            direct   \n",
       "3     FEMALE  42.0      facebook            0       en            direct   \n",
       "4  -unknown-  41.0         basic            0       en            direct   \n",
       "\n",
       "  affiliate_provider first_affiliate_tracked signup_app first_device_type  \\\n",
       "0             direct               untracked        Web       Mac Desktop   \n",
       "1             google               untracked        Web       Mac Desktop   \n",
       "2             direct               untracked        Web   Windows Desktop   \n",
       "3             direct               untracked        Web       Mac Desktop   \n",
       "4             direct               untracked        Web       Mac Desktop   \n",
       "\n",
       "  first_browser country_destination  \n",
       "0        Chrome                 NDF  \n",
       "1        Chrome                 NDF  \n",
       "2            IE                  US  \n",
       "3       Firefox               other  \n",
       "4        Chrome                  US  "
      ]
     },
     "execution_count": 4,
     "metadata": {},
     "output_type": "execute_result"
    }
   ],
   "source": [
    "train.head()"
   ]
  },
  {
   "cell_type": "code",
   "execution_count": 5,
   "metadata": {},
   "outputs": [
    {
     "data": {
      "text/plain": [
       "id                          object\n",
       "date_account_created        object\n",
       "timestamp_first_active       int64\n",
       "date_first_booking          object\n",
       "gender                      object\n",
       "age                        float64\n",
       "signup_method               object\n",
       "signup_flow                  int64\n",
       "language                    object\n",
       "affiliate_channel           object\n",
       "affiliate_provider          object\n",
       "first_affiliate_tracked     object\n",
       "signup_app                  object\n",
       "first_device_type           object\n",
       "first_browser               object\n",
       "country_destination         object\n",
       "dtype: object"
      ]
     },
     "execution_count": 5,
     "metadata": {},
     "output_type": "execute_result"
    }
   ],
   "source": [
    "train.dtypes"
   ]
  },
  {
   "cell_type": "code",
   "execution_count": 6,
   "metadata": {},
   "outputs": [
    {
     "data": {
      "text/html": [
       "<div>\n",
       "<style>\n",
       "    .dataframe thead tr:only-child th {\n",
       "        text-align: right;\n",
       "    }\n",
       "\n",
       "    .dataframe thead th {\n",
       "        text-align: left;\n",
       "    }\n",
       "\n",
       "    .dataframe tbody tr th {\n",
       "        vertical-align: top;\n",
       "    }\n",
       "</style>\n",
       "<table border=\"1\" class=\"dataframe\">\n",
       "  <thead>\n",
       "    <tr style=\"text-align: right;\">\n",
       "      <th></th>\n",
       "      <th>id</th>\n",
       "      <th>date_account_created</th>\n",
       "      <th>timestamp_first_active</th>\n",
       "      <th>date_first_booking</th>\n",
       "      <th>gender</th>\n",
       "      <th>age</th>\n",
       "      <th>signup_method</th>\n",
       "      <th>signup_flow</th>\n",
       "      <th>language</th>\n",
       "      <th>affiliate_channel</th>\n",
       "      <th>affiliate_provider</th>\n",
       "      <th>first_affiliate_tracked</th>\n",
       "      <th>signup_app</th>\n",
       "      <th>first_device_type</th>\n",
       "      <th>first_browser</th>\n",
       "    </tr>\n",
       "  </thead>\n",
       "  <tbody>\n",
       "    <tr>\n",
       "      <th>0</th>\n",
       "      <td>5uwns89zht</td>\n",
       "      <td>2014-07-01</td>\n",
       "      <td>20140701000006</td>\n",
       "      <td>NaN</td>\n",
       "      <td>FEMALE</td>\n",
       "      <td>35.0</td>\n",
       "      <td>facebook</td>\n",
       "      <td>0</td>\n",
       "      <td>en</td>\n",
       "      <td>direct</td>\n",
       "      <td>direct</td>\n",
       "      <td>untracked</td>\n",
       "      <td>Moweb</td>\n",
       "      <td>iPhone</td>\n",
       "      <td>Mobile Safari</td>\n",
       "    </tr>\n",
       "    <tr>\n",
       "      <th>1</th>\n",
       "      <td>jtl0dijy2j</td>\n",
       "      <td>2014-07-01</td>\n",
       "      <td>20140701000051</td>\n",
       "      <td>NaN</td>\n",
       "      <td>-unknown-</td>\n",
       "      <td>NaN</td>\n",
       "      <td>basic</td>\n",
       "      <td>0</td>\n",
       "      <td>en</td>\n",
       "      <td>direct</td>\n",
       "      <td>direct</td>\n",
       "      <td>untracked</td>\n",
       "      <td>Moweb</td>\n",
       "      <td>iPhone</td>\n",
       "      <td>Mobile Safari</td>\n",
       "    </tr>\n",
       "    <tr>\n",
       "      <th>2</th>\n",
       "      <td>xx0ulgorjt</td>\n",
       "      <td>2014-07-01</td>\n",
       "      <td>20140701000148</td>\n",
       "      <td>NaN</td>\n",
       "      <td>-unknown-</td>\n",
       "      <td>NaN</td>\n",
       "      <td>basic</td>\n",
       "      <td>0</td>\n",
       "      <td>en</td>\n",
       "      <td>direct</td>\n",
       "      <td>direct</td>\n",
       "      <td>linked</td>\n",
       "      <td>Web</td>\n",
       "      <td>Windows Desktop</td>\n",
       "      <td>Chrome</td>\n",
       "    </tr>\n",
       "    <tr>\n",
       "      <th>3</th>\n",
       "      <td>6c6puo6ix0</td>\n",
       "      <td>2014-07-01</td>\n",
       "      <td>20140701000215</td>\n",
       "      <td>NaN</td>\n",
       "      <td>-unknown-</td>\n",
       "      <td>NaN</td>\n",
       "      <td>basic</td>\n",
       "      <td>0</td>\n",
       "      <td>en</td>\n",
       "      <td>direct</td>\n",
       "      <td>direct</td>\n",
       "      <td>linked</td>\n",
       "      <td>Web</td>\n",
       "      <td>Windows Desktop</td>\n",
       "      <td>IE</td>\n",
       "    </tr>\n",
       "    <tr>\n",
       "      <th>4</th>\n",
       "      <td>czqhjk3yfe</td>\n",
       "      <td>2014-07-01</td>\n",
       "      <td>20140701000305</td>\n",
       "      <td>NaN</td>\n",
       "      <td>-unknown-</td>\n",
       "      <td>NaN</td>\n",
       "      <td>basic</td>\n",
       "      <td>0</td>\n",
       "      <td>en</td>\n",
       "      <td>direct</td>\n",
       "      <td>direct</td>\n",
       "      <td>untracked</td>\n",
       "      <td>Web</td>\n",
       "      <td>Mac Desktop</td>\n",
       "      <td>Safari</td>\n",
       "    </tr>\n",
       "  </tbody>\n",
       "</table>\n",
       "</div>"
      ],
      "text/plain": [
       "           id date_account_created  timestamp_first_active  \\\n",
       "0  5uwns89zht           2014-07-01          20140701000006   \n",
       "1  jtl0dijy2j           2014-07-01          20140701000051   \n",
       "2  xx0ulgorjt           2014-07-01          20140701000148   \n",
       "3  6c6puo6ix0           2014-07-01          20140701000215   \n",
       "4  czqhjk3yfe           2014-07-01          20140701000305   \n",
       "\n",
       "   date_first_booking     gender   age signup_method  signup_flow language  \\\n",
       "0                 NaN     FEMALE  35.0      facebook            0       en   \n",
       "1                 NaN  -unknown-   NaN         basic            0       en   \n",
       "2                 NaN  -unknown-   NaN         basic            0       en   \n",
       "3                 NaN  -unknown-   NaN         basic            0       en   \n",
       "4                 NaN  -unknown-   NaN         basic            0       en   \n",
       "\n",
       "  affiliate_channel affiliate_provider first_affiliate_tracked signup_app  \\\n",
       "0            direct             direct               untracked      Moweb   \n",
       "1            direct             direct               untracked      Moweb   \n",
       "2            direct             direct                  linked        Web   \n",
       "3            direct             direct                  linked        Web   \n",
       "4            direct             direct               untracked        Web   \n",
       "\n",
       "  first_device_type  first_browser  \n",
       "0            iPhone  Mobile Safari  \n",
       "1            iPhone  Mobile Safari  \n",
       "2   Windows Desktop         Chrome  \n",
       "3   Windows Desktop             IE  \n",
       "4       Mac Desktop         Safari  "
      ]
     },
     "execution_count": 6,
     "metadata": {},
     "output_type": "execute_result"
    }
   ],
   "source": [
    "test.head()"
   ]
  },
  {
   "cell_type": "code",
   "execution_count": 7,
   "metadata": {},
   "outputs": [
    {
     "data": {
      "text/plain": [
       "0     164739\n",
       "25     14659\n",
       "12      9329\n",
       "3       8822\n",
       "2       6881\n",
       "24      4328\n",
       "23      2835\n",
       "1       1047\n",
       "6        301\n",
       "8        240\n",
       "21       196\n",
       "5         36\n",
       "20        14\n",
       "16        11\n",
       "15        10\n",
       "10         2\n",
       "4          1\n",
       "Name: signup_flow, dtype: int64"
      ]
     },
     "execution_count": 7,
     "metadata": {},
     "output_type": "execute_result"
    }
   ],
   "source": [
    "train.signup_flow.value_counts()"
   ]
  },
  {
   "cell_type": "code",
   "execution_count": 8,
   "metadata": {},
   "outputs": [
    {
     "name": "stdout",
     "output_type": "stream",
     "text": [
      "(213451, 16)\n",
      "(62096, 15)\n"
     ]
    }
   ],
   "source": [
    "print  (train.shape)\n",
    "print (test.shape)"
   ]
  },
  {
   "cell_type": "code",
   "execution_count": 9,
   "metadata": {},
   "outputs": [
    {
     "name": "stdout",
     "output_type": "stream",
     "text": [
      "<class 'pandas.core.frame.DataFrame'>\n",
      "RangeIndex: 213451 entries, 0 to 213450\n",
      "Data columns (total 16 columns):\n",
      "id                         213451 non-null object\n",
      "date_account_created       213451 non-null object\n",
      "timestamp_first_active     213451 non-null int64\n",
      "date_first_booking         88908 non-null object\n",
      "gender                     213451 non-null object\n",
      "age                        125461 non-null float64\n",
      "signup_method              213451 non-null object\n",
      "signup_flow                213451 non-null int64\n",
      "language                   213451 non-null object\n",
      "affiliate_channel          213451 non-null object\n",
      "affiliate_provider         213451 non-null object\n",
      "first_affiliate_tracked    207386 non-null object\n",
      "signup_app                 213451 non-null object\n",
      "first_device_type          213451 non-null object\n",
      "first_browser              213451 non-null object\n",
      "country_destination        213451 non-null object\n",
      "dtypes: float64(1), int64(2), object(13)\n",
      "memory usage: 26.1+ MB\n"
     ]
    }
   ],
   "source": [
    "train.info()"
   ]
  },
  {
   "cell_type": "code",
   "execution_count": 10,
   "metadata": {},
   "outputs": [
    {
     "name": "stdout",
     "output_type": "stream",
     "text": [
      "<class 'pandas.core.frame.DataFrame'>\n",
      "RangeIndex: 62096 entries, 0 to 62095\n",
      "Data columns (total 15 columns):\n",
      "id                         62096 non-null object\n",
      "date_account_created       62096 non-null object\n",
      "timestamp_first_active     62096 non-null int64\n",
      "date_first_booking         0 non-null float64\n",
      "gender                     62096 non-null object\n",
      "age                        33220 non-null float64\n",
      "signup_method              62096 non-null object\n",
      "signup_flow                62096 non-null int64\n",
      "language                   62096 non-null object\n",
      "affiliate_channel          62096 non-null object\n",
      "affiliate_provider         62096 non-null object\n",
      "first_affiliate_tracked    62076 non-null object\n",
      "signup_app                 62096 non-null object\n",
      "first_device_type          62096 non-null object\n",
      "first_browser              62096 non-null object\n",
      "dtypes: float64(2), int64(2), object(11)\n",
      "memory usage: 7.1+ MB\n"
     ]
    }
   ],
   "source": [
    "test.info()"
   ]
  },
  {
   "cell_type": "code",
   "execution_count": 11,
   "metadata": {},
   "outputs": [
    {
     "name": "stdout",
     "output_type": "stream",
     "text": [
      "training dataset (213451 rows) null value:\n",
      "\n",
      "id                              0\n",
      "date_account_created            0\n",
      "timestamp_first_active          0\n",
      "date_first_booking         124543\n",
      "gender                          0\n",
      "age                         87990\n",
      "signup_method                   0\n",
      "signup_flow                     0\n",
      "language                        0\n",
      "affiliate_channel               0\n",
      "affiliate_provider              0\n",
      "first_affiliate_tracked      6065\n",
      "signup_app                      0\n",
      "first_device_type               0\n",
      "first_browser                   0\n",
      "country_destination             0\n",
      "dtype: int64\n",
      "\n",
      "******************************\n",
      "\n",
      "test dataset (62096 rows) null value:\n",
      "\n",
      "id                             0\n",
      "date_account_created           0\n",
      "timestamp_first_active         0\n",
      "date_first_booking         62096\n",
      "gender                         0\n",
      "age                        28876\n",
      "signup_method                  0\n",
      "signup_flow                    0\n",
      "language                       0\n",
      "affiliate_channel              0\n",
      "affiliate_provider             0\n",
      "first_affiliate_tracked       20\n",
      "signup_app                     0\n",
      "first_device_type              0\n",
      "first_browser                  0\n",
      "dtype: int64\n"
     ]
    }
   ],
   "source": [
    "print ('training dataset ({} rows) null value:\\n'.format(train.shape[0]))\n",
    "print (train.isnull().sum(axis = 0))\n",
    "print ('\\n' + '***' * 10 + '\\n')\n",
    "print ('test dataset ({} rows) null value:\\n'.format(test.shape[0]))\n",
    "print (test.isnull().sum(axis = 0))"
   ]
  },
  {
   "cell_type": "code",
   "execution_count": 12,
   "metadata": {},
   "outputs": [
    {
     "data": {
      "text/plain": [
       "array(['country_destination'], dtype=object)"
      ]
     },
     "execution_count": 12,
     "metadata": {},
     "output_type": "execute_result"
    }
   ],
   "source": [
    "train_features = train.columns\n",
    "test_features = test.columns\n",
    "\n",
    "np.setdiff1d(train_features, test_features)"
   ]
  },
  {
   "cell_type": "markdown",
   "metadata": {},
   "source": [
    "# Explore each feature "
   ]
  },
  {
   "cell_type": "markdown",
   "metadata": {},
   "source": [
    "# date_account_created "
   ]
  },
  {
   "cell_type": "code",
   "execution_count": 13,
   "metadata": {
    "collapsed": true
   },
   "outputs": [],
   "source": [
    "dac_train = train.date_account_created.value_counts()\n",
    "dac_test = test.date_account_created.value_counts()"
   ]
  },
  {
   "cell_type": "code",
   "execution_count": 14,
   "metadata": {},
   "outputs": [
    {
     "data": {
      "text/plain": [
       "2014-07-23    1105\n",
       "2014-07-22    1052\n",
       "2014-07-17     978\n",
       "2014-07-24     923\n",
       "2014-07-18     892\n",
       "2014-07-21     888\n",
       "2014-08-27     872\n",
       "2014-08-26     841\n",
       "2014-07-29     816\n",
       "2014-08-06     790\n",
       "2014-07-30     786\n",
       "2014-08-12     785\n",
       "2014-08-11     781\n",
       "2014-08-05     772\n",
       "2014-08-28     772\n",
       "2014-07-28     764\n",
       "2014-07-16     757\n",
       "2014-07-25     754\n",
       "2014-09-16     751\n",
       "2014-07-31     751\n",
       "2014-08-14     742\n",
       "2014-08-19     741\n",
       "2014-08-07     739\n",
       "2014-09-10     739\n",
       "2014-08-08     738\n",
       "2014-07-20     738\n",
       "2014-08-13     731\n",
       "2014-09-03     729\n",
       "2014-08-04     728\n",
       "2014-08-25     725\n",
       "              ... \n",
       "2014-08-31     614\n",
       "2014-09-05     612\n",
       "2014-09-17     612\n",
       "2014-08-23     611\n",
       "2014-07-09     610\n",
       "2014-08-17     609\n",
       "2014-07-10     607\n",
       "2014-08-24     606\n",
       "2014-09-19     605\n",
       "2014-08-10     603\n",
       "2014-09-12     600\n",
       "2014-07-01     599\n",
       "2014-09-13     597\n",
       "2014-09-01     592\n",
       "2014-08-02     582\n",
       "2014-09-07     555\n",
       "2014-09-27     548\n",
       "2014-09-06     543\n",
       "2014-09-21     540\n",
       "2014-09-25     533\n",
       "2014-09-14     532\n",
       "2014-09-20     532\n",
       "2014-09-26     531\n",
       "2014-07-11     530\n",
       "2014-09-28     520\n",
       "2014-07-06     475\n",
       "2014-07-12     472\n",
       "2014-07-04     445\n",
       "2014-07-05     421\n",
       "2014-07-13     401\n",
       "Name: date_account_created, Length: 92, dtype: int64"
      ]
     },
     "execution_count": 14,
     "metadata": {},
     "output_type": "execute_result"
    }
   ],
   "source": [
    "dac_test"
   ]
  },
  {
   "cell_type": "code",
   "execution_count": 15,
   "metadata": {},
   "outputs": [
    {
     "name": "stdout",
     "output_type": "stream",
     "text": [
      "training dataset:\n",
      "\n",
      "count    1634.000000\n",
      "mean      130.630967\n",
      "std       139.327895\n",
      "min         1.000000\n",
      "25%        15.000000\n",
      "50%        79.000000\n",
      "75%       201.000000\n",
      "max       674.000000\n",
      "Name: date_account_created, dtype: float64\n",
      "\n",
      "******************************\n",
      "\n",
      "test dataset:\n",
      "\n",
      "count      92.000000\n",
      "mean      674.956522\n",
      "std       122.568116\n",
      "min       401.000000\n",
      "25%       606.750000\n",
      "50%       662.000000\n",
      "75%       739.000000\n",
      "max      1105.000000\n",
      "Name: date_account_created, dtype: float64\n"
     ]
    }
   ],
   "source": [
    "print ('training dataset:\\n')\n",
    "print (dac_train.describe())\n",
    "print ('\\n' + '***' * 10 + '\\n')\n",
    "print ('test dataset:\\n')\n",
    "print (dac_test.describe())"
   ]
  },
  {
   "cell_type": "code",
   "execution_count": 17,
   "metadata": {},
   "outputs": [
    {
     "name": "stdout",
     "output_type": "stream",
     "text": [
      "training dataset: \n",
      "\n",
      "2014-05-13    674\n",
      "2014-06-24    670\n",
      "2014-06-25    636\n",
      "2014-05-20    632\n",
      "2014-05-14    622\n",
      "Name: date_account_created, dtype: int64\n",
      "2010-01-31    1\n",
      "2010-01-08    1\n",
      "2010-04-24    1\n",
      "2010-03-09    1\n",
      "2010-01-03    1\n",
      "Name: date_account_created, dtype: int64\n",
      "\n",
      "\n",
      "test dataset: \n",
      "\n",
      "2014-07-23    1105\n",
      "2014-07-22    1052\n",
      "2014-07-17     978\n",
      "2014-07-24     923\n",
      "2014-07-18     892\n",
      "Name: date_account_created, dtype: int64\n",
      "2014-07-06    475\n",
      "2014-07-12    472\n",
      "2014-07-04    445\n",
      "2014-07-05    421\n",
      "2014-07-13    401\n",
      "Name: date_account_created, dtype: int64\n"
     ]
    }
   ],
   "source": [
    "print (\"training dataset: \\n\")\n",
    "print (dac_train.head(5))\n",
    "print (dac_train.tail(5))\n",
    "\n",
    "print (\"\\n\\ntest dataset: \\n\")\n",
    "print (dac_test.head(5))\n",
    "print (dac_test.tail(5))"
   ]
  },
  {
   "cell_type": "code",
   "execution_count": 19,
   "metadata": {},
   "outputs": [
    {
     "name": "stdout",
     "output_type": "stream",
     "text": [
      "the start date of training dataset is: 2010-01-01 00:00:00\n",
      "the end date of training dataset is: 2014-06-30 00:00:00\n",
      "\n",
      "the start date of test dataset is: 2014-07-01 00:00:00\n",
      "the end date of test dataset is: 2014-09-30 00:00:00\n"
     ]
    }
   ],
   "source": [
    "# find out the datetime information for date_account_created\n",
    "dac_train_date = pd.to_datetime(dac_train.index)\n",
    "\n",
    "print (\"the start date of training dataset is: {}\".format(dac_train_date.min()))\n",
    "print (\"the end date of training dataset is: {}\\n\".format(dac_train_date.max()))\n",
    "\n",
    "dac_test_date = pd.to_datetime(dac_test.index)\n",
    "\n",
    "print (\"the start date of test dataset is: {}\".format(dac_test_date.min()))\n",
    "print (\"the end date of test dataset is: {}\".format(dac_test_date.max()))\n"
   ]
  },
  {
   "cell_type": "code",
   "execution_count": 20,
   "metadata": {
    "collapsed": true
   },
   "outputs": [],
   "source": [
    "# find how many days between the first date in record and the account created date\n",
    "\n",
    "dac_train_day = dac_train_date - dac_train_date.min()\n",
    "dac_test_day = dac_test_date - dac_train_date.min()"
   ]
  },
  {
   "cell_type": "code",
   "execution_count": 21,
   "metadata": {},
   "outputs": [
    {
     "data": {
      "text/plain": [
       "<matplotlib.legend.Legend at 0x2251358f128>"
      ]
     },
     "execution_count": 21,
     "metadata": {},
     "output_type": "execute_result"
    },
    {
     "data": {
      "image/png": "[encoded data removed]",
      "text/plain": [
       "<matplotlib.figure.Figure at 0x2251355acf8>"
      ]
     },
     "metadata": {},
     "output_type": "display_data"
    }
   ],
   "source": [
    "plt.scatter(dac_train_day.days, dac_train.values, color = 'r', label = 'train dataset')\n",
    "plt.scatter(dac_test_day.days, dac_test.values, color = 'b', label = 'test dataset')\n",
    "\n",
    "plt.title(\"Accounts created vs day\")\n",
    "plt.xlabel(\"Days\")\n",
    "plt.ylabel(\"Accounts created\")\n",
    "plt.legend(loc = 'upper left')"
   ]
  },
  {
   "cell_type": "code",
   "execution_count": 23,
   "metadata": {},
   "outputs": [
    {
     "name": "stdout",
     "output_type": "stream",
     "text": [
      "2010-01-01 00:00:00\n"
     ]
    }
   ],
   "source": [
    "# record the first date:\n",
    "start_date = dac_train_date.min()\n",
    "print (start_date)"
   ]
  },
  {
   "cell_type": "markdown",
   "metadata": {},
   "source": [
    "# timestamp_first_active"
   ]
  },
  {
   "cell_type": "code",
   "execution_count": 11,
   "metadata": {},
   "outputs": [
    {
     "name": "stdout",
     "output_type": "stream",
     "text": [
      "training dataset: \n",
      "\n",
      "[1]\n",
      "\n",
      "\n",
      "test dataset: \n",
      "\n",
      "[1]\n"
     ]
    }
   ],
   "source": [
    "tfa_train = train.timestamp_first_active.value_counts()\n",
    "tfa_test = test.timestamp_first_active.value_counts()\n",
    "\n",
    "print (\"training dataset: \\n\")\n",
    "print (tfa_train.unique())\n",
    "\n",
    "print (\"\\n\\ntest dataset: \\n\")\n",
    "print (tfa_test.unique())"
   ]
  },
  {
   "cell_type": "code",
   "execution_count": 9,
   "metadata": {},
   "outputs": [
    {
     "name": "stdout",
     "output_type": "stream",
     "text": [
      "0    20090319043255\n",
      "1    20090523174809\n",
      "2    20090609231247\n",
      "3    20091031060129\n",
      "4    20091208061105\n",
      "Name: timestamp_first_active, dtype: int64\n"
     ]
    }
   ],
   "source": [
    "# note the timestamp_first_active include the information of year, month, day, hr, min and sec. \n",
    "print (train.timestamp_first_active.head(5))"
   ]
  },
  {
   "cell_type": "code",
   "execution_count": 29,
   "metadata": {
    "collapsed": true
   },
   "outputs": [],
   "source": [
    "tfa_train_dt = train.timestamp_first_active.astype(str).apply(lambda x:  \n",
    "                                                                    datetime.datetime(int(x[:4]),\n",
    "                                                                                      int(x[4:6]), \n",
    "                                                                                      int(x[6:8]), \n",
    "                                                                                      int(x[8:10]), \n",
    "                                                                                      int(x[10:12]),\n",
    "                                                                                      int(x[12:])))\n",
    "\n",
    "tfa_test_dt = test.timestamp_first_active.astype(str).apply(lambda x:  \n",
    "                                                                    datetime.datetime(int(x[:4]),\n",
    "                                                                                      int(x[4:6]), \n",
    "                                                                                      int(x[6:8]), \n",
    "                                                                                      int(x[8:10]), \n",
    "                                                                                      int(x[10:12]),\n",
    "                                                                                      int(x[12:])))\n"
   ]
  },
  {
   "cell_type": "code",
   "execution_count": 30,
   "metadata": {},
   "outputs": [
    {
     "data": {
      "text/plain": [
       "count                  213451\n",
       "unique                 213451\n",
       "top       2013-07-01 05:26:34\n",
       "freq                        1\n",
       "first     2009-03-19 04:32:55\n",
       "last      2014-06-30 23:58:24\n",
       "Name: timestamp_first_active, dtype: object"
      ]
     },
     "execution_count": 30,
     "metadata": {},
     "output_type": "execute_result"
    }
   ],
   "source": [
    "tfa_train_dt.describe()"
   ]
  },
  {
   "cell_type": "markdown",
   "metadata": {
    "collapsed": true
   },
   "source": [
    "# date_first_booking"
   ]
  },
  {
   "cell_type": "code",
   "execution_count": 31,
   "metadata": {
    "collapsed": true
   },
   "outputs": [],
   "source": [
    "dfb_train = train.date_first_booking\n",
    "dfb_test = test.date_first_booking"
   ]
  },
  {
   "cell_type": "code",
   "execution_count": 32,
   "metadata": {},
   "outputs": [
    {
     "data": {
      "text/plain": [
       "count          88908\n",
       "unique          1976\n",
       "top       2014-05-22\n",
       "freq             248\n",
       "Name: date_first_booking, dtype: object"
      ]
     },
     "execution_count": 32,
     "metadata": {},
     "output_type": "execute_result"
    }
   ],
   "source": [
    "dfb_train.describe()"
   ]
  },
  {
   "cell_type": "code",
   "execution_count": 33,
   "metadata": {},
   "outputs": [
    {
     "data": {
      "text/plain": [
       "array([ nan])"
      ]
     },
     "execution_count": 33,
     "metadata": {},
     "output_type": "execute_result"
    }
   ],
   "source": [
    "dfb_test.unique()"
   ]
  },
  {
   "cell_type": "markdown",
   "metadata": {
    "collapsed": true
   },
   "source": [
    "The date_first_booking feature for test dataset are all nan. We can drop this feature when building the model."
   ]
  },
  {
   "cell_type": "markdown",
   "metadata": {
    "collapsed": true
   },
   "source": [
    "# Age"
   ]
  },
  {
   "cell_type": "code",
   "execution_count": 34,
   "metadata": {},
   "outputs": [
    {
     "name": "stdout",
     "output_type": "stream",
     "text": [
      "(57,)\n",
      "(2771,)\n",
      "(2,)\n",
      "(417,)\n"
     ]
    }
   ],
   "source": [
    "# note age column has some unphysical values\n",
    "\n",
    "print (train[train.age < 15].age.shape)\n",
    "\n",
    "print (train[train.age > 80].age.shape)\n",
    "\n",
    "print (test[test.age < 15].age.shape)\n",
    "\n",
    "print (test[test.age > 80].age.shape)"
   ]
  },
  {
   "cell_type": "code",
   "execution_count": 35,
   "metadata": {},
   "outputs": [
    {
     "data": {
      "text/plain": [
       "<matplotlib.legend.Legend at 0x2251474d5f8>"
      ]
     },
     "execution_count": 35,
     "metadata": {},
     "output_type": "execute_result"
    },
    {
     "data": {
      "image/png": "[encoded data removed]",
      "text/plain": [
       "<matplotlib.figure.Figure at 0x2251358f198>"
      ]
     },
     "metadata": {},
     "output_type": "display_data"
    }
   ],
   "source": [
    "plt.scatter(train.age.value_counts().index.values, train.age.value_counts().values, color = 'r', label = 'training')\n",
    "plt.scatter(test.age.value_counts().index.values, test.age.value_counts().values, color = 'b', label = 'test')\n",
    "\n",
    "plt.title(\"Counts at different ages\")\n",
    "plt.xlabel(\"Age\")\n",
    "plt.ylabel(\"Counts of id\")\n",
    "plt.legend(loc = 'upper right', fontsize = 15)"
   ]
  },
  {
   "cell_type": "code",
   "execution_count": 36,
   "metadata": {
    "collapsed": true
   },
   "outputs": [],
   "source": [
    "# divide the age column into four parts: missing values, too small age, reasonable age, too large age\n",
    "age_train =[train[train.age.isnull()].age.shape[0],\n",
    "            train.query('age < 15').age.shape[0],\n",
    "            train.query(\"age >= 15 & age <= 80\").age.shape[0],\n",
    "            train.query('age > 80').age.shape[0]]\n",
    "\n",
    "age_test = [test[test.age.isnull()].age.shape[0],\n",
    "            test.query('age < 15').age.shape[0],\n",
    "            test.query(\"age >= 15 & age <= 80\").age.shape[0],\n",
    "            test.query('age > 80').age.shape[0]]\n",
    "\n",
    "columns = ['Null', 'age < 15', 'ReasonableAge', 'age > 80']"
   ]
  },
  {
   "cell_type": "code",
   "execution_count": 37,
   "metadata": {},
   "outputs": [
    {
     "data": {
      "text/plain": [
       "Text(0,0.5,'counts')"
      ]
     },
     "execution_count": 37,
     "metadata": {},
     "output_type": "execute_result"
    },
    {
     "data": {
      "image/png": "[encoded data removed]",
      "text/plain": [
       "<matplotlib.figure.Figure at 0x2251355a160>"
      ]
     },
     "metadata": {},
     "output_type": "display_data"
    }
   ],
   "source": [
    "# plot\n",
    "\n",
    "fig, (ax1,ax2) = plt.subplots(1,2,sharex=True, sharey = True,figsize=(10,5))\n",
    "\n",
    "sns.barplot(columns, age_train, ax = ax1)\n",
    "sns.barplot(columns, age_test, ax = ax2)\n",
    "\n",
    "ax1.set_title('training dataset')\n",
    "ax2.set_title('test dataset')\n",
    "ax1.set_ylabel('counts')"
   ]
  },
  {
   "cell_type": "markdown",
   "metadata": {},
   "source": [
    "# One-hot-encoding features: gender, signup_method, etc..."
   ]
  },
  {
   "cell_type": "code",
   "execution_count": 38,
   "metadata": {
    "collapsed": true
   },
   "outputs": [],
   "source": [
    "# those features have few labels. We can one hot encoding these features in future feature engineering.\n",
    "# let us first do a barplot on those features\n",
    "\n",
    "ohe_feats = ['gender', \n",
    "             'signup_method', \n",
    "             'signup_flow', \n",
    "             'language', \n",
    "             'affiliate_channel', \n",
    "             'affiliate_provider', \n",
    "             'first_affiliate_tracked', \n",
    "             'signup_app', \n",
    "             'first_device_type', \n",
    "             'first_browser']"
   ]
  },
  {
   "cell_type": "code",
   "execution_count": 39,
   "metadata": {
    "collapsed": true
   },
   "outputs": [],
   "source": [
    "def feature_barplot(feature, df_train = train, df_test = test, figsize=(10,5), rot = 90, saveimg = False):\n",
    "    \n",
    "    feat_train = df_train[feature].value_counts()\n",
    "    feat_test = df_test[feature].value_counts()\n",
    "    \n",
    "    fig_feature, (axis1,axis2) = plt.subplots(1,2,sharex=True, sharey = True, figsize = figsize)\n",
    "\n",
    "    sns.barplot(feat_train.index.values, feat_train.values, ax = axis1)\n",
    "    sns.barplot(feat_test.index.values, feat_test.values, ax = axis2)\n",
    "    \n",
    "    axis1.set_xticklabels(axis1.xaxis.get_majorticklabels(), rotation = rot)\n",
    "    axis2.set_xticklabels(axis1.xaxis.get_majorticklabels(), rotation = rot)\n",
    "\n",
    "    axis1.set_title(feature + ' of training dataset')\n",
    "    axis2.set_title(feature + ' of test dataset')\n",
    "    axis1.set_ylabel('Counts')\n",
    "    \n",
    "    plt.tight_layout()\n",
    "    \n",
    "    if saveimg == True:\n",
    "        figname = feature + \".png\"\n",
    "        fig_feature.savefig(figname, dpi = 75)\n"
   ]
  },
  {
   "cell_type": "markdown",
   "metadata": {},
   "source": [
    "# gender"
   ]
  },
  {
   "cell_type": "code",
   "execution_count": 40,
   "metadata": {},
   "outputs": [
    {
     "data": {
      "text/plain": [
       "-unknown-    95688\n",
       "FEMALE       63041\n",
       "MALE         54440\n",
       "OTHER          282\n",
       "Name: gender, dtype: int64"
      ]
     },
     "execution_count": 40,
     "metadata": {},
     "output_type": "execute_result"
    }
   ],
   "source": [
    "train.gender.value_counts()"
   ]
  },
  {
   "cell_type": "code",
   "execution_count": 41,
   "metadata": {},
   "outputs": [
    {
     "data": {
      "text/plain": [
       "-unknown-    33792\n",
       "FEMALE       14483\n",
       "MALE         13769\n",
       "OTHER           52\n",
       "Name: gender, dtype: int64"
      ]
     },
     "execution_count": 41,
     "metadata": {},
     "output_type": "execute_result"
    }
   ],
   "source": [
    "test.gender.value_counts()"
   ]
  },
  {
   "cell_type": "code",
   "execution_count": 42,
   "metadata": {},
   "outputs": [
    {
     "data": {
      "image/png": "[encoded data removed]",
      "text/plain": [
       "<matplotlib.figure.Figure at 0x22513ff5a20>"
      ]
     },
     "metadata": {},
     "output_type": "display_data"
    }
   ],
   "source": [
    "feature_barplot('gender', saveimg = True)"
   ]
  },
  {
   "cell_type": "markdown",
   "metadata": {},
   "source": [
    "# signup_method"
   ]
  },
  {
   "cell_type": "code",
   "execution_count": 43,
   "metadata": {},
   "outputs": [
    {
     "data": {
      "image/png": "[encoded data removed]",
      "text/plain": [
       "<matplotlib.figure.Figure at 0x2251400ada0>"
      ]
     },
     "metadata": {},
     "output_type": "display_data"
    }
   ],
   "source": [
    "feature_barplot('signup_method')"
   ]
  },
  {
   "cell_type": "markdown",
   "metadata": {},
   "source": [
    "# Barplot for all the ohe_features"
   ]
  },
  {
   "cell_type": "code",
   "execution_count": 44,
   "metadata": {
    "scrolled": false
   },
   "outputs": [
    {
     "data": {
      "image/png": "[encoded data removed]",
      "text/plain": [
       "<matplotlib.figure.Figure at 0x225146081d0>"
      ]
     },
     "metadata": {},
     "output_type": "display_data"
    },
    {
     "data": {
      "image/png": "[encoded data removed]",
      "text/plain": [
       "<matplotlib.figure.Figure at 0x22514608080>"
      ]
     },
     "metadata": {},
     "output_type": "display_data"
    },
    {
     "data": {
      "image/png": "[encoded data removed]",
      "text/plain": [
       "<matplotlib.figure.Figure at 0x225145f4e10>"
      ]
     },
     "metadata": {},
     "output_type": "display_data"
    },
    {
     "data": {
      "image/png": "[encoded data removed]",
      "text/plain": [
       "<matplotlib.figure.Figure at 0x22514568320>"
      ]
     },
     "metadata": {},
     "output_type": "display_data"
    },
    {
     "data": {
      "image/png": "[encoded data removed]",
      "text/plain": [
       "<matplotlib.figure.Figure at 0x2251457deb8>"
      ]
     },
     "metadata": {},
     "output_type": "display_data"
    },
    {
     "data": {
      "image/png": "[encoded data removed]",
      "text/plain": [
       "<matplotlib.figure.Figure at 0x22514c7e9b0>"
      ]
     },
     "metadata": {},
     "output_type": "display_data"
    },
    {
     "data": {
      "image/png": "[encoded data removed]",
      "text/plain": [
       "<matplotlib.figure.Figure at 0x22516288be0>"
      ]
     },
     "metadata": {},
     "output_type": "display_data"
    },
    {
     "data": {
      "image/png": "[encoded data removed]",
      "text/plain": [
       "<matplotlib.figure.Figure at 0x22516203e80>"
      ]
     },
     "metadata": {},
     "output_type": "display_data"
    },
    {
     "data": {
      "image/png": "[encoded data removed]",
      "text/plain": [
       "<matplotlib.figure.Figure at 0x225163ee4e0>"
      ]
     },
     "metadata": {},
     "output_type": "display_data"
    },
    {
     "data": {
      "image/png": "[encoded data removed]",
      "text/plain": [
       "<matplotlib.figure.Figure at 0x225164c6198>"
      ]
     },
     "metadata": {},
     "output_type": "display_data"
    }
   ],
   "source": [
    "for feat in ohe_feats:\n",
    "    feature_barplot(feature = feat)"
   ]
  },
  {
   "cell_type": "markdown",
   "metadata": {},
   "source": [
    "# first_affiliate_tracked: missing value inside"
   ]
  },
  {
   "cell_type": "code",
   "execution_count": 45,
   "metadata": {},
   "outputs": [
    {
     "data": {
      "text/plain": [
       "6065"
      ]
     },
     "execution_count": 45,
     "metadata": {},
     "output_type": "execute_result"
    }
   ],
   "source": [
    "# Be careful that this feature has missing values. \n",
    "# Need to treat more carefully. We can replace the missing values with \n",
    "\n",
    "train.first_affiliate_tracked.isnull().sum()"
   ]
  },
  {
   "cell_type": "code",
   "execution_count": 46,
   "metadata": {},
   "outputs": [
    {
     "data": {
      "text/plain": [
       "20"
      ]
     },
     "execution_count": 46,
     "metadata": {},
     "output_type": "execute_result"
    }
   ],
   "source": [
    "test.first_affiliate_tracked.isnull().sum()"
   ]
  },
  {
   "cell_type": "markdown",
   "metadata": {},
   "source": [
    "when perform one hot encoding, set dummy_na = True"
   ]
  },
  {
   "cell_type": "code",
   "execution_count": null,
   "metadata": {
    "collapsed": true
   },
   "outputs": [],
   "source": []
  },
  {
   "cell_type": "code",
   "execution_count": null,
   "metadata": {
    "collapsed": true
   },
   "outputs": [],
   "source": []
  }
 ],
 "metadata": {
  "anaconda-cloud": {},
  "kernelspec": {
   "display_name": "Python 3",
   "language": "python",
   "name": "python3"
  },
  "language_info": {
   "codemirror_mode": {
    "name": "ipython",
    "version": 3
   },
   "file_extension": ".py",
   "mimetype": "text/x-python",
   "name": "python",
   "nbconvert_exporter": "python",
   "pygments_lexer": "ipython3",
   "version": "3.6.3"
  }
 },
 "nbformat": 4,
 "nbformat_minor": 1
}
